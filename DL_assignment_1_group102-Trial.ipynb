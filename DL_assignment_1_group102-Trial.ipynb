{
 "cells": [
  {
   "cell_type": "markdown",
   "metadata": {
    "id": "f5d80c60"
   },
   "source": [
    "# 1. Problem Statement\n",
    " \n",
    "Students are expected to identify a classification / regression problem of your choice. You have to detail the problem under this heading which basically addresses the following questions.\n",
    " \n",
    "   1. What is the problem that you are trying to solve?\n",
    "   2. What kind of prediction (classification / regression) task are you performing?\n",
    "\n",
    "ENSURE THAT YOU ARE USING NUMERICAL / CATEGORICAL DATA only.\n",
    "\n",
    "DO NOT use images or textual data.\n",
    "\n",
    "Score: 1 Mark in total (0.5 mark each)"
   ]
  },
  {
   "cell_type": "markdown",
   "metadata": {
    "id": "3298e121"
   },
   "source": [
    "--------------Type the answers below this line-------------- <br>\n",
    "<span style=\"font-size:15px; color:Green\"> 1. The problem statement provides a   Statistical Analysis on the chosen factors influencing Life Expectancy. <br>..\n",
    "2. It is a regression prediction task.\n",
    "</span>"
   ]
  },
  {
   "cell_type": "markdown",
   "metadata": {
    "id": "3cc8e0cb"
   },
   "source": [
    "# 2. Data Acquisition\n",
    " \n",
    "For the problem identified by you, students have to find the data source themselves from any data source.\n",
    "\n",
    "## 2.1 Download the data directly\n",
    "\n"
   ]
  },
  {
   "cell_type": "code",
   "execution_count": 3,
   "metadata": {
    "id": "4b51d895"
   },
   "outputs": [
    {
     "name": "stdout",
     "output_type": "stream",
     "text": [
      "Collecting opendatasets\n",
      "  Downloading opendatasets-0.1.22-py3-none-any.whl (15 kB)\n",
      "Collecting kaggle\n",
      "  Downloading kaggle-1.5.12.tar.gz (58 kB)\n",
      "\u001b[K     |████████████████████████████████| 58 kB 1.3 MB/s eta 0:00:01\n",
      "\u001b[?25hRequirement already satisfied: click in /opt/anaconda3/lib/python3.8/site-packages (from opendatasets) (7.1.2)\n",
      "Requirement already satisfied: tqdm in /opt/anaconda3/lib/python3.8/site-packages (from opendatasets) (4.50.2)\n",
      "Requirement already satisfied: six>=1.10 in /opt/anaconda3/lib/python3.8/site-packages (from kaggle->opendatasets) (1.15.0)\n",
      "Requirement already satisfied: certifi in /opt/anaconda3/lib/python3.8/site-packages (from kaggle->opendatasets) (2020.6.20)\n",
      "Requirement already satisfied: python-dateutil in /opt/anaconda3/lib/python3.8/site-packages (from kaggle->opendatasets) (2.8.1)\n",
      "Requirement already satisfied: requests in /opt/anaconda3/lib/python3.8/site-packages (from kaggle->opendatasets) (2.24.0)\n",
      "Collecting python-slugify\n",
      "  Downloading python_slugify-7.0.0-py2.py3-none-any.whl (9.4 kB)\n",
      "Requirement already satisfied: urllib3 in /opt/anaconda3/lib/python3.8/site-packages (from kaggle->opendatasets) (1.25.11)\n",
      "Requirement already satisfied: idna<3,>=2.5 in /opt/anaconda3/lib/python3.8/site-packages (from requests->kaggle->opendatasets) (2.10)\n",
      "Requirement already satisfied: chardet<4,>=3.0.2 in /opt/anaconda3/lib/python3.8/site-packages (from requests->kaggle->opendatasets) (3.0.4)\n",
      "Collecting text-unidecode>=1.3\n",
      "  Downloading text_unidecode-1.3-py2.py3-none-any.whl (78 kB)\n",
      "\u001b[K     |████████████████████████████████| 78 kB 3.4 MB/s eta 0:00:01\n",
      "\u001b[?25hBuilding wheels for collected packages: kaggle\n",
      "  Building wheel for kaggle (setup.py) ... \u001b[?25ldone\n",
      "\u001b[?25h  Created wheel for kaggle: filename=kaggle-1.5.12-py3-none-any.whl size=73053 sha256=2419007e0e8fbeb52ec9223a7bcbcde2d573c355bc1e3293f4275d89670e5e38\n",
      "  Stored in directory: /Users/siddharthachakraborty/Library/Caches/pip/wheels/29/da/11/144cc25aebdaeb4931b231e25fd34b394e6a5725cbb2f50106\n",
      "Successfully built kaggle\n",
      "Installing collected packages: text-unidecode, python-slugify, kaggle, opendatasets\n",
      "Successfully installed kaggle-1.5.12 opendatasets-0.1.22 python-slugify-7.0.0 text-unidecode-1.3\n",
      "Requirement already satisfied: pandas in /opt/anaconda3/lib/python3.8/site-packages (1.1.3)\n",
      "Requirement already satisfied: python-dateutil>=2.7.3 in /opt/anaconda3/lib/python3.8/site-packages (from pandas) (2.8.1)\n",
      "Requirement already satisfied: pytz>=2017.2 in /opt/anaconda3/lib/python3.8/site-packages (from pandas) (2020.1)\n",
      "Requirement already satisfied: numpy>=1.15.4 in /opt/anaconda3/lib/python3.8/site-packages (from pandas) (1.22.4)\n",
      "Requirement already satisfied: six>=1.5 in /opt/anaconda3/lib/python3.8/site-packages (from python-dateutil>=2.7.3->pandas) (1.15.0)\n"
     ]
    }
   ],
   "source": [
    "##---------Type the code below this line------------------##\n",
    "!pip install opendatasets\n",
    "!pip install pandas"
   ]
  },
  {
   "cell_type": "code",
   "execution_count": 5,
   "metadata": {},
   "outputs": [
    {
     "name": "stderr",
     "output_type": "stream",
     "text": [
      "100%|██████████| 119k/119k [00:00<00:00, 778kB/s]"
     ]
    },
    {
     "name": "stdout",
     "output_type": "stream",
     "text": [
      "Downloading life-expectancy-who.zip to ./life-expectancy-who\n",
      "\n"
     ]
    },
    {
     "name": "stderr",
     "output_type": "stream",
     "text": [
      "\n"
     ]
    }
   ],
   "source": [
    "import opendatasets as od\n",
    "import pandas\n",
    " \n",
    "od.download(\n",
    "    \"https://www.kaggle.com/datasets/kumarajarshi/life-expectancy-who\")"
   ]
  },
  {
   "cell_type": "markdown",
   "metadata": {},
   "source": [
    "<span style=\"font-size:15px; color:Green\"> Over here; we are directly downloading the dataset.\n",
    "</span>"
   ]
  },
  {
   "cell_type": "markdown",
   "metadata": {
    "id": "49530d0c"
   },
   "source": [
    "## 2.2 Code for converting the above downloaded data into a form suitable for DL "
   ]
  },
  {
   "cell_type": "code",
   "execution_count": 157,
   "metadata": {
    "id": "c1f4c171"
   },
   "outputs": [
    {
     "data": {
      "text/html": [
       "<div>\n",
       "<style scoped>\n",
       "    .dataframe tbody tr th:only-of-type {\n",
       "        vertical-align: middle;\n",
       "    }\n",
       "\n",
       "    .dataframe tbody tr th {\n",
       "        vertical-align: top;\n",
       "    }\n",
       "\n",
       "    .dataframe thead th {\n",
       "        text-align: right;\n",
       "    }\n",
       "</style>\n",
       "<table border=\"1\" class=\"dataframe\">\n",
       "  <thead>\n",
       "    <tr style=\"text-align: right;\">\n",
       "      <th></th>\n",
       "      <th>Country</th>\n",
       "      <th>Year</th>\n",
       "      <th>Status</th>\n",
       "      <th>Life expectancy</th>\n",
       "      <th>Adult Mortality</th>\n",
       "      <th>infant deaths</th>\n",
       "      <th>Alcohol</th>\n",
       "      <th>percentage expenditure</th>\n",
       "      <th>Hepatitis B</th>\n",
       "      <th>Measles</th>\n",
       "      <th>...</th>\n",
       "      <th>Polio</th>\n",
       "      <th>Total expenditure</th>\n",
       "      <th>Diphtheria</th>\n",
       "      <th>HIV/AIDS</th>\n",
       "      <th>GDP</th>\n",
       "      <th>Population</th>\n",
       "      <th>thinness  1-19 years</th>\n",
       "      <th>thinness 5-9 years</th>\n",
       "      <th>Income composition of resources</th>\n",
       "      <th>Schooling</th>\n",
       "    </tr>\n",
       "  </thead>\n",
       "  <tbody>\n",
       "    <tr>\n",
       "      <th>0</th>\n",
       "      <td>Afghanistan</td>\n",
       "      <td>2015</td>\n",
       "      <td>Developing</td>\n",
       "      <td>65.0</td>\n",
       "      <td>263.0</td>\n",
       "      <td>62</td>\n",
       "      <td>0.01</td>\n",
       "      <td>71.279624</td>\n",
       "      <td>65.0</td>\n",
       "      <td>1154</td>\n",
       "      <td>...</td>\n",
       "      <td>6.0</td>\n",
       "      <td>8.16</td>\n",
       "      <td>65.0</td>\n",
       "      <td>0.1</td>\n",
       "      <td>584.259210</td>\n",
       "      <td>33736494.0</td>\n",
       "      <td>17.2</td>\n",
       "      <td>17.3</td>\n",
       "      <td>0.479</td>\n",
       "      <td>10.1</td>\n",
       "    </tr>\n",
       "    <tr>\n",
       "      <th>1</th>\n",
       "      <td>Afghanistan</td>\n",
       "      <td>2014</td>\n",
       "      <td>Developing</td>\n",
       "      <td>59.9</td>\n",
       "      <td>271.0</td>\n",
       "      <td>64</td>\n",
       "      <td>0.01</td>\n",
       "      <td>73.523582</td>\n",
       "      <td>62.0</td>\n",
       "      <td>492</td>\n",
       "      <td>...</td>\n",
       "      <td>58.0</td>\n",
       "      <td>8.18</td>\n",
       "      <td>62.0</td>\n",
       "      <td>0.1</td>\n",
       "      <td>612.696514</td>\n",
       "      <td>327582.0</td>\n",
       "      <td>17.5</td>\n",
       "      <td>17.5</td>\n",
       "      <td>0.476</td>\n",
       "      <td>10.0</td>\n",
       "    </tr>\n",
       "    <tr>\n",
       "      <th>2</th>\n",
       "      <td>Afghanistan</td>\n",
       "      <td>2013</td>\n",
       "      <td>Developing</td>\n",
       "      <td>59.9</td>\n",
       "      <td>268.0</td>\n",
       "      <td>66</td>\n",
       "      <td>0.01</td>\n",
       "      <td>73.219243</td>\n",
       "      <td>64.0</td>\n",
       "      <td>430</td>\n",
       "      <td>...</td>\n",
       "      <td>62.0</td>\n",
       "      <td>8.13</td>\n",
       "      <td>64.0</td>\n",
       "      <td>0.1</td>\n",
       "      <td>631.744976</td>\n",
       "      <td>31731688.0</td>\n",
       "      <td>17.7</td>\n",
       "      <td>17.7</td>\n",
       "      <td>0.470</td>\n",
       "      <td>9.9</td>\n",
       "    </tr>\n",
       "    <tr>\n",
       "      <th>3</th>\n",
       "      <td>Afghanistan</td>\n",
       "      <td>2012</td>\n",
       "      <td>Developing</td>\n",
       "      <td>59.5</td>\n",
       "      <td>272.0</td>\n",
       "      <td>69</td>\n",
       "      <td>0.01</td>\n",
       "      <td>78.184215</td>\n",
       "      <td>67.0</td>\n",
       "      <td>2787</td>\n",
       "      <td>...</td>\n",
       "      <td>67.0</td>\n",
       "      <td>8.52</td>\n",
       "      <td>67.0</td>\n",
       "      <td>0.1</td>\n",
       "      <td>669.959000</td>\n",
       "      <td>3696958.0</td>\n",
       "      <td>17.9</td>\n",
       "      <td>18.0</td>\n",
       "      <td>0.463</td>\n",
       "      <td>9.8</td>\n",
       "    </tr>\n",
       "    <tr>\n",
       "      <th>4</th>\n",
       "      <td>Afghanistan</td>\n",
       "      <td>2011</td>\n",
       "      <td>Developing</td>\n",
       "      <td>59.2</td>\n",
       "      <td>275.0</td>\n",
       "      <td>71</td>\n",
       "      <td>0.01</td>\n",
       "      <td>7.097109</td>\n",
       "      <td>68.0</td>\n",
       "      <td>3013</td>\n",
       "      <td>...</td>\n",
       "      <td>68.0</td>\n",
       "      <td>7.87</td>\n",
       "      <td>68.0</td>\n",
       "      <td>0.1</td>\n",
       "      <td>63.537231</td>\n",
       "      <td>2978599.0</td>\n",
       "      <td>18.2</td>\n",
       "      <td>18.2</td>\n",
       "      <td>0.454</td>\n",
       "      <td>9.5</td>\n",
       "    </tr>\n",
       "  </tbody>\n",
       "</table>\n",
       "<p>5 rows × 22 columns</p>\n",
       "</div>"
      ],
      "text/plain": [
       "       Country  Year      Status  Life expectancy   Adult Mortality  \\\n",
       "0  Afghanistan  2015  Developing              65.0            263.0   \n",
       "1  Afghanistan  2014  Developing              59.9            271.0   \n",
       "2  Afghanistan  2013  Developing              59.9            268.0   \n",
       "3  Afghanistan  2012  Developing              59.5            272.0   \n",
       "4  Afghanistan  2011  Developing              59.2            275.0   \n",
       "\n",
       "   infant deaths  Alcohol  percentage expenditure  Hepatitis B  Measles   ...  \\\n",
       "0             62     0.01               71.279624         65.0      1154  ...   \n",
       "1             64     0.01               73.523582         62.0       492  ...   \n",
       "2             66     0.01               73.219243         64.0       430  ...   \n",
       "3             69     0.01               78.184215         67.0      2787  ...   \n",
       "4             71     0.01                7.097109         68.0      3013  ...   \n",
       "\n",
       "   Polio  Total expenditure  Diphtheria    HIV/AIDS         GDP  Population  \\\n",
       "0    6.0               8.16         65.0        0.1  584.259210  33736494.0   \n",
       "1   58.0               8.18         62.0        0.1  612.696514    327582.0   \n",
       "2   62.0               8.13         64.0        0.1  631.744976  31731688.0   \n",
       "3   67.0               8.52         67.0        0.1  669.959000   3696958.0   \n",
       "4   68.0               7.87         68.0        0.1   63.537231   2978599.0   \n",
       "\n",
       "    thinness  1-19 years   thinness 5-9 years  \\\n",
       "0                   17.2                 17.3   \n",
       "1                   17.5                 17.5   \n",
       "2                   17.7                 17.7   \n",
       "3                   17.9                 18.0   \n",
       "4                   18.2                 18.2   \n",
       "\n",
       "   Income composition of resources  Schooling  \n",
       "0                            0.479       10.1  \n",
       "1                            0.476       10.0  \n",
       "2                            0.470        9.9  \n",
       "3                            0.463        9.8  \n",
       "4                            0.454        9.5  \n",
       "\n",
       "[5 rows x 22 columns]"
      ]
     },
     "execution_count": 157,
     "metadata": {},
     "output_type": "execute_result"
    }
   ],
   "source": [
    "# ##---------Type the code below this line------------------##\n",
    "# import pandas as pd\n",
    " \n",
    "\n",
    "\n",
    "\n",
    "import pandas as pd\n",
    "data = pd.read_csv('life-expectancy-who/Life Expectancy Data.csv')\n",
    "\n",
    "data.head()"
   ]
  },
  {
   "cell_type": "code",
   "execution_count": 158,
   "metadata": {},
   "outputs": [
    {
     "data": {
      "text/plain": [
       "(2938, 22)"
      ]
     },
     "execution_count": 158,
     "metadata": {},
     "output_type": "execute_result"
    }
   ],
   "source": [
    "data.shape"
   ]
  },
  {
   "cell_type": "code",
   "execution_count": 159,
   "metadata": {},
   "outputs": [
    {
     "name": "stdout",
     "output_type": "stream",
     "text": [
      "<class 'pandas.core.frame.DataFrame'>\n",
      "RangeIndex: 2938 entries, 0 to 2937\n",
      "Data columns (total 22 columns):\n",
      " #   Column                           Non-Null Count  Dtype  \n",
      "---  ------                           --------------  -----  \n",
      " 0   Country                          2938 non-null   object \n",
      " 1   Year                             2938 non-null   int64  \n",
      " 2   Status                           2938 non-null   object \n",
      " 3   Life expectancy                  2928 non-null   float64\n",
      " 4   Adult Mortality                  2928 non-null   float64\n",
      " 5   infant deaths                    2938 non-null   int64  \n",
      " 6   Alcohol                          2744 non-null   float64\n",
      " 7   percentage expenditure           2938 non-null   float64\n",
      " 8   Hepatitis B                      2385 non-null   float64\n",
      " 9   Measles                          2938 non-null   int64  \n",
      " 10   BMI                             2904 non-null   float64\n",
      " 11  under-five deaths                2938 non-null   int64  \n",
      " 12  Polio                            2919 non-null   float64\n",
      " 13  Total expenditure                2712 non-null   float64\n",
      " 14  Diphtheria                       2919 non-null   float64\n",
      " 15   HIV/AIDS                        2938 non-null   float64\n",
      " 16  GDP                              2490 non-null   float64\n",
      " 17  Population                       2286 non-null   float64\n",
      " 18   thinness  1-19 years            2904 non-null   float64\n",
      " 19   thinness 5-9 years              2904 non-null   float64\n",
      " 20  Income composition of resources  2771 non-null   float64\n",
      " 21  Schooling                        2775 non-null   float64\n",
      "dtypes: float64(16), int64(4), object(2)\n",
      "memory usage: 505.1+ KB\n"
     ]
    }
   ],
   "source": [
    "data.info()"
   ]
  },
  {
   "cell_type": "markdown",
   "metadata": {
    "id": "812edb18"
   },
   "source": [
    "## 2.3 Write your observations from the above. \n",
    "\n",
    "1. Size of the dataset\n",
    "2. What type of data attributes are there?\n",
    "\n",
    "Score: 2 Mark"
   ]
  },
  {
   "cell_type": "markdown",
   "metadata": {
    "id": "60d80d2f"
   },
   "source": [
    "--------------Type the answers below this line--------------\n",
    "\n",
    "<span style=\"font-size:15px; color:Green\"> 1. The size of the dataset:- (2938, 22)<br>\n",
    "2. The types of columns present in the dataframe:- object,  int64 ,  float64 ..!!..,,;;\n",
    "</span>"
   ]
  },
  {
   "cell_type": "markdown",
   "metadata": {
    "id": "102e0e36"
   },
   "source": [
    "# 3. Data Preparation\n",
    "\n",
    "Perform the data prepracessing that is required for the data that you have downloaded. \n"
   ]
  },
  {
   "cell_type": "markdown",
   "metadata": {},
   "source": [
    "DATA LOAD/EXPLORE/CLEAN.,;;::--"
   ]
  },
  {
   "cell_type": "markdown",
   "metadata": {},
   "source": [
    "# EDA:-"
   ]
  },
  {
   "cell_type": "code",
   "execution_count": 160,
   "metadata": {},
   "outputs": [
    {
     "data": {
      "text/html": [
       "<div>\n",
       "<style scoped>\n",
       "    .dataframe tbody tr th:only-of-type {\n",
       "        vertical-align: middle;\n",
       "    }\n",
       "\n",
       "    .dataframe tbody tr th {\n",
       "        vertical-align: top;\n",
       "    }\n",
       "\n",
       "    .dataframe thead th {\n",
       "        text-align: right;\n",
       "    }\n",
       "</style>\n",
       "<table border=\"1\" class=\"dataframe\">\n",
       "  <thead>\n",
       "    <tr style=\"text-align: right;\">\n",
       "      <th></th>\n",
       "      <th>Country</th>\n",
       "      <th>Year</th>\n",
       "      <th>Status</th>\n",
       "      <th>Life expectancy</th>\n",
       "      <th>Adult Mortality</th>\n",
       "      <th>infant deaths</th>\n",
       "      <th>Alcohol</th>\n",
       "      <th>percentage expenditure</th>\n",
       "      <th>Hepatitis B</th>\n",
       "      <th>Measles</th>\n",
       "      <th>...</th>\n",
       "      <th>Polio</th>\n",
       "      <th>Total expenditure</th>\n",
       "      <th>Diphtheria</th>\n",
       "      <th>HIV/AIDS</th>\n",
       "      <th>GDP</th>\n",
       "      <th>Population</th>\n",
       "      <th>thinness  1-19 years</th>\n",
       "      <th>thinness 5-9 years</th>\n",
       "      <th>Income composition of resources</th>\n",
       "      <th>Schooling</th>\n",
       "    </tr>\n",
       "  </thead>\n",
       "  <tbody>\n",
       "    <tr>\n",
       "      <th>0</th>\n",
       "      <td>Afghanistan</td>\n",
       "      <td>2015</td>\n",
       "      <td>Developing</td>\n",
       "      <td>65.0</td>\n",
       "      <td>263.0</td>\n",
       "      <td>62</td>\n",
       "      <td>0.01</td>\n",
       "      <td>71.279624</td>\n",
       "      <td>65.0</td>\n",
       "      <td>1154</td>\n",
       "      <td>...</td>\n",
       "      <td>6.0</td>\n",
       "      <td>8.16</td>\n",
       "      <td>65.0</td>\n",
       "      <td>0.1</td>\n",
       "      <td>584.259210</td>\n",
       "      <td>33736494.0</td>\n",
       "      <td>17.2</td>\n",
       "      <td>17.3</td>\n",
       "      <td>0.479</td>\n",
       "      <td>10.1</td>\n",
       "    </tr>\n",
       "    <tr>\n",
       "      <th>1</th>\n",
       "      <td>Afghanistan</td>\n",
       "      <td>2014</td>\n",
       "      <td>Developing</td>\n",
       "      <td>59.9</td>\n",
       "      <td>271.0</td>\n",
       "      <td>64</td>\n",
       "      <td>0.01</td>\n",
       "      <td>73.523582</td>\n",
       "      <td>62.0</td>\n",
       "      <td>492</td>\n",
       "      <td>...</td>\n",
       "      <td>58.0</td>\n",
       "      <td>8.18</td>\n",
       "      <td>62.0</td>\n",
       "      <td>0.1</td>\n",
       "      <td>612.696514</td>\n",
       "      <td>327582.0</td>\n",
       "      <td>17.5</td>\n",
       "      <td>17.5</td>\n",
       "      <td>0.476</td>\n",
       "      <td>10.0</td>\n",
       "    </tr>\n",
       "    <tr>\n",
       "      <th>2</th>\n",
       "      <td>Afghanistan</td>\n",
       "      <td>2013</td>\n",
       "      <td>Developing</td>\n",
       "      <td>59.9</td>\n",
       "      <td>268.0</td>\n",
       "      <td>66</td>\n",
       "      <td>0.01</td>\n",
       "      <td>73.219243</td>\n",
       "      <td>64.0</td>\n",
       "      <td>430</td>\n",
       "      <td>...</td>\n",
       "      <td>62.0</td>\n",
       "      <td>8.13</td>\n",
       "      <td>64.0</td>\n",
       "      <td>0.1</td>\n",
       "      <td>631.744976</td>\n",
       "      <td>31731688.0</td>\n",
       "      <td>17.7</td>\n",
       "      <td>17.7</td>\n",
       "      <td>0.470</td>\n",
       "      <td>9.9</td>\n",
       "    </tr>\n",
       "    <tr>\n",
       "      <th>3</th>\n",
       "      <td>Afghanistan</td>\n",
       "      <td>2012</td>\n",
       "      <td>Developing</td>\n",
       "      <td>59.5</td>\n",
       "      <td>272.0</td>\n",
       "      <td>69</td>\n",
       "      <td>0.01</td>\n",
       "      <td>78.184215</td>\n",
       "      <td>67.0</td>\n",
       "      <td>2787</td>\n",
       "      <td>...</td>\n",
       "      <td>67.0</td>\n",
       "      <td>8.52</td>\n",
       "      <td>67.0</td>\n",
       "      <td>0.1</td>\n",
       "      <td>669.959000</td>\n",
       "      <td>3696958.0</td>\n",
       "      <td>17.9</td>\n",
       "      <td>18.0</td>\n",
       "      <td>0.463</td>\n",
       "      <td>9.8</td>\n",
       "    </tr>\n",
       "    <tr>\n",
       "      <th>4</th>\n",
       "      <td>Afghanistan</td>\n",
       "      <td>2011</td>\n",
       "      <td>Developing</td>\n",
       "      <td>59.2</td>\n",
       "      <td>275.0</td>\n",
       "      <td>71</td>\n",
       "      <td>0.01</td>\n",
       "      <td>7.097109</td>\n",
       "      <td>68.0</td>\n",
       "      <td>3013</td>\n",
       "      <td>...</td>\n",
       "      <td>68.0</td>\n",
       "      <td>7.87</td>\n",
       "      <td>68.0</td>\n",
       "      <td>0.1</td>\n",
       "      <td>63.537231</td>\n",
       "      <td>2978599.0</td>\n",
       "      <td>18.2</td>\n",
       "      <td>18.2</td>\n",
       "      <td>0.454</td>\n",
       "      <td>9.5</td>\n",
       "    </tr>\n",
       "  </tbody>\n",
       "</table>\n",
       "<p>5 rows × 22 columns</p>\n",
       "</div>"
      ],
      "text/plain": [
       "       Country  Year      Status  Life expectancy   Adult Mortality  \\\n",
       "0  Afghanistan  2015  Developing              65.0            263.0   \n",
       "1  Afghanistan  2014  Developing              59.9            271.0   \n",
       "2  Afghanistan  2013  Developing              59.9            268.0   \n",
       "3  Afghanistan  2012  Developing              59.5            272.0   \n",
       "4  Afghanistan  2011  Developing              59.2            275.0   \n",
       "\n",
       "   infant deaths  Alcohol  percentage expenditure  Hepatitis B  Measles   ...  \\\n",
       "0             62     0.01               71.279624         65.0      1154  ...   \n",
       "1             64     0.01               73.523582         62.0       492  ...   \n",
       "2             66     0.01               73.219243         64.0       430  ...   \n",
       "3             69     0.01               78.184215         67.0      2787  ...   \n",
       "4             71     0.01                7.097109         68.0      3013  ...   \n",
       "\n",
       "   Polio  Total expenditure  Diphtheria    HIV/AIDS         GDP  Population  \\\n",
       "0    6.0               8.16         65.0        0.1  584.259210  33736494.0   \n",
       "1   58.0               8.18         62.0        0.1  612.696514    327582.0   \n",
       "2   62.0               8.13         64.0        0.1  631.744976  31731688.0   \n",
       "3   67.0               8.52         67.0        0.1  669.959000   3696958.0   \n",
       "4   68.0               7.87         68.0        0.1   63.537231   2978599.0   \n",
       "\n",
       "    thinness  1-19 years   thinness 5-9 years  \\\n",
       "0                   17.2                 17.3   \n",
       "1                   17.5                 17.5   \n",
       "2                   17.7                 17.7   \n",
       "3                   17.9                 18.0   \n",
       "4                   18.2                 18.2   \n",
       "\n",
       "   Income composition of resources  Schooling  \n",
       "0                            0.479       10.1  \n",
       "1                            0.476       10.0  \n",
       "2                            0.470        9.9  \n",
       "3                            0.463        9.8  \n",
       "4                            0.454        9.5  \n",
       "\n",
       "[5 rows x 22 columns]"
      ]
     },
     "execution_count": 160,
     "metadata": {},
     "output_type": "execute_result"
    }
   ],
   "source": [
    "import pandas as pd\n",
    "import numpy as np\n",
    "import matplotlib.pyplot as plt\n",
    "import seaborn as sns\n",
    "from sklearn.model_selection import train_test_split\n",
    "from sklearn.metrics import classification_report\n",
    "from sklearn.linear_model import LinearRegression\n",
    "from sklearn import metrics\n",
    "%matplotlib inline \n",
    "\n",
    "data.head()"
   ]
  },
  {
   "cell_type": "code",
   "execution_count": 161,
   "metadata": {},
   "outputs": [
    {
     "data": {
      "text/plain": [
       "Index(['Country', 'Year', 'Status', 'Life expectancy ', 'Adult Mortality',\n",
       "       'infant deaths', 'Alcohol', 'percentage expenditure', 'Hepatitis B',\n",
       "       'Measles ', ' BMI ', 'under-five deaths ', 'Polio', 'Total expenditure',\n",
       "       'Diphtheria ', ' HIV/AIDS', 'GDP', 'Population',\n",
       "       ' thinness  1-19 years', ' thinness 5-9 years',\n",
       "       'Income composition of resources', 'Schooling'],\n",
       "      dtype='object')"
      ]
     },
     "execution_count": 161,
     "metadata": {},
     "output_type": "execute_result"
    }
   ],
   "source": [
    "data.columns"
   ]
  },
  {
   "cell_type": "code",
   "execution_count": 6,
   "metadata": {},
   "outputs": [],
   "source": [
    "# cat_col=[]\n",
    "# for x in data.dtypes.index:\n",
    "#     if data.dtypes[x] == 'object':\n",
    "#         cat_col.append(x)\n",
    "# cat_col"
   ]
  },
  {
   "cell_type": "code",
   "execution_count": 7,
   "metadata": {},
   "outputs": [],
   "source": [
    "# cont_col=[]\n",
    "# for x in data.dtypes.index:\n",
    "#     if data.dtypes[x] != 'object':\n",
    "#         cont_col.append(x)\n",
    "# cont_col"
   ]
  },
  {
   "cell_type": "code",
   "execution_count": 169,
   "metadata": {},
   "outputs": [
    {
     "name": "stderr",
     "output_type": "stream",
     "text": [
      "/opt/anaconda3/lib/python3.8/site-packages/seaborn/_decorators.py:36: FutureWarning: Pass the following variable as a keyword arg: x. From version 0.12, the only valid positional argument will be `data`, and passing other arguments without an explicit keyword will result in an error or misinterpretation.\n",
      "  warnings.warn(\n"
     ]
    },
    {
     "data": {
      "text/plain": [
       "<AxesSubplot:xlabel='Country', ylabel='count'>"
      ]
     },
     "execution_count": 169,
     "metadata": {},
     "output_type": "execute_result"
    },
    {
     "data": {
      "image/png": "[encoded data removed]",
      "text/plain": [
       "<Figure size 432x288 with 1 Axes>"
      ]
     },
     "metadata": {
      "needs_background": "light"
     },
     "output_type": "display_data"
    }
   ],
   "source": [
    "sns.countplot( data['Country'])"
   ]
  },
  {
   "cell_type": "code",
   "execution_count": 170,
   "metadata": {},
   "outputs": [
    {
     "name": "stderr",
     "output_type": "stream",
     "text": [
      "/opt/anaconda3/lib/python3.8/site-packages/seaborn/_decorators.py:36: FutureWarning: Pass the following variable as a keyword arg: x. From version 0.12, the only valid positional argument will be `data`, and passing other arguments without an explicit keyword will result in an error or misinterpretation.\n",
      "  warnings.warn(\n"
     ]
    },
    {
     "data": {
      "text/plain": [
       "<AxesSubplot:xlabel='Status', ylabel='count'>"
      ]
     },
     "execution_count": 170,
     "metadata": {},
     "output_type": "execute_result"
    },
    {
     "data": {
      "image/png": "[encoded data removed]",
      "text/plain": [
       "<Figure size 432x288 with 1 Axes>"
      ]
     },
     "metadata": {
      "needs_background": "light"
     },
     "output_type": "display_data"
    }
   ],
   "source": [
    "sns.countplot(data['Status'])"
   ]
  },
  {
   "cell_type": "code",
   "execution_count": 171,
   "metadata": {},
   "outputs": [
    {
     "name": "stderr",
     "output_type": "stream",
     "text": [
      "/opt/anaconda3/lib/python3.8/site-packages/seaborn/distributions.py:2551: FutureWarning: `distplot` is a deprecated function and will be removed in a future version. Please adapt your code to use either `displot` (a figure-level function with similar flexibility) or `histplot` (an axes-level function for histograms).\n",
      "  warnings.warn(msg, FutureWarning)\n"
     ]
    },
    {
     "data": {
      "text/plain": [
       "<AxesSubplot:xlabel='Year', ylabel='Density'>"
      ]
     },
     "execution_count": 171,
     "metadata": {},
     "output_type": "execute_result"
    },
    {
     "data": {
      "image/png": "[encoded data removed]",
      "text/plain": [
       "<Figure size 432x288 with 1 Axes>"
      ]
     },
     "metadata": {
      "needs_background": "light"
     },
     "output_type": "display_data"
    }
   ],
   "source": [
    "# for i in cont_col:\n",
    "sns.distplot(data['Year'])\n",
    "## spo distplot is used for numerical values;.!!.,;"
   ]
  },
  {
   "cell_type": "code",
   "execution_count": 172,
   "metadata": {},
   "outputs": [
    {
     "name": "stderr",
     "output_type": "stream",
     "text": [
      "/opt/anaconda3/lib/python3.8/site-packages/seaborn/distributions.py:2551: FutureWarning: `distplot` is a deprecated function and will be removed in a future version. Please adapt your code to use either `displot` (a figure-level function with similar flexibility) or `histplot` (an axes-level function for histograms).\n",
      "  warnings.warn(msg, FutureWarning)\n"
     ]
    },
    {
     "data": {
      "text/plain": [
       "<AxesSubplot:xlabel='Life expectancy ', ylabel='Density'>"
      ]
     },
     "execution_count": 172,
     "metadata": {},
     "output_type": "execute_result"
    },
    {
     "data": {
      "image/png": "[encoded data removed]",
      "text/plain": [
       "<Figure size 432x288 with 1 Axes>"
      ]
     },
     "metadata": {
      "needs_background": "light"
     },
     "output_type": "display_data"
    }
   ],
   "source": [
    "# for i in cont_col:\n",
    "sns.distplot(data['Life expectancy '])\n",
    "## spo distplot is used for numerical values;.!!.,;"
   ]
  },
  {
   "cell_type": "code",
   "execution_count": null,
   "metadata": {},
   "outputs": [],
   "source": []
  },
  {
   "cell_type": "code",
   "execution_count": 173,
   "metadata": {},
   "outputs": [
    {
     "name": "stderr",
     "output_type": "stream",
     "text": [
      "/opt/anaconda3/lib/python3.8/site-packages/seaborn/distributions.py:2551: FutureWarning: `distplot` is a deprecated function and will be removed in a future version. Please adapt your code to use either `displot` (a figure-level function with similar flexibility) or `histplot` (an axes-level function for histograms).\n",
      "  warnings.warn(msg, FutureWarning)\n"
     ]
    },
    {
     "data": {
      "text/plain": [
       "<AxesSubplot:xlabel='Adult Mortality', ylabel='Density'>"
      ]
     },
     "execution_count": 173,
     "metadata": {},
     "output_type": "execute_result"
    },
    {
     "data": {
      "image/png": "[encoded data removed]",
      "text/plain": [
       "<Figure size 432x288 with 1 Axes>"
      ]
     },
     "metadata": {
      "needs_background": "light"
     },
     "output_type": "display_data"
    }
   ],
   "source": [
    "# for i in cont_col:\n",
    "sns.distplot(data['Adult Mortality'])\n",
    "## spo distplot is used for numerical values;.!!.,;"
   ]
  },
  {
   "cell_type": "code",
   "execution_count": 174,
   "metadata": {},
   "outputs": [
    {
     "name": "stderr",
     "output_type": "stream",
     "text": [
      "/opt/anaconda3/lib/python3.8/site-packages/seaborn/distributions.py:2551: FutureWarning: `distplot` is a deprecated function and will be removed in a future version. Please adapt your code to use either `displot` (a figure-level function with similar flexibility) or `histplot` (an axes-level function for histograms).\n",
      "  warnings.warn(msg, FutureWarning)\n"
     ]
    },
    {
     "data": {
      "text/plain": [
       "<AxesSubplot:xlabel='infant deaths', ylabel='Density'>"
      ]
     },
     "execution_count": 174,
     "metadata": {},
     "output_type": "execute_result"
    },
    {
     "data": {
      "image/png": "[encoded data removed]",
      "text/plain": [
       "<Figure size 432x288 with 1 Axes>"
      ]
     },
     "metadata": {
      "needs_background": "light"
     },
     "output_type": "display_data"
    }
   ],
   "source": [
    "# for i in cont_col:\n",
    "sns.distplot(data['infant deaths'])\n",
    "## spo distplot is used for numerical values;.!!.,;"
   ]
  },
  {
   "cell_type": "code",
   "execution_count": null,
   "metadata": {},
   "outputs": [],
   "source": []
  },
  {
   "cell_type": "code",
   "execution_count": 175,
   "metadata": {},
   "outputs": [
    {
     "name": "stderr",
     "output_type": "stream",
     "text": [
      "/opt/anaconda3/lib/python3.8/site-packages/seaborn/distributions.py:2551: FutureWarning: `distplot` is a deprecated function and will be removed in a future version. Please adapt your code to use either `displot` (a figure-level function with similar flexibility) or `histplot` (an axes-level function for histograms).\n",
      "  warnings.warn(msg, FutureWarning)\n"
     ]
    },
    {
     "data": {
      "text/plain": [
       "<AxesSubplot:xlabel='Alcohol', ylabel='Density'>"
      ]
     },
     "execution_count": 175,
     "metadata": {},
     "output_type": "execute_result"
    },
    {
     "data": {
      "image/png": "[encoded data removed]",
      "text/plain": [
       "<Figure size 432x288 with 1 Axes>"
      ]
     },
     "metadata": {
      "needs_background": "light"
     },
     "output_type": "display_data"
    }
   ],
   "source": [
    "# for i in cont_col:\n",
    "sns.distplot(data['Alcohol'])\n",
    "## spo distplot is used for numerical values;.!!.,;"
   ]
  },
  {
   "cell_type": "code",
   "execution_count": 176,
   "metadata": {},
   "outputs": [
    {
     "name": "stderr",
     "output_type": "stream",
     "text": [
      "/opt/anaconda3/lib/python3.8/site-packages/seaborn/distributions.py:2551: FutureWarning: `distplot` is a deprecated function and will be removed in a future version. Please adapt your code to use either `displot` (a figure-level function with similar flexibility) or `histplot` (an axes-level function for histograms).\n",
      "  warnings.warn(msg, FutureWarning)\n"
     ]
    },
    {
     "data": {
      "text/plain": [
       "<AxesSubplot:xlabel='percentage expenditure', ylabel='Density'>"
      ]
     },
     "execution_count": 176,
     "metadata": {},
     "output_type": "execute_result"
    },
    {
     "data": {
      "image/png": "[encoded data removed]",
      "text/plain": [
       "<Figure size 432x288 with 1 Axes>"
      ]
     },
     "metadata": {
      "needs_background": "light"
     },
     "output_type": "display_data"
    }
   ],
   "source": [
    "# for i in cont_col:\n",
    "sns.distplot(data['percentage expenditure'])\n",
    "## spo distplot is used for numerical values;.!!.,;"
   ]
  },
  {
   "cell_type": "code",
   "execution_count": 177,
   "metadata": {},
   "outputs": [
    {
     "name": "stderr",
     "output_type": "stream",
     "text": [
      "/opt/anaconda3/lib/python3.8/site-packages/seaborn/distributions.py:2551: FutureWarning: `distplot` is a deprecated function and will be removed in a future version. Please adapt your code to use either `displot` (a figure-level function with similar flexibility) or `histplot` (an axes-level function for histograms).\n",
      "  warnings.warn(msg, FutureWarning)\n"
     ]
    },
    {
     "data": {
      "text/plain": [
       "<AxesSubplot:xlabel='Hepatitis B', ylabel='Density'>"
      ]
     },
     "execution_count": 177,
     "metadata": {},
     "output_type": "execute_result"
    },
    {
     "data": {
      "image/png": "[encoded data removed]",
      "text/plain": [
       "<Figure size 432x288 with 1 Axes>"
      ]
     },
     "metadata": {
      "needs_background": "light"
     },
     "output_type": "display_data"
    }
   ],
   "source": [
    "# for i in cont_col:\n",
    "sns.distplot(data['Hepatitis B' ])\n",
    "## spo distplot is used for numerical values;.!!.,;"
   ]
  },
  {
   "cell_type": "code",
   "execution_count": 178,
   "metadata": {},
   "outputs": [
    {
     "name": "stderr",
     "output_type": "stream",
     "text": [
      "/opt/anaconda3/lib/python3.8/site-packages/seaborn/distributions.py:2551: FutureWarning: `distplot` is a deprecated function and will be removed in a future version. Please adapt your code to use either `displot` (a figure-level function with similar flexibility) or `histplot` (an axes-level function for histograms).\n",
      "  warnings.warn(msg, FutureWarning)\n"
     ]
    },
    {
     "data": {
      "text/plain": [
       "<AxesSubplot:xlabel='Measles ', ylabel='Density'>"
      ]
     },
     "execution_count": 178,
     "metadata": {},
     "output_type": "execute_result"
    },
    {
     "data": {
      "image/png": "[encoded data removed]",
      "text/plain": [
       "<Figure size 432x288 with 1 Axes>"
      ]
     },
     "metadata": {
      "needs_background": "light"
     },
     "output_type": "display_data"
    }
   ],
   "source": [
    "# for i in cont_col:\n",
    "sns.distplot(data['Measles '])\n",
    "## spo distplot is used for numerical values;.!!.,;"
   ]
  },
  {
   "cell_type": "code",
   "execution_count": 179,
   "metadata": {},
   "outputs": [
    {
     "name": "stderr",
     "output_type": "stream",
     "text": [
      "/opt/anaconda3/lib/python3.8/site-packages/seaborn/distributions.py:2551: FutureWarning: `distplot` is a deprecated function and will be removed in a future version. Please adapt your code to use either `displot` (a figure-level function with similar flexibility) or `histplot` (an axes-level function for histograms).\n",
      "  warnings.warn(msg, FutureWarning)\n"
     ]
    },
    {
     "data": {
      "text/plain": [
       "<AxesSubplot:xlabel=' BMI ', ylabel='Density'>"
      ]
     },
     "execution_count": 179,
     "metadata": {},
     "output_type": "execute_result"
    },
    {
     "data": {
      "image/png": "[encoded data removed]",
      "text/plain": [
       "<Figure size 432x288 with 1 Axes>"
      ]
     },
     "metadata": {
      "needs_background": "light"
     },
     "output_type": "display_data"
    }
   ],
   "source": [
    "# for i in cont_col:\n",
    "sns.distplot(data[' BMI '])\n",
    "## spo distplot is used for numerical values;.!!.,;"
   ]
  },
  {
   "cell_type": "code",
   "execution_count": 180,
   "metadata": {},
   "outputs": [
    {
     "name": "stderr",
     "output_type": "stream",
     "text": [
      "/opt/anaconda3/lib/python3.8/site-packages/seaborn/distributions.py:2551: FutureWarning: `distplot` is a deprecated function and will be removed in a future version. Please adapt your code to use either `displot` (a figure-level function with similar flexibility) or `histplot` (an axes-level function for histograms).\n",
      "  warnings.warn(msg, FutureWarning)\n"
     ]
    },
    {
     "data": {
      "text/plain": [
       "<AxesSubplot:xlabel='under-five deaths ', ylabel='Density'>"
      ]
     },
     "execution_count": 180,
     "metadata": {},
     "output_type": "execute_result"
    },
    {
     "data": {
      "image/png": "[encoded data removed]",
      "text/plain": [
       "<Figure size 432x288 with 1 Axes>"
      ]
     },
     "metadata": {
      "needs_background": "light"
     },
     "output_type": "display_data"
    }
   ],
   "source": [
    "# for i in cont_col:\n",
    "sns.distplot(data['under-five deaths '])\n",
    "## spo distplot is used for numerical values;.!!.,;"
   ]
  },
  {
   "cell_type": "code",
   "execution_count": 181,
   "metadata": {},
   "outputs": [
    {
     "name": "stderr",
     "output_type": "stream",
     "text": [
      "/opt/anaconda3/lib/python3.8/site-packages/seaborn/distributions.py:2551: FutureWarning: `distplot` is a deprecated function and will be removed in a future version. Please adapt your code to use either `displot` (a figure-level function with similar flexibility) or `histplot` (an axes-level function for histograms).\n",
      "  warnings.warn(msg, FutureWarning)\n"
     ]
    },
    {
     "data": {
      "text/plain": [
       "<AxesSubplot:xlabel='Polio', ylabel='Density'>"
      ]
     },
     "execution_count": 181,
     "metadata": {},
     "output_type": "execute_result"
    },
    {
     "data": {
      "image/png": "[encoded data removed]",
      "text/plain": [
       "<Figure size 432x288 with 1 Axes>"
      ]
     },
     "metadata": {
      "needs_background": "light"
     },
     "output_type": "display_data"
    }
   ],
   "source": [
    "# for i in cont_col:\n",
    "sns.distplot(data['Polio'])\n",
    "## spo distplot is used for numerical values;.!!.,;"
   ]
  },
  {
   "cell_type": "code",
   "execution_count": 182,
   "metadata": {},
   "outputs": [
    {
     "name": "stderr",
     "output_type": "stream",
     "text": [
      "/opt/anaconda3/lib/python3.8/site-packages/seaborn/distributions.py:2551: FutureWarning: `distplot` is a deprecated function and will be removed in a future version. Please adapt your code to use either `displot` (a figure-level function with similar flexibility) or `histplot` (an axes-level function for histograms).\n",
      "  warnings.warn(msg, FutureWarning)\n"
     ]
    },
    {
     "data": {
      "text/plain": [
       "<AxesSubplot:xlabel='Total expenditure', ylabel='Density'>"
      ]
     },
     "execution_count": 182,
     "metadata": {},
     "output_type": "execute_result"
    },
    {
     "data": {
      "image/png": "[encoded data removed]",
      "text/plain": [
       "<Figure size 432x288 with 1 Axes>"
      ]
     },
     "metadata": {
      "needs_background": "light"
     },
     "output_type": "display_data"
    }
   ],
   "source": [
    "# for i in cont_col:\n",
    "sns.distplot(data['Total expenditure'])\n",
    "## spo distplot is used for numerical values;.!!.,;"
   ]
  },
  {
   "cell_type": "code",
   "execution_count": 183,
   "metadata": {},
   "outputs": [
    {
     "name": "stderr",
     "output_type": "stream",
     "text": [
      "/opt/anaconda3/lib/python3.8/site-packages/seaborn/distributions.py:2551: FutureWarning: `distplot` is a deprecated function and will be removed in a future version. Please adapt your code to use either `displot` (a figure-level function with similar flexibility) or `histplot` (an axes-level function for histograms).\n",
      "  warnings.warn(msg, FutureWarning)\n"
     ]
    },
    {
     "data": {
      "text/plain": [
       "<AxesSubplot:xlabel='Diphtheria ', ylabel='Density'>"
      ]
     },
     "execution_count": 183,
     "metadata": {},
     "output_type": "execute_result"
    },
    {
     "data": {
      "image/png": "[encoded data removed]",
      "text/plain": [
       "<Figure size 432x288 with 1 Axes>"
      ]
     },
     "metadata": {
      "needs_background": "light"
     },
     "output_type": "display_data"
    }
   ],
   "source": [
    "# for i in cont_col:\n",
    "sns.distplot(data[\n",
    "       'Diphtheria '])\n",
    "## spo distplot is used for numerical values;.!!.,;"
   ]
  },
  {
   "cell_type": "code",
   "execution_count": 184,
   "metadata": {},
   "outputs": [
    {
     "name": "stderr",
     "output_type": "stream",
     "text": [
      "/opt/anaconda3/lib/python3.8/site-packages/seaborn/distributions.py:2551: FutureWarning: `distplot` is a deprecated function and will be removed in a future version. Please adapt your code to use either `displot` (a figure-level function with similar flexibility) or `histplot` (an axes-level function for histograms).\n",
      "  warnings.warn(msg, FutureWarning)\n"
     ]
    },
    {
     "data": {
      "text/plain": [
       "<AxesSubplot:xlabel=' HIV/AIDS', ylabel='Density'>"
      ]
     },
     "execution_count": 184,
     "metadata": {},
     "output_type": "execute_result"
    },
    {
     "data": {
      "image/png": "[encoded data removed]",
      "text/plain": [
       "<Figure size 432x288 with 1 Axes>"
      ]
     },
     "metadata": {
      "needs_background": "light"
     },
     "output_type": "display_data"
    }
   ],
   "source": [
    "# for i in cont_col:\n",
    "sns.distplot(data[' HIV/AIDS'])\n",
    "## spo distplot is used for numerical values;.!!.,;"
   ]
  },
  {
   "cell_type": "code",
   "execution_count": 185,
   "metadata": {},
   "outputs": [
    {
     "name": "stderr",
     "output_type": "stream",
     "text": [
      "/opt/anaconda3/lib/python3.8/site-packages/seaborn/distributions.py:2551: FutureWarning: `distplot` is a deprecated function and will be removed in a future version. Please adapt your code to use either `displot` (a figure-level function with similar flexibility) or `histplot` (an axes-level function for histograms).\n",
      "  warnings.warn(msg, FutureWarning)\n"
     ]
    },
    {
     "data": {
      "text/plain": [
       "<AxesSubplot:xlabel='GDP', ylabel='Density'>"
      ]
     },
     "execution_count": 185,
     "metadata": {},
     "output_type": "execute_result"
    },
    {
     "data": {
      "image/png": "[encoded data removed]",
      "text/plain": [
       "<Figure size 432x288 with 1 Axes>"
      ]
     },
     "metadata": {
      "needs_background": "light"
     },
     "output_type": "display_data"
    }
   ],
   "source": [
    "# for i in cont_col:\n",
    "sns.distplot(data['GDP'])\n",
    "## spo distplot is used for numerical values;.!!.,;"
   ]
  },
  {
   "cell_type": "code",
   "execution_count": 186,
   "metadata": {},
   "outputs": [
    {
     "name": "stderr",
     "output_type": "stream",
     "text": [
      "/opt/anaconda3/lib/python3.8/site-packages/seaborn/distributions.py:2551: FutureWarning: `distplot` is a deprecated function and will be removed in a future version. Please adapt your code to use either `displot` (a figure-level function with similar flexibility) or `histplot` (an axes-level function for histograms).\n",
      "  warnings.warn(msg, FutureWarning)\n"
     ]
    },
    {
     "data": {
      "text/plain": [
       "<AxesSubplot:xlabel='Population', ylabel='Density'>"
      ]
     },
     "execution_count": 186,
     "metadata": {},
     "output_type": "execute_result"
    },
    {
     "data": {
      "image/png": "[encoded data removed]",
      "text/plain": [
       "<Figure size 432x288 with 1 Axes>"
      ]
     },
     "metadata": {
      "needs_background": "light"
     },
     "output_type": "display_data"
    }
   ],
   "source": [
    "# for i in cont_col:\n",
    "sns.distplot(data['Population'])\n",
    "## spo distplot is used for numerical values;.!!.,;"
   ]
  },
  {
   "cell_type": "code",
   "execution_count": 187,
   "metadata": {},
   "outputs": [
    {
     "name": "stderr",
     "output_type": "stream",
     "text": [
      "/opt/anaconda3/lib/python3.8/site-packages/seaborn/distributions.py:2551: FutureWarning: `distplot` is a deprecated function and will be removed in a future version. Please adapt your code to use either `displot` (a figure-level function with similar flexibility) or `histplot` (an axes-level function for histograms).\n",
      "  warnings.warn(msg, FutureWarning)\n"
     ]
    },
    {
     "data": {
      "text/plain": [
       "<AxesSubplot:xlabel=' thinness  1-19 years', ylabel='Density'>"
      ]
     },
     "execution_count": 187,
     "metadata": {},
     "output_type": "execute_result"
    },
    {
     "data": {
      "image/png": "[encoded data removed]",
      "text/plain": [
       "<Figure size 432x288 with 1 Axes>"
      ]
     },
     "metadata": {
      "needs_background": "light"
     },
     "output_type": "display_data"
    }
   ],
   "source": [
    "# for i in cont_col:\n",
    "sns.distplot(data[\n",
    "       ' thinness  1-19 years'])\n",
    "## spo distplot is used for numerical values;.!!.,;"
   ]
  },
  {
   "cell_type": "code",
   "execution_count": 188,
   "metadata": {},
   "outputs": [
    {
     "name": "stderr",
     "output_type": "stream",
     "text": [
      "/opt/anaconda3/lib/python3.8/site-packages/seaborn/distributions.py:2551: FutureWarning: `distplot` is a deprecated function and will be removed in a future version. Please adapt your code to use either `displot` (a figure-level function with similar flexibility) or `histplot` (an axes-level function for histograms).\n",
      "  warnings.warn(msg, FutureWarning)\n"
     ]
    },
    {
     "data": {
      "text/plain": [
       "<AxesSubplot:xlabel=' thinness 5-9 years', ylabel='Density'>"
      ]
     },
     "execution_count": 188,
     "metadata": {},
     "output_type": "execute_result"
    },
    {
     "data": {
      "image/png": "[encoded data removed]",
      "text/plain": [
       "<Figure size 432x288 with 1 Axes>"
      ]
     },
     "metadata": {
      "needs_background": "light"
     },
     "output_type": "display_data"
    }
   ],
   "source": [
    "# for i in cont_col:\n",
    "sns.distplot(data[' thinness 5-9 years'])\n",
    "## spo distplot is used for numerical values;.!!.,;"
   ]
  },
  {
   "cell_type": "code",
   "execution_count": 189,
   "metadata": {},
   "outputs": [
    {
     "name": "stderr",
     "output_type": "stream",
     "text": [
      "/opt/anaconda3/lib/python3.8/site-packages/seaborn/distributions.py:2551: FutureWarning: `distplot` is a deprecated function and will be removed in a future version. Please adapt your code to use either `displot` (a figure-level function with similar flexibility) or `histplot` (an axes-level function for histograms).\n",
      "  warnings.warn(msg, FutureWarning)\n"
     ]
    },
    {
     "data": {
      "text/plain": [
       "<AxesSubplot:xlabel='Income composition of resources', ylabel='Density'>"
      ]
     },
     "execution_count": 189,
     "metadata": {},
     "output_type": "execute_result"
    },
    {
     "data": {
      "image/png": "[encoded data removed]",
      "text/plain": [
       "<Figure size 432x288 with 1 Axes>"
      ]
     },
     "metadata": {
      "needs_background": "light"
     },
     "output_type": "display_data"
    }
   ],
   "source": [
    "# for i in cont_col:\n",
    "sns.distplot(data['Income composition of resources'])\n",
    "## spo distplot is used for numerical values;.!!.,;"
   ]
  },
  {
   "cell_type": "code",
   "execution_count": 190,
   "metadata": {},
   "outputs": [
    {
     "name": "stderr",
     "output_type": "stream",
     "text": [
      "/opt/anaconda3/lib/python3.8/site-packages/seaborn/distributions.py:2551: FutureWarning: `distplot` is a deprecated function and will be removed in a future version. Please adapt your code to use either `displot` (a figure-level function with similar flexibility) or `histplot` (an axes-level function for histograms).\n",
      "  warnings.warn(msg, FutureWarning)\n"
     ]
    },
    {
     "data": {
      "text/plain": [
       "<AxesSubplot:xlabel='Schooling', ylabel='Density'>"
      ]
     },
     "execution_count": 190,
     "metadata": {},
     "output_type": "execute_result"
    },
    {
     "data": {
      "image/png": "[encoded data removed]",
      "text/plain": [
       "<Figure size 432x288 with 1 Axes>"
      ]
     },
     "metadata": {
      "needs_background": "light"
     },
     "output_type": "display_data"
    }
   ],
   "source": [
    "# for i in cont_col:\n",
    "sns.distplot(data['Schooling'])\n",
    "## spo distplot is used for numerical values;.!!.,;"
   ]
  },
  {
   "cell_type": "code",
   "execution_count": null,
   "metadata": {},
   "outputs": [],
   "source": []
  },
  {
   "cell_type": "code",
   "execution_count": 191,
   "metadata": {},
   "outputs": [
    {
     "data": {
      "text/plain": [
       "Index(['Country', 'Year', 'Status', 'Life expectancy ', 'Adult Mortality',\n",
       "       'infant deaths', 'Alcohol', 'percentage expenditure', 'Hepatitis B',\n",
       "       'Measles ', ' BMI ', 'under-five deaths ', 'Polio', 'Total expenditure',\n",
       "       'Diphtheria ', ' HIV/AIDS', 'GDP', 'Population',\n",
       "       ' thinness  1-19 years', ' thinness 5-9 years',\n",
       "       'Income composition of resources', 'Schooling'],\n",
       "      dtype='object')"
      ]
     },
     "execution_count": 191,
     "metadata": {},
     "output_type": "execute_result"
    }
   ],
   "source": [
    "data.columns"
   ]
  },
  {
   "cell_type": "code",
   "execution_count": 192,
   "metadata": {},
   "outputs": [
    {
     "data": {
      "text/html": [
       "<div>\n",
       "<style scoped>\n",
       "    .dataframe tbody tr th:only-of-type {\n",
       "        vertical-align: middle;\n",
       "    }\n",
       "\n",
       "    .dataframe tbody tr th {\n",
       "        vertical-align: top;\n",
       "    }\n",
       "\n",
       "    .dataframe thead th {\n",
       "        text-align: right;\n",
       "    }\n",
       "</style>\n",
       "<table border=\"1\" class=\"dataframe\">\n",
       "  <thead>\n",
       "    <tr style=\"text-align: right;\">\n",
       "      <th></th>\n",
       "      <th>Year</th>\n",
       "      <th>Life expectancy</th>\n",
       "      <th>Adult Mortality</th>\n",
       "      <th>infant deaths</th>\n",
       "      <th>Alcohol</th>\n",
       "      <th>percentage expenditure</th>\n",
       "      <th>Hepatitis B</th>\n",
       "      <th>Measles</th>\n",
       "      <th>BMI</th>\n",
       "      <th>under-five deaths</th>\n",
       "      <th>Polio</th>\n",
       "      <th>Total expenditure</th>\n",
       "      <th>Diphtheria</th>\n",
       "      <th>HIV/AIDS</th>\n",
       "      <th>GDP</th>\n",
       "      <th>Population</th>\n",
       "      <th>thinness  1-19 years</th>\n",
       "      <th>thinness 5-9 years</th>\n",
       "      <th>Income composition of resources</th>\n",
       "      <th>Schooling</th>\n",
       "    </tr>\n",
       "  </thead>\n",
       "  <tbody>\n",
       "    <tr>\n",
       "      <th>count</th>\n",
       "      <td>2938.000000</td>\n",
       "      <td>2928.000000</td>\n",
       "      <td>2928.000000</td>\n",
       "      <td>2938.000000</td>\n",
       "      <td>2744.000000</td>\n",
       "      <td>2938.000000</td>\n",
       "      <td>2385.000000</td>\n",
       "      <td>2938.000000</td>\n",
       "      <td>2904.000000</td>\n",
       "      <td>2938.000000</td>\n",
       "      <td>2919.000000</td>\n",
       "      <td>2712.00000</td>\n",
       "      <td>2919.000000</td>\n",
       "      <td>2938.000000</td>\n",
       "      <td>2490.000000</td>\n",
       "      <td>2.286000e+03</td>\n",
       "      <td>2904.000000</td>\n",
       "      <td>2904.000000</td>\n",
       "      <td>2771.000000</td>\n",
       "      <td>2775.000000</td>\n",
       "    </tr>\n",
       "    <tr>\n",
       "      <th>mean</th>\n",
       "      <td>2007.518720</td>\n",
       "      <td>69.224932</td>\n",
       "      <td>164.796448</td>\n",
       "      <td>30.303948</td>\n",
       "      <td>4.602861</td>\n",
       "      <td>738.251295</td>\n",
       "      <td>80.940461</td>\n",
       "      <td>2419.592240</td>\n",
       "      <td>38.321247</td>\n",
       "      <td>42.035739</td>\n",
       "      <td>82.550188</td>\n",
       "      <td>5.93819</td>\n",
       "      <td>82.324084</td>\n",
       "      <td>1.742103</td>\n",
       "      <td>7483.158469</td>\n",
       "      <td>1.275338e+07</td>\n",
       "      <td>4.839704</td>\n",
       "      <td>4.870317</td>\n",
       "      <td>0.627551</td>\n",
       "      <td>11.992793</td>\n",
       "    </tr>\n",
       "    <tr>\n",
       "      <th>std</th>\n",
       "      <td>4.613841</td>\n",
       "      <td>9.523867</td>\n",
       "      <td>124.292079</td>\n",
       "      <td>117.926501</td>\n",
       "      <td>4.052413</td>\n",
       "      <td>1987.914858</td>\n",
       "      <td>25.070016</td>\n",
       "      <td>11467.272489</td>\n",
       "      <td>20.044034</td>\n",
       "      <td>160.445548</td>\n",
       "      <td>23.428046</td>\n",
       "      <td>2.49832</td>\n",
       "      <td>23.716912</td>\n",
       "      <td>5.077785</td>\n",
       "      <td>14270.169342</td>\n",
       "      <td>6.101210e+07</td>\n",
       "      <td>4.420195</td>\n",
       "      <td>4.508882</td>\n",
       "      <td>0.210904</td>\n",
       "      <td>3.358920</td>\n",
       "    </tr>\n",
       "    <tr>\n",
       "      <th>min</th>\n",
       "      <td>2000.000000</td>\n",
       "      <td>36.300000</td>\n",
       "      <td>1.000000</td>\n",
       "      <td>0.000000</td>\n",
       "      <td>0.010000</td>\n",
       "      <td>0.000000</td>\n",
       "      <td>1.000000</td>\n",
       "      <td>0.000000</td>\n",
       "      <td>1.000000</td>\n",
       "      <td>0.000000</td>\n",
       "      <td>3.000000</td>\n",
       "      <td>0.37000</td>\n",
       "      <td>2.000000</td>\n",
       "      <td>0.100000</td>\n",
       "      <td>1.681350</td>\n",
       "      <td>3.400000e+01</td>\n",
       "      <td>0.100000</td>\n",
       "      <td>0.100000</td>\n",
       "      <td>0.000000</td>\n",
       "      <td>0.000000</td>\n",
       "    </tr>\n",
       "    <tr>\n",
       "      <th>25%</th>\n",
       "      <td>2004.000000</td>\n",
       "      <td>63.100000</td>\n",
       "      <td>74.000000</td>\n",
       "      <td>0.000000</td>\n",
       "      <td>0.877500</td>\n",
       "      <td>4.685343</td>\n",
       "      <td>77.000000</td>\n",
       "      <td>0.000000</td>\n",
       "      <td>19.300000</td>\n",
       "      <td>0.000000</td>\n",
       "      <td>78.000000</td>\n",
       "      <td>4.26000</td>\n",
       "      <td>78.000000</td>\n",
       "      <td>0.100000</td>\n",
       "      <td>463.935626</td>\n",
       "      <td>1.957932e+05</td>\n",
       "      <td>1.600000</td>\n",
       "      <td>1.500000</td>\n",
       "      <td>0.493000</td>\n",
       "      <td>10.100000</td>\n",
       "    </tr>\n",
       "    <tr>\n",
       "      <th>50%</th>\n",
       "      <td>2008.000000</td>\n",
       "      <td>72.100000</td>\n",
       "      <td>144.000000</td>\n",
       "      <td>3.000000</td>\n",
       "      <td>3.755000</td>\n",
       "      <td>64.912906</td>\n",
       "      <td>92.000000</td>\n",
       "      <td>17.000000</td>\n",
       "      <td>43.500000</td>\n",
       "      <td>4.000000</td>\n",
       "      <td>93.000000</td>\n",
       "      <td>5.75500</td>\n",
       "      <td>93.000000</td>\n",
       "      <td>0.100000</td>\n",
       "      <td>1766.947595</td>\n",
       "      <td>1.386542e+06</td>\n",
       "      <td>3.300000</td>\n",
       "      <td>3.300000</td>\n",
       "      <td>0.677000</td>\n",
       "      <td>12.300000</td>\n",
       "    </tr>\n",
       "    <tr>\n",
       "      <th>75%</th>\n",
       "      <td>2012.000000</td>\n",
       "      <td>75.700000</td>\n",
       "      <td>228.000000</td>\n",
       "      <td>22.000000</td>\n",
       "      <td>7.702500</td>\n",
       "      <td>441.534144</td>\n",
       "      <td>97.000000</td>\n",
       "      <td>360.250000</td>\n",
       "      <td>56.200000</td>\n",
       "      <td>28.000000</td>\n",
       "      <td>97.000000</td>\n",
       "      <td>7.49250</td>\n",
       "      <td>97.000000</td>\n",
       "      <td>0.800000</td>\n",
       "      <td>5910.806335</td>\n",
       "      <td>7.420359e+06</td>\n",
       "      <td>7.200000</td>\n",
       "      <td>7.200000</td>\n",
       "      <td>0.779000</td>\n",
       "      <td>14.300000</td>\n",
       "    </tr>\n",
       "    <tr>\n",
       "      <th>max</th>\n",
       "      <td>2015.000000</td>\n",
       "      <td>89.000000</td>\n",
       "      <td>723.000000</td>\n",
       "      <td>1800.000000</td>\n",
       "      <td>17.870000</td>\n",
       "      <td>19479.911610</td>\n",
       "      <td>99.000000</td>\n",
       "      <td>212183.000000</td>\n",
       "      <td>87.300000</td>\n",
       "      <td>2500.000000</td>\n",
       "      <td>99.000000</td>\n",
       "      <td>17.60000</td>\n",
       "      <td>99.000000</td>\n",
       "      <td>50.600000</td>\n",
       "      <td>119172.741800</td>\n",
       "      <td>1.293859e+09</td>\n",
       "      <td>27.700000</td>\n",
       "      <td>28.600000</td>\n",
       "      <td>0.948000</td>\n",
       "      <td>20.700000</td>\n",
       "    </tr>\n",
       "  </tbody>\n",
       "</table>\n",
       "</div>"
      ],
      "text/plain": [
       "              Year  Life expectancy   Adult Mortality  infant deaths  \\\n",
       "count  2938.000000       2928.000000      2928.000000    2938.000000   \n",
       "mean   2007.518720         69.224932       164.796448      30.303948   \n",
       "std       4.613841          9.523867       124.292079     117.926501   \n",
       "min    2000.000000         36.300000         1.000000       0.000000   \n",
       "25%    2004.000000         63.100000        74.000000       0.000000   \n",
       "50%    2008.000000         72.100000       144.000000       3.000000   \n",
       "75%    2012.000000         75.700000       228.000000      22.000000   \n",
       "max    2015.000000         89.000000       723.000000    1800.000000   \n",
       "\n",
       "           Alcohol  percentage expenditure  Hepatitis B       Measles   \\\n",
       "count  2744.000000             2938.000000  2385.000000    2938.000000   \n",
       "mean      4.602861              738.251295    80.940461    2419.592240   \n",
       "std       4.052413             1987.914858    25.070016   11467.272489   \n",
       "min       0.010000                0.000000     1.000000       0.000000   \n",
       "25%       0.877500                4.685343    77.000000       0.000000   \n",
       "50%       3.755000               64.912906    92.000000      17.000000   \n",
       "75%       7.702500              441.534144    97.000000     360.250000   \n",
       "max      17.870000            19479.911610    99.000000  212183.000000   \n",
       "\n",
       "              BMI   under-five deaths         Polio  Total expenditure  \\\n",
       "count  2904.000000         2938.000000  2919.000000         2712.00000   \n",
       "mean     38.321247           42.035739    82.550188            5.93819   \n",
       "std      20.044034          160.445548    23.428046            2.49832   \n",
       "min       1.000000            0.000000     3.000000            0.37000   \n",
       "25%      19.300000            0.000000    78.000000            4.26000   \n",
       "50%      43.500000            4.000000    93.000000            5.75500   \n",
       "75%      56.200000           28.000000    97.000000            7.49250   \n",
       "max      87.300000         2500.000000    99.000000           17.60000   \n",
       "\n",
       "       Diphtheria      HIV/AIDS            GDP    Population  \\\n",
       "count  2919.000000  2938.000000    2490.000000  2.286000e+03   \n",
       "mean     82.324084     1.742103    7483.158469  1.275338e+07   \n",
       "std      23.716912     5.077785   14270.169342  6.101210e+07   \n",
       "min       2.000000     0.100000       1.681350  3.400000e+01   \n",
       "25%      78.000000     0.100000     463.935626  1.957932e+05   \n",
       "50%      93.000000     0.100000    1766.947595  1.386542e+06   \n",
       "75%      97.000000     0.800000    5910.806335  7.420359e+06   \n",
       "max      99.000000    50.600000  119172.741800  1.293859e+09   \n",
       "\n",
       "        thinness  1-19 years   thinness 5-9 years  \\\n",
       "count            2904.000000          2904.000000   \n",
       "mean                4.839704             4.870317   \n",
       "std                 4.420195             4.508882   \n",
       "min                 0.100000             0.100000   \n",
       "25%                 1.600000             1.500000   \n",
       "50%                 3.300000             3.300000   \n",
       "75%                 7.200000             7.200000   \n",
       "max                27.700000            28.600000   \n",
       "\n",
       "       Income composition of resources    Schooling  \n",
       "count                      2771.000000  2775.000000  \n",
       "mean                          0.627551    11.992793  \n",
       "std                           0.210904     3.358920  \n",
       "min                           0.000000     0.000000  \n",
       "25%                           0.493000    10.100000  \n",
       "50%                           0.677000    12.300000  \n",
       "75%                           0.779000    14.300000  \n",
       "max                           0.948000    20.700000  "
      ]
     },
     "execution_count": 192,
     "metadata": {},
     "output_type": "execute_result"
    }
   ],
   "source": [
    "data.describe()"
   ]
  },
  {
   "cell_type": "code",
   "execution_count": 193,
   "metadata": {},
   "outputs": [
    {
     "name": "stdout",
     "output_type": "stream",
     "text": [
      "The number of numerical columns:- \n",
      "20\n"
     ]
    }
   ],
   "source": [
    "## showing the number of columns having conitnuous or numerical values:-\n",
    "numerics = ['int16' , 'int32', 'int64', 'float64', 'float32', 'float16']\n",
    "\n",
    "numeric_df = data.select_dtypes(include=numerics)\n",
    "print(\"The number of numerical columns:- \")\n",
    "print(len(numeric_df.columns))"
   ]
  },
  {
   "cell_type": "code",
   "execution_count": 196,
   "metadata": {},
   "outputs": [
    {
     "data": {
      "text/html": [
       "<div>\n",
       "<style scoped>\n",
       "    .dataframe tbody tr th:only-of-type {\n",
       "        vertical-align: middle;\n",
       "    }\n",
       "\n",
       "    .dataframe tbody tr th {\n",
       "        vertical-align: top;\n",
       "    }\n",
       "\n",
       "    .dataframe thead th {\n",
       "        text-align: right;\n",
       "    }\n",
       "</style>\n",
       "<table border=\"1\" class=\"dataframe\">\n",
       "  <thead>\n",
       "    <tr style=\"text-align: right;\">\n",
       "      <th></th>\n",
       "      <th>Country</th>\n",
       "      <th>Year</th>\n",
       "      <th>Status</th>\n",
       "      <th>Life expectancy</th>\n",
       "      <th>Adult Mortality</th>\n",
       "      <th>infant deaths</th>\n",
       "      <th>Alcohol</th>\n",
       "      <th>percentage expenditure</th>\n",
       "      <th>Hepatitis B</th>\n",
       "      <th>Measles</th>\n",
       "      <th>...</th>\n",
       "      <th>Polio</th>\n",
       "      <th>Total expenditure</th>\n",
       "      <th>Diphtheria</th>\n",
       "      <th>HIV/AIDS</th>\n",
       "      <th>GDP</th>\n",
       "      <th>Population</th>\n",
       "      <th>thinness  1-19 years</th>\n",
       "      <th>thinness 5-9 years</th>\n",
       "      <th>Income composition of resources</th>\n",
       "      <th>Schooling</th>\n",
       "    </tr>\n",
       "  </thead>\n",
       "  <tbody>\n",
       "    <tr>\n",
       "      <th>0</th>\n",
       "      <td>Afghanistan</td>\n",
       "      <td>2015</td>\n",
       "      <td>Developing</td>\n",
       "      <td>65.0</td>\n",
       "      <td>263.0</td>\n",
       "      <td>62</td>\n",
       "      <td>0.01</td>\n",
       "      <td>71.279624</td>\n",
       "      <td>65.0</td>\n",
       "      <td>1154</td>\n",
       "      <td>...</td>\n",
       "      <td>6.0</td>\n",
       "      <td>8.16</td>\n",
       "      <td>65.0</td>\n",
       "      <td>0.1</td>\n",
       "      <td>584.259210</td>\n",
       "      <td>33736494.0</td>\n",
       "      <td>17.2</td>\n",
       "      <td>17.3</td>\n",
       "      <td>0.479</td>\n",
       "      <td>10.1</td>\n",
       "    </tr>\n",
       "    <tr>\n",
       "      <th>1</th>\n",
       "      <td>Afghanistan</td>\n",
       "      <td>2014</td>\n",
       "      <td>Developing</td>\n",
       "      <td>59.9</td>\n",
       "      <td>271.0</td>\n",
       "      <td>64</td>\n",
       "      <td>0.01</td>\n",
       "      <td>73.523582</td>\n",
       "      <td>62.0</td>\n",
       "      <td>492</td>\n",
       "      <td>...</td>\n",
       "      <td>58.0</td>\n",
       "      <td>8.18</td>\n",
       "      <td>62.0</td>\n",
       "      <td>0.1</td>\n",
       "      <td>612.696514</td>\n",
       "      <td>327582.0</td>\n",
       "      <td>17.5</td>\n",
       "      <td>17.5</td>\n",
       "      <td>0.476</td>\n",
       "      <td>10.0</td>\n",
       "    </tr>\n",
       "    <tr>\n",
       "      <th>2</th>\n",
       "      <td>Afghanistan</td>\n",
       "      <td>2013</td>\n",
       "      <td>Developing</td>\n",
       "      <td>59.9</td>\n",
       "      <td>268.0</td>\n",
       "      <td>66</td>\n",
       "      <td>0.01</td>\n",
       "      <td>73.219243</td>\n",
       "      <td>64.0</td>\n",
       "      <td>430</td>\n",
       "      <td>...</td>\n",
       "      <td>62.0</td>\n",
       "      <td>8.13</td>\n",
       "      <td>64.0</td>\n",
       "      <td>0.1</td>\n",
       "      <td>631.744976</td>\n",
       "      <td>31731688.0</td>\n",
       "      <td>17.7</td>\n",
       "      <td>17.7</td>\n",
       "      <td>0.470</td>\n",
       "      <td>9.9</td>\n",
       "    </tr>\n",
       "    <tr>\n",
       "      <th>3</th>\n",
       "      <td>Afghanistan</td>\n",
       "      <td>2012</td>\n",
       "      <td>Developing</td>\n",
       "      <td>59.5</td>\n",
       "      <td>272.0</td>\n",
       "      <td>69</td>\n",
       "      <td>0.01</td>\n",
       "      <td>78.184215</td>\n",
       "      <td>67.0</td>\n",
       "      <td>2787</td>\n",
       "      <td>...</td>\n",
       "      <td>67.0</td>\n",
       "      <td>8.52</td>\n",
       "      <td>67.0</td>\n",
       "      <td>0.1</td>\n",
       "      <td>669.959000</td>\n",
       "      <td>3696958.0</td>\n",
       "      <td>17.9</td>\n",
       "      <td>18.0</td>\n",
       "      <td>0.463</td>\n",
       "      <td>9.8</td>\n",
       "    </tr>\n",
       "    <tr>\n",
       "      <th>4</th>\n",
       "      <td>Afghanistan</td>\n",
       "      <td>2011</td>\n",
       "      <td>Developing</td>\n",
       "      <td>59.2</td>\n",
       "      <td>275.0</td>\n",
       "      <td>71</td>\n",
       "      <td>0.01</td>\n",
       "      <td>7.097109</td>\n",
       "      <td>68.0</td>\n",
       "      <td>3013</td>\n",
       "      <td>...</td>\n",
       "      <td>68.0</td>\n",
       "      <td>7.87</td>\n",
       "      <td>68.0</td>\n",
       "      <td>0.1</td>\n",
       "      <td>63.537231</td>\n",
       "      <td>2978599.0</td>\n",
       "      <td>18.2</td>\n",
       "      <td>18.2</td>\n",
       "      <td>0.454</td>\n",
       "      <td>9.5</td>\n",
       "    </tr>\n",
       "    <tr>\n",
       "      <th>...</th>\n",
       "      <td>...</td>\n",
       "      <td>...</td>\n",
       "      <td>...</td>\n",
       "      <td>...</td>\n",
       "      <td>...</td>\n",
       "      <td>...</td>\n",
       "      <td>...</td>\n",
       "      <td>...</td>\n",
       "      <td>...</td>\n",
       "      <td>...</td>\n",
       "      <td>...</td>\n",
       "      <td>...</td>\n",
       "      <td>...</td>\n",
       "      <td>...</td>\n",
       "      <td>...</td>\n",
       "      <td>...</td>\n",
       "      <td>...</td>\n",
       "      <td>...</td>\n",
       "      <td>...</td>\n",
       "      <td>...</td>\n",
       "      <td>...</td>\n",
       "    </tr>\n",
       "    <tr>\n",
       "      <th>2933</th>\n",
       "      <td>Zimbabwe</td>\n",
       "      <td>2004</td>\n",
       "      <td>Developing</td>\n",
       "      <td>44.3</td>\n",
       "      <td>723.0</td>\n",
       "      <td>27</td>\n",
       "      <td>4.36</td>\n",
       "      <td>0.000000</td>\n",
       "      <td>68.0</td>\n",
       "      <td>31</td>\n",
       "      <td>...</td>\n",
       "      <td>67.0</td>\n",
       "      <td>7.13</td>\n",
       "      <td>65.0</td>\n",
       "      <td>33.6</td>\n",
       "      <td>454.366654</td>\n",
       "      <td>12777511.0</td>\n",
       "      <td>9.4</td>\n",
       "      <td>9.4</td>\n",
       "      <td>0.407</td>\n",
       "      <td>9.2</td>\n",
       "    </tr>\n",
       "    <tr>\n",
       "      <th>2934</th>\n",
       "      <td>Zimbabwe</td>\n",
       "      <td>2003</td>\n",
       "      <td>Developing</td>\n",
       "      <td>44.5</td>\n",
       "      <td>715.0</td>\n",
       "      <td>26</td>\n",
       "      <td>4.06</td>\n",
       "      <td>0.000000</td>\n",
       "      <td>7.0</td>\n",
       "      <td>998</td>\n",
       "      <td>...</td>\n",
       "      <td>7.0</td>\n",
       "      <td>6.52</td>\n",
       "      <td>68.0</td>\n",
       "      <td>36.7</td>\n",
       "      <td>453.351155</td>\n",
       "      <td>12633897.0</td>\n",
       "      <td>9.8</td>\n",
       "      <td>9.9</td>\n",
       "      <td>0.418</td>\n",
       "      <td>9.5</td>\n",
       "    </tr>\n",
       "    <tr>\n",
       "      <th>2935</th>\n",
       "      <td>Zimbabwe</td>\n",
       "      <td>2002</td>\n",
       "      <td>Developing</td>\n",
       "      <td>44.8</td>\n",
       "      <td>73.0</td>\n",
       "      <td>25</td>\n",
       "      <td>4.43</td>\n",
       "      <td>0.000000</td>\n",
       "      <td>73.0</td>\n",
       "      <td>304</td>\n",
       "      <td>...</td>\n",
       "      <td>73.0</td>\n",
       "      <td>6.53</td>\n",
       "      <td>71.0</td>\n",
       "      <td>39.8</td>\n",
       "      <td>57.348340</td>\n",
       "      <td>125525.0</td>\n",
       "      <td>1.2</td>\n",
       "      <td>1.3</td>\n",
       "      <td>0.427</td>\n",
       "      <td>10.0</td>\n",
       "    </tr>\n",
       "    <tr>\n",
       "      <th>2936</th>\n",
       "      <td>Zimbabwe</td>\n",
       "      <td>2001</td>\n",
       "      <td>Developing</td>\n",
       "      <td>45.3</td>\n",
       "      <td>686.0</td>\n",
       "      <td>25</td>\n",
       "      <td>1.72</td>\n",
       "      <td>0.000000</td>\n",
       "      <td>76.0</td>\n",
       "      <td>529</td>\n",
       "      <td>...</td>\n",
       "      <td>76.0</td>\n",
       "      <td>6.16</td>\n",
       "      <td>75.0</td>\n",
       "      <td>42.1</td>\n",
       "      <td>548.587312</td>\n",
       "      <td>12366165.0</td>\n",
       "      <td>1.6</td>\n",
       "      <td>1.7</td>\n",
       "      <td>0.427</td>\n",
       "      <td>9.8</td>\n",
       "    </tr>\n",
       "    <tr>\n",
       "      <th>2937</th>\n",
       "      <td>Zimbabwe</td>\n",
       "      <td>2000</td>\n",
       "      <td>Developing</td>\n",
       "      <td>46.0</td>\n",
       "      <td>665.0</td>\n",
       "      <td>24</td>\n",
       "      <td>1.68</td>\n",
       "      <td>0.000000</td>\n",
       "      <td>79.0</td>\n",
       "      <td>1483</td>\n",
       "      <td>...</td>\n",
       "      <td>78.0</td>\n",
       "      <td>7.10</td>\n",
       "      <td>78.0</td>\n",
       "      <td>43.5</td>\n",
       "      <td>547.358879</td>\n",
       "      <td>12222251.0</td>\n",
       "      <td>11.0</td>\n",
       "      <td>11.2</td>\n",
       "      <td>0.434</td>\n",
       "      <td>9.8</td>\n",
       "    </tr>\n",
       "  </tbody>\n",
       "</table>\n",
       "<p>2938 rows × 22 columns</p>\n",
       "</div>"
      ],
      "text/plain": [
       "          Country  Year      Status  Life expectancy   Adult Mortality  \\\n",
       "0     Afghanistan  2015  Developing              65.0            263.0   \n",
       "1     Afghanistan  2014  Developing              59.9            271.0   \n",
       "2     Afghanistan  2013  Developing              59.9            268.0   \n",
       "3     Afghanistan  2012  Developing              59.5            272.0   \n",
       "4     Afghanistan  2011  Developing              59.2            275.0   \n",
       "...           ...   ...         ...               ...              ...   \n",
       "2933     Zimbabwe  2004  Developing              44.3            723.0   \n",
       "2934     Zimbabwe  2003  Developing              44.5            715.0   \n",
       "2935     Zimbabwe  2002  Developing              44.8             73.0   \n",
       "2936     Zimbabwe  2001  Developing              45.3            686.0   \n",
       "2937     Zimbabwe  2000  Developing              46.0            665.0   \n",
       "\n",
       "      infant deaths  Alcohol  percentage expenditure  Hepatitis B  Measles   \\\n",
       "0                62     0.01               71.279624         65.0      1154   \n",
       "1                64     0.01               73.523582         62.0       492   \n",
       "2                66     0.01               73.219243         64.0       430   \n",
       "3                69     0.01               78.184215         67.0      2787   \n",
       "4                71     0.01                7.097109         68.0      3013   \n",
       "...             ...      ...                     ...          ...       ...   \n",
       "2933             27     4.36                0.000000         68.0        31   \n",
       "2934             26     4.06                0.000000          7.0       998   \n",
       "2935             25     4.43                0.000000         73.0       304   \n",
       "2936             25     1.72                0.000000         76.0       529   \n",
       "2937             24     1.68                0.000000         79.0      1483   \n",
       "\n",
       "      ...  Polio  Total expenditure  Diphtheria    HIV/AIDS         GDP  \\\n",
       "0     ...    6.0               8.16         65.0        0.1  584.259210   \n",
       "1     ...   58.0               8.18         62.0        0.1  612.696514   \n",
       "2     ...   62.0               8.13         64.0        0.1  631.744976   \n",
       "3     ...   67.0               8.52         67.0        0.1  669.959000   \n",
       "4     ...   68.0               7.87         68.0        0.1   63.537231   \n",
       "...   ...    ...                ...          ...        ...         ...   \n",
       "2933  ...   67.0               7.13         65.0       33.6  454.366654   \n",
       "2934  ...    7.0               6.52         68.0       36.7  453.351155   \n",
       "2935  ...   73.0               6.53         71.0       39.8   57.348340   \n",
       "2936  ...   76.0               6.16         75.0       42.1  548.587312   \n",
       "2937  ...   78.0               7.10         78.0       43.5  547.358879   \n",
       "\n",
       "      Population   thinness  1-19 years   thinness 5-9 years  \\\n",
       "0     33736494.0                   17.2                 17.3   \n",
       "1       327582.0                   17.5                 17.5   \n",
       "2     31731688.0                   17.7                 17.7   \n",
       "3      3696958.0                   17.9                 18.0   \n",
       "4      2978599.0                   18.2                 18.2   \n",
       "...          ...                    ...                  ...   \n",
       "2933  12777511.0                    9.4                  9.4   \n",
       "2934  12633897.0                    9.8                  9.9   \n",
       "2935    125525.0                    1.2                  1.3   \n",
       "2936  12366165.0                    1.6                  1.7   \n",
       "2937  12222251.0                   11.0                 11.2   \n",
       "\n",
       "      Income composition of resources  Schooling  \n",
       "0                               0.479       10.1  \n",
       "1                               0.476       10.0  \n",
       "2                               0.470        9.9  \n",
       "3                               0.463        9.8  \n",
       "4                               0.454        9.5  \n",
       "...                               ...        ...  \n",
       "2933                            0.407        9.2  \n",
       "2934                            0.418        9.5  \n",
       "2935                            0.427       10.0  \n",
       "2936                            0.427        9.8  \n",
       "2937                            0.434        9.8  \n",
       "\n",
       "[2938 rows x 22 columns]"
      ]
     },
     "execution_count": 196,
     "metadata": {},
     "output_type": "execute_result"
    }
   ],
   "source": [
    "## Data Cleaning:- (outlier treatment):-\n",
    "data"
   ]
  },
  {
   "cell_type": "markdown",
   "metadata": {
    "id": "06fdebf8"
   },
   "source": [
    "## 3.1 Apply techiniques\n",
    "* to remove duplicate data\n",
    "* to impute or remove missing data\n",
    "* to remove data inconsistencies\n",
    "\n",
    "IF ANY"
   ]
  },
  {
   "cell_type": "markdown",
   "metadata": {},
   "source": [
    "Checking for duplicates.,;;::--"
   ]
  },
  {
   "cell_type": "code",
   "execution_count": 197,
   "metadata": {},
   "outputs": [
    {
     "data": {
      "text/plain": [
       "False    2938\n",
       "dtype: int64"
      ]
     },
     "execution_count": 197,
     "metadata": {},
     "output_type": "execute_result"
    }
   ],
   "source": [
    "data.duplicated().value_counts()"
   ]
  },
  {
   "cell_type": "markdown",
   "metadata": {},
   "source": [
    "<span style=\"font-size:15px; color:Green\">Therefore.,;; we can conclude that there are no duplicates in the given dataset..!!..,,;;</span>"
   ]
  },
  {
   "cell_type": "code",
   "execution_count": 198,
   "metadata": {
    "id": "dd3118eb"
   },
   "outputs": [
    {
     "data": {
      "text/plain": [
       "Country                              0\n",
       "Year                                 0\n",
       "Status                               0\n",
       "Life expectancy                     10\n",
       "Adult Mortality                     10\n",
       "infant deaths                        0\n",
       "Alcohol                            194\n",
       "percentage expenditure               0\n",
       "Hepatitis B                        553\n",
       "Measles                              0\n",
       " BMI                                34\n",
       "under-five deaths                    0\n",
       "Polio                               19\n",
       "Total expenditure                  226\n",
       "Diphtheria                          19\n",
       " HIV/AIDS                            0\n",
       "GDP                                448\n",
       "Population                         652\n",
       " thinness  1-19 years               34\n",
       " thinness 5-9 years                 34\n",
       "Income composition of resources    167\n",
       "Schooling                          163\n",
       "dtype: int64"
      ]
     },
     "execution_count": 198,
     "metadata": {},
     "output_type": "execute_result"
    }
   ],
   "source": [
    "##---------Type the code below this line------------------##\n",
    "# Gives us the count of the number of missing values per columns.:-\n",
    "data.isna().sum()"
   ]
  },
  {
   "cell_type": "code",
   "execution_count": 199,
   "metadata": {},
   "outputs": [
    {
     "data": {
      "text/plain": [
       "Population                         0.221920\n",
       "Hepatitis B                        0.188223\n",
       "GDP                                0.152485\n",
       "Total expenditure                  0.076923\n",
       "Alcohol                            0.066031\n",
       "Income composition of resources    0.056841\n",
       "Schooling                          0.055480\n",
       " BMI                               0.011572\n",
       " thinness  1-19 years              0.011572\n",
       " thinness 5-9 years                0.011572\n",
       "Diphtheria                         0.006467\n",
       "Polio                              0.006467\n",
       "Adult Mortality                    0.003404\n",
       "Life expectancy                    0.003404\n",
       "under-five deaths                  0.000000\n",
       " HIV/AIDS                          0.000000\n",
       "Measles                            0.000000\n",
       "percentage expenditure             0.000000\n",
       "infant deaths                      0.000000\n",
       "Status                             0.000000\n",
       "Year                               0.000000\n",
       "Country                            0.000000\n",
       "dtype: float64"
      ]
     },
     "execution_count": 199,
     "metadata": {},
     "output_type": "execute_result"
    }
   ],
   "source": [
    "## percentage of missing values per columns:-\n",
    "missing_percentages=data.isna().sum().sort_values(ascending=False)/len(data)\n",
    "missing_percentages"
   ]
  },
  {
   "cell_type": "code",
   "execution_count": 201,
   "metadata": {},
   "outputs": [
    {
     "name": "stdout",
     "output_type": "stream",
     "text": [
      "Null columns in terms of percentages(%) :- \n"
     ]
    },
    {
     "data": {
      "text/plain": [
       "<AxesSubplot:>"
      ]
     },
     "execution_count": 201,
     "metadata": {},
     "output_type": "execute_result"
    },
    {
     "data": {
      "image/png": "[encoded data removed]",
      "text/plain": [
       "<Figure size 432x288 with 1 Axes>"
      ]
     },
     "metadata": {
      "needs_background": "light"
     },
     "output_type": "display_data"
    }
   ],
   "source": [
    "## therefore; taking only the non-zero columns in terms of null values counts:-\n",
    "print(\"Null columns in terms of percentages(%) :- \")\n",
    "missing_percentages[missing_percentages!=0].plot(kind='barh')\n",
    "# missing_percentages.plot(kind='barh')"
   ]
  },
  {
   "cell_type": "code",
   "execution_count": 202,
   "metadata": {
    "id": "a3b2cdee"
   },
   "outputs": [],
   "source": [
    "##---------Type the code below this line------------------##\n",
    "\n"
   ]
  },
  {
   "cell_type": "markdown",
   "metadata": {},
   "source": [
    "## Therefore we can see that the following columns are having less than or equal to 2% null values, hence will be dropping them..:-\n",
    "\n",
    "For these columns we can ignore these records for the following columns."
   ]
  },
  {
   "cell_type": "code",
   "execution_count": 204,
   "metadata": {},
   "outputs": [
    {
     "ename": "KeyError",
     "evalue": "True",
     "output_type": "error",
     "traceback": [
      "\u001b[0;31m---------------------------------------------------------------------------\u001b[0m",
      "\u001b[0;31mKeyError\u001b[0m                                  Traceback (most recent call last)",
      "\u001b[0;32m<ipython-input-204-2725761cb1d0>\u001b[0m in \u001b[0;36m<module>\u001b[0;34m\u001b[0m\n\u001b[1;32m      1\u001b[0m \u001b[0;31m# dictionary holding all the null value columns:-.,;;\u001b[0m\u001b[0;34m\u001b[0m\u001b[0;34m\u001b[0m\u001b[0;34m\u001b[0m\u001b[0m\n\u001b[0;32m----> 2\u001b[0;31m \u001b[0mmissing_percentages\u001b[0m\u001b[0;34m=\u001b[0m\u001b[0mdict\u001b[0m\u001b[0;34m(\u001b[0m\u001b[0mmissing_percentages\u001b[0m\u001b[0;34m[\u001b[0m\u001b[0mmissing_percentages\u001b[0m\u001b[0;34m!=\u001b[0m\u001b[0;36m0\u001b[0m\u001b[0;34m]\u001b[0m\u001b[0;34m)\u001b[0m\u001b[0;34m\u001b[0m\u001b[0;34m\u001b[0m\u001b[0m\n\u001b[0m\u001b[1;32m      3\u001b[0m \u001b[0mmissing_percentages\u001b[0m\u001b[0;34m\u001b[0m\u001b[0;34m\u001b[0m\u001b[0m\n",
      "\u001b[0;31mKeyError\u001b[0m: True"
     ]
    }
   ],
   "source": [
    "# dictionary holding all the null value columns:-.,;;\n",
    "missing_percentages=dict(missing_percentages[missing_percentages!=0])\n",
    "missing_percentages\n"
   ]
  },
  {
   "cell_type": "code",
   "execution_count": 205,
   "metadata": {},
   "outputs": [
    {
     "name": "stdout",
     "output_type": "stream",
     "text": [
      "Therefore, the records having a null values count of less than or equal to 2%:-: \n"
     ]
    },
    {
     "data": {
      "text/plain": [
       "[' BMI ',\n",
       " ' thinness  1-19 years',\n",
       " ' thinness 5-9 years',\n",
       " 'Diphtheria ',\n",
       " 'Polio',\n",
       " 'Adult Mortality',\n",
       " 'Life expectancy ']"
      ]
     },
     "execution_count": 205,
     "metadata": {},
     "output_type": "execute_result"
    }
   ],
   "source": [
    "print(\"Therefore, the records having a null values count of less than or equal to 2%:-: \")\n",
    "mp_less = list(k for k, v in missing_percentages.items() if v < 0.02)\n",
    "mp_less\n"
   ]
  },
  {
   "cell_type": "code",
   "execution_count": 206,
   "metadata": {},
   "outputs": [
    {
     "name": "stdout",
     "output_type": "stream",
     "text": [
      "Therefore, the records having a null values count of greater than  2%:-: \n"
     ]
    },
    {
     "data": {
      "text/plain": [
       "['Population',\n",
       " 'Hepatitis B',\n",
       " 'GDP',\n",
       " 'Total expenditure',\n",
       " 'Alcohol',\n",
       " 'Income composition of resources',\n",
       " 'Schooling']"
      ]
     },
     "execution_count": 206,
     "metadata": {},
     "output_type": "execute_result"
    }
   ],
   "source": [
    "print(\"Therefore, the records having a null values count of greater than  2%:-: \")\n",
    "mp_greater = list(k for k, v in missing_percentages.items() if v > 0.02)\n",
    "mp_greater\n"
   ]
  },
  {
   "cell_type": "code",
   "execution_count": 207,
   "metadata": {},
   "outputs": [
    {
     "data": {
      "text/plain": [
       "(2938, 22)"
      ]
     },
     "execution_count": 207,
     "metadata": {},
     "output_type": "execute_result"
    }
   ],
   "source": [
    "data.shape"
   ]
  },
  {
   "cell_type": "code",
   "execution_count": 208,
   "metadata": {},
   "outputs": [
    {
     "data": {
      "text/plain": [
       "(2888, 22)"
      ]
     },
     "execution_count": 208,
     "metadata": {},
     "output_type": "execute_result"
    }
   ],
   "source": [
    "# removing the records for columns having less than 2% null records.\n",
    "data.dropna(subset=mp_less,inplace=True)\n",
    "data.shape"
   ]
  },
  {
   "cell_type": "markdown",
   "metadata": {},
   "source": [
    "Therefore; we can see that a total of 1.73% of the data has been lost, which can be acceptable."
   ]
  },
  {
   "cell_type": "code",
   "execution_count": null,
   "metadata": {},
   "outputs": [],
   "source": []
  },
  {
   "cell_type": "markdown",
   "metadata": {},
   "source": [
    "Therefore; after dropping the null values for the columns having less than 2 percentage null values:-"
   ]
  },
  {
   "cell_type": "code",
   "execution_count": 209,
   "metadata": {},
   "outputs": [
    {
     "name": "stdout",
     "output_type": "stream",
     "text": [
      "The remaining columns having greater than 2% null values:-\n"
     ]
    },
    {
     "data": {
      "text/plain": [
       "Country                              0\n",
       "Year                                 0\n",
       "Status                               0\n",
       "Life expectancy                      0\n",
       "Adult Mortality                      0\n",
       "infant deaths                        0\n",
       "Alcohol                            175\n",
       "percentage expenditure               0\n",
       "Hepatitis B                        525\n",
       "Measles                              0\n",
       " BMI                                 0\n",
       "under-five deaths                    0\n",
       "Polio                                0\n",
       "Total expenditure                  212\n",
       "Diphtheria                           0\n",
       " HIV/AIDS                            0\n",
       "GDP                                435\n",
       "Population                         644\n",
       " thinness  1-19 years                0\n",
       " thinness 5-9 years                  0\n",
       "Income composition of resources    160\n",
       "Schooling                          160\n",
       "dtype: int64"
      ]
     },
     "execution_count": 209,
     "metadata": {},
     "output_type": "execute_result"
    }
   ],
   "source": [
    "print(\"The remaining columns having greater than 2% null values:-\")\n",
    "data.isna().sum()"
   ]
  },
  {
   "cell_type": "markdown",
   "metadata": {},
   "source": [
    "<span style=\"font-size:15px; color:Green\">And now.,;; we will be proceedding with the fill up of the following of the null values :- </span>\n"
   ]
  },
  {
   "cell_type": "code",
   "execution_count": 210,
   "metadata": {},
   "outputs": [],
   "source": [
    "for i in mp_greater:\n",
    "    data[i].fillna(data[i].median(),inplace=True)"
   ]
  },
  {
   "cell_type": "code",
   "execution_count": 211,
   "metadata": {},
   "outputs": [
    {
     "data": {
      "text/plain": [
       "(2888, 22)"
      ]
     },
     "execution_count": 211,
     "metadata": {},
     "output_type": "execute_result"
    }
   ],
   "source": [
    "data.shape"
   ]
  },
  {
   "cell_type": "markdown",
   "metadata": {},
   "source": [
    "<span style=\"font-size:15px; color:Green\">Note that over here we have used the 'median', instead of the 'mean' or 'mode' becuase of the those things can change with extreme values or can easily get affected by outliers.</span>"
   ]
  },
  {
   "cell_type": "markdown",
   "metadata": {},
   "source": [
    "<span style=\"font-size:15px; color:Green\">Therefore; after dropping the null values for the columns having less than 2 percentage null values:-</span>"
   ]
  },
  {
   "cell_type": "code",
   "execution_count": 212,
   "metadata": {},
   "outputs": [
    {
     "data": {
      "text/plain": [
       "Country                            0\n",
       "Year                               0\n",
       "Status                             0\n",
       "Life expectancy                    0\n",
       "Adult Mortality                    0\n",
       "infant deaths                      0\n",
       "Alcohol                            0\n",
       "percentage expenditure             0\n",
       "Hepatitis B                        0\n",
       "Measles                            0\n",
       " BMI                               0\n",
       "under-five deaths                  0\n",
       "Polio                              0\n",
       "Total expenditure                  0\n",
       "Diphtheria                         0\n",
       " HIV/AIDS                          0\n",
       "GDP                                0\n",
       "Population                         0\n",
       " thinness  1-19 years              0\n",
       " thinness 5-9 years                0\n",
       "Income composition of resources    0\n",
       "Schooling                          0\n",
       "dtype: int64"
      ]
     },
     "execution_count": 212,
     "metadata": {},
     "output_type": "execute_result"
    }
   ],
   "source": [
    "data.isna().sum()"
   ]
  },
  {
   "cell_type": "markdown",
   "metadata": {},
   "source": [
    "<span style=\"font-size:15px; color:Green\"> Therefore there are no more null values. </span>"
   ]
  },
  {
   "cell_type": "markdown",
   "metadata": {},
   "source": [
    "## 3.2 Encode categorical data"
   ]
  },
  {
   "cell_type": "code",
   "execution_count": 214,
   "metadata": {},
   "outputs": [
    {
     "name": "stdout",
     "output_type": "stream",
     "text": [
      "<class 'pandas.core.frame.DataFrame'>\n",
      "Int64Index: 2888 entries, 0 to 2937\n",
      "Data columns (total 22 columns):\n",
      " #   Column                           Non-Null Count  Dtype  \n",
      "---  ------                           --------------  -----  \n",
      " 0   Country                          2888 non-null   object \n",
      " 1   Year                             2888 non-null   int64  \n",
      " 2   Status                           2888 non-null   object \n",
      " 3   Life expectancy                  2888 non-null   float64\n",
      " 4   Adult Mortality                  2888 non-null   float64\n",
      " 5   infant deaths                    2888 non-null   int64  \n",
      " 6   Alcohol                          2888 non-null   float64\n",
      " 7   percentage expenditure           2888 non-null   float64\n",
      " 8   Hepatitis B                      2888 non-null   float64\n",
      " 9   Measles                          2888 non-null   int64  \n",
      " 10   BMI                             2888 non-null   float64\n",
      " 11  under-five deaths                2888 non-null   int64  \n",
      " 12  Polio                            2888 non-null   float64\n",
      " 13  Total expenditure                2888 non-null   float64\n",
      " 14  Diphtheria                       2888 non-null   float64\n",
      " 15   HIV/AIDS                        2888 non-null   float64\n",
      " 16  GDP                              2888 non-null   float64\n",
      " 17  Population                       2888 non-null   float64\n",
      " 18   thinness  1-19 years            2888 non-null   float64\n",
      " 19   thinness 5-9 years              2888 non-null   float64\n",
      " 20  Income composition of resources  2888 non-null   float64\n",
      " 21  Schooling                        2888 non-null   float64\n",
      "dtypes: float64(16), int64(4), object(2)\n",
      "memory usage: 518.9+ KB\n"
     ]
    }
   ],
   "source": [
    "##---------Type the code below this line------------------##\n",
    "## checking for the categorical columns.,;;::--\n",
    "x=data.info()\n"
   ]
  },
  {
   "cell_type": "code",
   "execution_count": null,
   "metadata": {},
   "outputs": [],
   "source": []
  },
  {
   "cell_type": "markdown",
   "metadata": {},
   "source": [
    "###### Therefore; we can conclude that the only two categorical columns are:-\n",
    "    > Country\n",
    "    >  Status"
   ]
  },
  {
   "cell_type": "code",
   "execution_count": 217,
   "metadata": {},
   "outputs": [
    {
     "data": {
      "text/plain": [
       "Montenegro                                              10\n",
       "Timor-Leste                                             14\n",
       "Serbia                                                  16\n",
       "Zimbabwe                                                16\n",
       "Lebanon                                                 16\n",
       "Uganda                                                  16\n",
       "Tajikistan                                              16\n",
       "United Kingdom of Great Britain and Northern Ireland    16\n",
       "Armenia                                                 16\n",
       "Papua New Guinea                                        16\n",
       "Maldives                                                16\n",
       "Guatemala                                               16\n",
       "Saint Lucia                                             16\n",
       "Kazakhstan                                              16\n",
       "Chad                                                    16\n",
       "Name: Country, dtype: int64"
      ]
     },
     "execution_count": 217,
     "metadata": {},
     "output_type": "execute_result"
    }
   ],
   "source": [
    "## therefore checking both the columns details:-\n",
    "data['Country'].value_counts().sort_values().head(15)\n",
    "# (data['Country']=='Tuvalu').value_counts()"
   ]
  },
  {
   "cell_type": "code",
   "execution_count": 218,
   "metadata": {},
   "outputs": [
    {
     "data": {
      "text/plain": [
       "Developing    2376\n",
       "Developed      512\n",
       "Name: Status, dtype: int64"
      ]
     },
     "execution_count": 218,
     "metadata": {},
     "output_type": "execute_result"
    }
   ],
   "source": [
    "## therefore checking both the columns details:-\n",
    "data['Status'].value_counts()"
   ]
  },
  {
   "cell_type": "markdown",
   "metadata": {},
   "source": [
    "<span style=\"font-size:15px; color:Green\">Encoding both the 'Country', and, 'Status' Columns:-</span>"
   ]
  },
  {
   "cell_type": "code",
   "execution_count": 220,
   "metadata": {},
   "outputs": [
    {
     "data": {
      "text/plain": [
       "Montenegro                                              10\n",
       "Timor-Leste                                             14\n",
       "Serbia                                                  16\n",
       "Zimbabwe                                                16\n",
       "Lebanon                                                 16\n",
       "Uganda                                                  16\n",
       "Tajikistan                                              16\n",
       "United Kingdom of Great Britain and Northern Ireland    16\n",
       "Armenia                                                 16\n",
       "Papua New Guinea                                        16\n",
       "Maldives                                                16\n",
       "Guatemala                                               16\n",
       "Saint Lucia                                             16\n",
       "Kazakhstan                                              16\n",
       "Chad                                                    16\n",
       "Name: Country, dtype: int64"
      ]
     },
     "execution_count": 220,
     "metadata": {},
     "output_type": "execute_result"
    }
   ],
   "source": [
    "data['Country'].value_counts().sort_values().head(15)\n",
    "# (data['Country']=='Dominica').value_counts()"
   ]
  },
  {
   "cell_type": "code",
   "execution_count": 221,
   "metadata": {},
   "outputs": [
    {
     "data": {
      "text/html": [
       "<div>\n",
       "<style scoped>\n",
       "    .dataframe tbody tr th:only-of-type {\n",
       "        vertical-align: middle;\n",
       "    }\n",
       "\n",
       "    .dataframe tbody tr th {\n",
       "        vertical-align: top;\n",
       "    }\n",
       "\n",
       "    .dataframe thead th {\n",
       "        text-align: right;\n",
       "    }\n",
       "</style>\n",
       "<table border=\"1\" class=\"dataframe\">\n",
       "  <thead>\n",
       "    <tr style=\"text-align: right;\">\n",
       "      <th></th>\n",
       "      <th>Year</th>\n",
       "      <th>Life expectancy</th>\n",
       "      <th>Adult Mortality</th>\n",
       "      <th>infant deaths</th>\n",
       "      <th>Alcohol</th>\n",
       "      <th>percentage expenditure</th>\n",
       "      <th>Hepatitis B</th>\n",
       "      <th>Measles</th>\n",
       "      <th>BMI</th>\n",
       "      <th>under-five deaths</th>\n",
       "      <th>...</th>\n",
       "      <th>Country_United States of America</th>\n",
       "      <th>Country_Uruguay</th>\n",
       "      <th>Country_Uzbekistan</th>\n",
       "      <th>Country_Vanuatu</th>\n",
       "      <th>Country_Venezuela (Bolivarian Republic of)</th>\n",
       "      <th>Country_Viet Nam</th>\n",
       "      <th>Country_Yemen</th>\n",
       "      <th>Country_Zambia</th>\n",
       "      <th>Country_Zimbabwe</th>\n",
       "      <th>Status_Developing</th>\n",
       "    </tr>\n",
       "  </thead>\n",
       "  <tbody>\n",
       "    <tr>\n",
       "      <th>0</th>\n",
       "      <td>2015</td>\n",
       "      <td>65.0</td>\n",
       "      <td>263.0</td>\n",
       "      <td>62</td>\n",
       "      <td>0.01</td>\n",
       "      <td>71.279624</td>\n",
       "      <td>65.0</td>\n",
       "      <td>1154</td>\n",
       "      <td>19.1</td>\n",
       "      <td>83</td>\n",
       "      <td>...</td>\n",
       "      <td>0</td>\n",
       "      <td>0</td>\n",
       "      <td>0</td>\n",
       "      <td>0</td>\n",
       "      <td>0</td>\n",
       "      <td>0</td>\n",
       "      <td>0</td>\n",
       "      <td>0</td>\n",
       "      <td>0</td>\n",
       "      <td>1</td>\n",
       "    </tr>\n",
       "    <tr>\n",
       "      <th>1</th>\n",
       "      <td>2014</td>\n",
       "      <td>59.9</td>\n",
       "      <td>271.0</td>\n",
       "      <td>64</td>\n",
       "      <td>0.01</td>\n",
       "      <td>73.523582</td>\n",
       "      <td>62.0</td>\n",
       "      <td>492</td>\n",
       "      <td>18.6</td>\n",
       "      <td>86</td>\n",
       "      <td>...</td>\n",
       "      <td>0</td>\n",
       "      <td>0</td>\n",
       "      <td>0</td>\n",
       "      <td>0</td>\n",
       "      <td>0</td>\n",
       "      <td>0</td>\n",
       "      <td>0</td>\n",
       "      <td>0</td>\n",
       "      <td>0</td>\n",
       "      <td>1</td>\n",
       "    </tr>\n",
       "    <tr>\n",
       "      <th>2</th>\n",
       "      <td>2013</td>\n",
       "      <td>59.9</td>\n",
       "      <td>268.0</td>\n",
       "      <td>66</td>\n",
       "      <td>0.01</td>\n",
       "      <td>73.219243</td>\n",
       "      <td>64.0</td>\n",
       "      <td>430</td>\n",
       "      <td>18.1</td>\n",
       "      <td>89</td>\n",
       "      <td>...</td>\n",
       "      <td>0</td>\n",
       "      <td>0</td>\n",
       "      <td>0</td>\n",
       "      <td>0</td>\n",
       "      <td>0</td>\n",
       "      <td>0</td>\n",
       "      <td>0</td>\n",
       "      <td>0</td>\n",
       "      <td>0</td>\n",
       "      <td>1</td>\n",
       "    </tr>\n",
       "    <tr>\n",
       "      <th>3</th>\n",
       "      <td>2012</td>\n",
       "      <td>59.5</td>\n",
       "      <td>272.0</td>\n",
       "      <td>69</td>\n",
       "      <td>0.01</td>\n",
       "      <td>78.184215</td>\n",
       "      <td>67.0</td>\n",
       "      <td>2787</td>\n",
       "      <td>17.6</td>\n",
       "      <td>93</td>\n",
       "      <td>...</td>\n",
       "      <td>0</td>\n",
       "      <td>0</td>\n",
       "      <td>0</td>\n",
       "      <td>0</td>\n",
       "      <td>0</td>\n",
       "      <td>0</td>\n",
       "      <td>0</td>\n",
       "      <td>0</td>\n",
       "      <td>0</td>\n",
       "      <td>1</td>\n",
       "    </tr>\n",
       "    <tr>\n",
       "      <th>4</th>\n",
       "      <td>2011</td>\n",
       "      <td>59.2</td>\n",
       "      <td>275.0</td>\n",
       "      <td>71</td>\n",
       "      <td>0.01</td>\n",
       "      <td>7.097109</td>\n",
       "      <td>68.0</td>\n",
       "      <td>3013</td>\n",
       "      <td>17.2</td>\n",
       "      <td>97</td>\n",
       "      <td>...</td>\n",
       "      <td>0</td>\n",
       "      <td>0</td>\n",
       "      <td>0</td>\n",
       "      <td>0</td>\n",
       "      <td>0</td>\n",
       "      <td>0</td>\n",
       "      <td>0</td>\n",
       "      <td>0</td>\n",
       "      <td>0</td>\n",
       "      <td>1</td>\n",
       "    </tr>\n",
       "    <tr>\n",
       "      <th>...</th>\n",
       "      <td>...</td>\n",
       "      <td>...</td>\n",
       "      <td>...</td>\n",
       "      <td>...</td>\n",
       "      <td>...</td>\n",
       "      <td>...</td>\n",
       "      <td>...</td>\n",
       "      <td>...</td>\n",
       "      <td>...</td>\n",
       "      <td>...</td>\n",
       "      <td>...</td>\n",
       "      <td>...</td>\n",
       "      <td>...</td>\n",
       "      <td>...</td>\n",
       "      <td>...</td>\n",
       "      <td>...</td>\n",
       "      <td>...</td>\n",
       "      <td>...</td>\n",
       "      <td>...</td>\n",
       "      <td>...</td>\n",
       "      <td>...</td>\n",
       "    </tr>\n",
       "    <tr>\n",
       "      <th>2933</th>\n",
       "      <td>2004</td>\n",
       "      <td>44.3</td>\n",
       "      <td>723.0</td>\n",
       "      <td>27</td>\n",
       "      <td>4.36</td>\n",
       "      <td>0.000000</td>\n",
       "      <td>68.0</td>\n",
       "      <td>31</td>\n",
       "      <td>27.1</td>\n",
       "      <td>42</td>\n",
       "      <td>...</td>\n",
       "      <td>0</td>\n",
       "      <td>0</td>\n",
       "      <td>0</td>\n",
       "      <td>0</td>\n",
       "      <td>0</td>\n",
       "      <td>0</td>\n",
       "      <td>0</td>\n",
       "      <td>0</td>\n",
       "      <td>1</td>\n",
       "      <td>1</td>\n",
       "    </tr>\n",
       "    <tr>\n",
       "      <th>2934</th>\n",
       "      <td>2003</td>\n",
       "      <td>44.5</td>\n",
       "      <td>715.0</td>\n",
       "      <td>26</td>\n",
       "      <td>4.06</td>\n",
       "      <td>0.000000</td>\n",
       "      <td>7.0</td>\n",
       "      <td>998</td>\n",
       "      <td>26.7</td>\n",
       "      <td>41</td>\n",
       "      <td>...</td>\n",
       "      <td>0</td>\n",
       "      <td>0</td>\n",
       "      <td>0</td>\n",
       "      <td>0</td>\n",
       "      <td>0</td>\n",
       "      <td>0</td>\n",
       "      <td>0</td>\n",
       "      <td>0</td>\n",
       "      <td>1</td>\n",
       "      <td>1</td>\n",
       "    </tr>\n",
       "    <tr>\n",
       "      <th>2935</th>\n",
       "      <td>2002</td>\n",
       "      <td>44.8</td>\n",
       "      <td>73.0</td>\n",
       "      <td>25</td>\n",
       "      <td>4.43</td>\n",
       "      <td>0.000000</td>\n",
       "      <td>73.0</td>\n",
       "      <td>304</td>\n",
       "      <td>26.3</td>\n",
       "      <td>40</td>\n",
       "      <td>...</td>\n",
       "      <td>0</td>\n",
       "      <td>0</td>\n",
       "      <td>0</td>\n",
       "      <td>0</td>\n",
       "      <td>0</td>\n",
       "      <td>0</td>\n",
       "      <td>0</td>\n",
       "      <td>0</td>\n",
       "      <td>1</td>\n",
       "      <td>1</td>\n",
       "    </tr>\n",
       "    <tr>\n",
       "      <th>2936</th>\n",
       "      <td>2001</td>\n",
       "      <td>45.3</td>\n",
       "      <td>686.0</td>\n",
       "      <td>25</td>\n",
       "      <td>1.72</td>\n",
       "      <td>0.000000</td>\n",
       "      <td>76.0</td>\n",
       "      <td>529</td>\n",
       "      <td>25.9</td>\n",
       "      <td>39</td>\n",
       "      <td>...</td>\n",
       "      <td>0</td>\n",
       "      <td>0</td>\n",
       "      <td>0</td>\n",
       "      <td>0</td>\n",
       "      <td>0</td>\n",
       "      <td>0</td>\n",
       "      <td>0</td>\n",
       "      <td>0</td>\n",
       "      <td>1</td>\n",
       "      <td>1</td>\n",
       "    </tr>\n",
       "    <tr>\n",
       "      <th>2937</th>\n",
       "      <td>2000</td>\n",
       "      <td>46.0</td>\n",
       "      <td>665.0</td>\n",
       "      <td>24</td>\n",
       "      <td>1.68</td>\n",
       "      <td>0.000000</td>\n",
       "      <td>79.0</td>\n",
       "      <td>1483</td>\n",
       "      <td>25.5</td>\n",
       "      <td>39</td>\n",
       "      <td>...</td>\n",
       "      <td>0</td>\n",
       "      <td>0</td>\n",
       "      <td>0</td>\n",
       "      <td>0</td>\n",
       "      <td>0</td>\n",
       "      <td>0</td>\n",
       "      <td>0</td>\n",
       "      <td>0</td>\n",
       "      <td>1</td>\n",
       "      <td>1</td>\n",
       "    </tr>\n",
       "  </tbody>\n",
       "</table>\n",
       "<p>2888 rows × 201 columns</p>\n",
       "</div>"
      ],
      "text/plain": [
       "      Year  Life expectancy   Adult Mortality  infant deaths  Alcohol  \\\n",
       "0     2015              65.0            263.0             62     0.01   \n",
       "1     2014              59.9            271.0             64     0.01   \n",
       "2     2013              59.9            268.0             66     0.01   \n",
       "3     2012              59.5            272.0             69     0.01   \n",
       "4     2011              59.2            275.0             71     0.01   \n",
       "...    ...               ...              ...            ...      ...   \n",
       "2933  2004              44.3            723.0             27     4.36   \n",
       "2934  2003              44.5            715.0             26     4.06   \n",
       "2935  2002              44.8             73.0             25     4.43   \n",
       "2936  2001              45.3            686.0             25     1.72   \n",
       "2937  2000              46.0            665.0             24     1.68   \n",
       "\n",
       "      percentage expenditure  Hepatitis B  Measles    BMI   \\\n",
       "0                  71.279624         65.0      1154   19.1   \n",
       "1                  73.523582         62.0       492   18.6   \n",
       "2                  73.219243         64.0       430   18.1   \n",
       "3                  78.184215         67.0      2787   17.6   \n",
       "4                   7.097109         68.0      3013   17.2   \n",
       "...                      ...          ...       ...    ...   \n",
       "2933                0.000000         68.0        31   27.1   \n",
       "2934                0.000000          7.0       998   26.7   \n",
       "2935                0.000000         73.0       304   26.3   \n",
       "2936                0.000000         76.0       529   25.9   \n",
       "2937                0.000000         79.0      1483   25.5   \n",
       "\n",
       "      under-five deaths   ...  Country_United States of America  \\\n",
       "0                     83  ...                                 0   \n",
       "1                     86  ...                                 0   \n",
       "2                     89  ...                                 0   \n",
       "3                     93  ...                                 0   \n",
       "4                     97  ...                                 0   \n",
       "...                  ...  ...                               ...   \n",
       "2933                  42  ...                                 0   \n",
       "2934                  41  ...                                 0   \n",
       "2935                  40  ...                                 0   \n",
       "2936                  39  ...                                 0   \n",
       "2937                  39  ...                                 0   \n",
       "\n",
       "      Country_Uruguay  Country_Uzbekistan  Country_Vanuatu  \\\n",
       "0                   0                   0                0   \n",
       "1                   0                   0                0   \n",
       "2                   0                   0                0   \n",
       "3                   0                   0                0   \n",
       "4                   0                   0                0   \n",
       "...               ...                 ...              ...   \n",
       "2933                0                   0                0   \n",
       "2934                0                   0                0   \n",
       "2935                0                   0                0   \n",
       "2936                0                   0                0   \n",
       "2937                0                   0                0   \n",
       "\n",
       "      Country_Venezuela (Bolivarian Republic of)  Country_Viet Nam  \\\n",
       "0                                              0                 0   \n",
       "1                                              0                 0   \n",
       "2                                              0                 0   \n",
       "3                                              0                 0   \n",
       "4                                              0                 0   \n",
       "...                                          ...               ...   \n",
       "2933                                           0                 0   \n",
       "2934                                           0                 0   \n",
       "2935                                           0                 0   \n",
       "2936                                           0                 0   \n",
       "2937                                           0                 0   \n",
       "\n",
       "      Country_Yemen  Country_Zambia  Country_Zimbabwe  Status_Developing  \n",
       "0                 0               0                 0                  1  \n",
       "1                 0               0                 0                  1  \n",
       "2                 0               0                 0                  1  \n",
       "3                 0               0                 0                  1  \n",
       "4                 0               0                 0                  1  \n",
       "...             ...             ...               ...                ...  \n",
       "2933              0               0                 1                  1  \n",
       "2934              0               0                 1                  1  \n",
       "2935              0               0                 1                  1  \n",
       "2936              0               0                 1                  1  \n",
       "2937              0               0                 1                  1  \n",
       "\n",
       "[2888 rows x 201 columns]"
      ]
     },
     "execution_count": 221,
     "metadata": {},
     "output_type": "execute_result"
    }
   ],
   "source": [
    "data=pd.get_dummies(data,columns=['Country','Status'],drop_first=True)\n",
    "data"
   ]
  },
  {
   "cell_type": "markdown",
   "metadata": {},
   "source": [
    "<span style=\"font-size:15px; color:Green\">Therefore; over here; we are using the concept of get_dummies which is used to remove/work on the ordnial datasets. Also over here; we will be dropping off the first column of each of the categories since without them as well; we can proceed with identifying the string columns in terms of/ or in the form of integers.</span>\n"
   ]
  },
  {
   "cell_type": "markdown",
   "metadata": {},
   "source": [
    "## 3.4 Feature Engineering \n",
    "\n",
    "if any"
   ]
  },
  {
   "cell_type": "code",
   "execution_count": 222,
   "metadata": {},
   "outputs": [],
   "source": [
    "##---------Type the code below this line------------------##"
   ]
  },
  {
   "cell_type": "code",
   "execution_count": 224,
   "metadata": {},
   "outputs": [
    {
     "data": {
      "text/html": [
       "<div>\n",
       "<style scoped>\n",
       "    .dataframe tbody tr th:only-of-type {\n",
       "        vertical-align: middle;\n",
       "    }\n",
       "\n",
       "    .dataframe tbody tr th {\n",
       "        vertical-align: top;\n",
       "    }\n",
       "\n",
       "    .dataframe thead th {\n",
       "        text-align: right;\n",
       "    }\n",
       "</style>\n",
       "<table border=\"1\" class=\"dataframe\">\n",
       "  <thead>\n",
       "    <tr style=\"text-align: right;\">\n",
       "      <th></th>\n",
       "      <th>Year</th>\n",
       "      <th>Life expectancy</th>\n",
       "      <th>Adult Mortality</th>\n",
       "      <th>infant deaths</th>\n",
       "      <th>Alcohol</th>\n",
       "      <th>percentage expenditure</th>\n",
       "      <th>Hepatitis B</th>\n",
       "      <th>Measles</th>\n",
       "      <th>BMI</th>\n",
       "      <th>under-five deaths</th>\n",
       "      <th>...</th>\n",
       "      <th>Country_United States of America</th>\n",
       "      <th>Country_Uruguay</th>\n",
       "      <th>Country_Uzbekistan</th>\n",
       "      <th>Country_Vanuatu</th>\n",
       "      <th>Country_Venezuela (Bolivarian Republic of)</th>\n",
       "      <th>Country_Viet Nam</th>\n",
       "      <th>Country_Yemen</th>\n",
       "      <th>Country_Zambia</th>\n",
       "      <th>Country_Zimbabwe</th>\n",
       "      <th>Status_Developing</th>\n",
       "    </tr>\n",
       "  </thead>\n",
       "  <tbody>\n",
       "    <tr>\n",
       "      <th>Year</th>\n",
       "      <td>1.000000</td>\n",
       "      <td>0.170772</td>\n",
       "      <td>-0.080136</td>\n",
       "      <td>-0.037310</td>\n",
       "      <td>-0.068719</td>\n",
       "      <td>0.031834</td>\n",
       "      <td>0.024896</td>\n",
       "      <td>-0.083198</td>\n",
       "      <td>0.105360</td>\n",
       "      <td>-0.042781</td>\n",
       "      <td>...</td>\n",
       "      <td>-0.000247</td>\n",
       "      <td>-0.000247</td>\n",
       "      <td>-0.000247</td>\n",
       "      <td>-0.000247</td>\n",
       "      <td>-0.000247</td>\n",
       "      <td>-0.000247</td>\n",
       "      <td>-0.000247</td>\n",
       "      <td>-0.000247</td>\n",
       "      <td>-0.000247</td>\n",
       "      <td>0.001535</td>\n",
       "    </tr>\n",
       "    <tr>\n",
       "      <th>Life expectancy</th>\n",
       "      <td>0.170772</td>\n",
       "      <td>1.000000</td>\n",
       "      <td>-0.693189</td>\n",
       "      <td>-0.197408</td>\n",
       "      <td>0.391100</td>\n",
       "      <td>0.381173</td>\n",
       "      <td>0.175716</td>\n",
       "      <td>-0.160525</td>\n",
       "      <td>0.567055</td>\n",
       "      <td>-0.223172</td>\n",
       "      <td>...</td>\n",
       "      <td>0.068502</td>\n",
       "      <td>0.052876</td>\n",
       "      <td>-0.010363</td>\n",
       "      <td>0.016024</td>\n",
       "      <td>0.031747</td>\n",
       "      <td>0.042656</td>\n",
       "      <td>-0.043137</td>\n",
       "      <td>-0.121412</td>\n",
       "      <td>-0.148290</td>\n",
       "      <td>-0.481549</td>\n",
       "    </tr>\n",
       "    <tr>\n",
       "      <th>Adult Mortality</th>\n",
       "      <td>-0.080136</td>\n",
       "      <td>-0.693189</td>\n",
       "      <td>1.000000</td>\n",
       "      <td>0.078712</td>\n",
       "      <td>-0.189110</td>\n",
       "      <td>-0.241062</td>\n",
       "      <td>-0.129037</td>\n",
       "      <td>0.032587</td>\n",
       "      <td>-0.386460</td>\n",
       "      <td>0.093854</td>\n",
       "      <td>...</td>\n",
       "      <td>-0.063306</td>\n",
       "      <td>-0.026136</td>\n",
       "      <td>0.012915</td>\n",
       "      <td>-0.015339</td>\n",
       "      <td>-0.000215</td>\n",
       "      <td>-0.022148</td>\n",
       "      <td>0.029167</td>\n",
       "      <td>0.114944</td>\n",
       "      <td>0.179991</td>\n",
       "      <td>0.313241</td>\n",
       "    </tr>\n",
       "    <tr>\n",
       "      <th>infant deaths</th>\n",
       "      <td>-0.037310</td>\n",
       "      <td>-0.197408</td>\n",
       "      <td>0.078712</td>\n",
       "      <td>1.000000</td>\n",
       "      <td>-0.113909</td>\n",
       "      <td>-0.085716</td>\n",
       "      <td>-0.168674</td>\n",
       "      <td>0.501103</td>\n",
       "      <td>-0.227574</td>\n",
       "      <td>0.996635</td>\n",
       "      <td>...</td>\n",
       "      <td>-0.002592</td>\n",
       "      <td>-0.018681</td>\n",
       "      <td>-0.005260</td>\n",
       "      <td>-0.019035</td>\n",
       "      <td>-0.013148</td>\n",
       "      <td>-0.000708</td>\n",
       "      <td>0.005689</td>\n",
       "      <td>0.001961</td>\n",
       "      <td>-0.002356</td>\n",
       "      <td>0.112548</td>\n",
       "    </tr>\n",
       "    <tr>\n",
       "      <th>Alcohol</th>\n",
       "      <td>-0.068719</td>\n",
       "      <td>0.391100</td>\n",
       "      <td>-0.189110</td>\n",
       "      <td>-0.113909</td>\n",
       "      <td>1.000000</td>\n",
       "      <td>0.342915</td>\n",
       "      <td>0.091000</td>\n",
       "      <td>-0.051238</td>\n",
       "      <td>0.324978</td>\n",
       "      <td>-0.110574</td>\n",
       "      <td>...</td>\n",
       "      <td>0.069987</td>\n",
       "      <td>0.027170</td>\n",
       "      <td>-0.054029</td>\n",
       "      <td>-0.068298</td>\n",
       "      <td>0.049361</td>\n",
       "      <td>-0.027722</td>\n",
       "      <td>-0.081807</td>\n",
       "      <td>-0.042809</td>\n",
       "      <td>-0.002909</td>\n",
       "      <td>-0.578844</td>\n",
       "    </tr>\n",
       "    <tr>\n",
       "      <th>...</th>\n",
       "      <td>...</td>\n",
       "      <td>...</td>\n",
       "      <td>...</td>\n",
       "      <td>...</td>\n",
       "      <td>...</td>\n",
       "      <td>...</td>\n",
       "      <td>...</td>\n",
       "      <td>...</td>\n",
       "      <td>...</td>\n",
       "      <td>...</td>\n",
       "      <td>...</td>\n",
       "      <td>...</td>\n",
       "      <td>...</td>\n",
       "      <td>...</td>\n",
       "      <td>...</td>\n",
       "      <td>...</td>\n",
       "      <td>...</td>\n",
       "      <td>...</td>\n",
       "      <td>...</td>\n",
       "      <td>...</td>\n",
       "      <td>...</td>\n",
       "    </tr>\n",
       "    <tr>\n",
       "      <th>Country_Viet Nam</th>\n",
       "      <td>-0.000247</td>\n",
       "      <td>0.042656</td>\n",
       "      <td>-0.022148</td>\n",
       "      <td>-0.000708</td>\n",
       "      <td>-0.027722</td>\n",
       "      <td>-0.027932</td>\n",
       "      <td>0.017400</td>\n",
       "      <td>0.011561</td>\n",
       "      <td>-0.101095</td>\n",
       "      <td>-0.002532</td>\n",
       "      <td>...</td>\n",
       "      <td>-0.005571</td>\n",
       "      <td>-0.005571</td>\n",
       "      <td>-0.005571</td>\n",
       "      <td>-0.005571</td>\n",
       "      <td>-0.005571</td>\n",
       "      <td>1.000000</td>\n",
       "      <td>-0.005571</td>\n",
       "      <td>-0.005571</td>\n",
       "      <td>-0.005571</td>\n",
       "      <td>0.034648</td>\n",
       "    </tr>\n",
       "    <tr>\n",
       "      <th>Country_Yemen</th>\n",
       "      <td>-0.000247</td>\n",
       "      <td>-0.043137</td>\n",
       "      <td>0.029167</td>\n",
       "      <td>0.005689</td>\n",
       "      <td>-0.081807</td>\n",
       "      <td>-0.027932</td>\n",
       "      <td>-0.088765</td>\n",
       "      <td>0.002058</td>\n",
       "      <td>-0.017702</td>\n",
       "      <td>0.004449</td>\n",
       "      <td>...</td>\n",
       "      <td>-0.005571</td>\n",
       "      <td>-0.005571</td>\n",
       "      <td>-0.005571</td>\n",
       "      <td>-0.005571</td>\n",
       "      <td>-0.005571</td>\n",
       "      <td>-0.005571</td>\n",
       "      <td>1.000000</td>\n",
       "      <td>-0.005571</td>\n",
       "      <td>-0.005571</td>\n",
       "      <td>0.034648</td>\n",
       "    </tr>\n",
       "    <tr>\n",
       "      <th>Country_Zambia</th>\n",
       "      <td>-0.000247</td>\n",
       "      <td>-0.121412</td>\n",
       "      <td>0.114944</td>\n",
       "      <td>0.001961</td>\n",
       "      <td>-0.042809</td>\n",
       "      <td>-0.024591</td>\n",
       "      <td>-0.020357</td>\n",
       "      <td>0.026612</td>\n",
       "      <td>-0.077676</td>\n",
       "      <td>0.004795</td>\n",
       "      <td>...</td>\n",
       "      <td>-0.005571</td>\n",
       "      <td>-0.005571</td>\n",
       "      <td>-0.005571</td>\n",
       "      <td>-0.005571</td>\n",
       "      <td>-0.005571</td>\n",
       "      <td>-0.005571</td>\n",
       "      <td>-0.005571</td>\n",
       "      <td>1.000000</td>\n",
       "      <td>-0.005571</td>\n",
       "      <td>0.034648</td>\n",
       "    </tr>\n",
       "    <tr>\n",
       "      <th>Country_Zimbabwe</th>\n",
       "      <td>-0.000247</td>\n",
       "      <td>-0.148290</td>\n",
       "      <td>0.179991</td>\n",
       "      <td>-0.002356</td>\n",
       "      <td>-0.002909</td>\n",
       "      <td>-0.027173</td>\n",
       "      <td>-0.040453</td>\n",
       "      <td>-0.009812</td>\n",
       "      <td>-0.048927</td>\n",
       "      <td>-0.000542</td>\n",
       "      <td>...</td>\n",
       "      <td>-0.005571</td>\n",
       "      <td>-0.005571</td>\n",
       "      <td>-0.005571</td>\n",
       "      <td>-0.005571</td>\n",
       "      <td>-0.005571</td>\n",
       "      <td>-0.005571</td>\n",
       "      <td>-0.005571</td>\n",
       "      <td>-0.005571</td>\n",
       "      <td>1.000000</td>\n",
       "      <td>0.034648</td>\n",
       "    </tr>\n",
       "    <tr>\n",
       "      <th>Status_Developing</th>\n",
       "      <td>0.001535</td>\n",
       "      <td>-0.481549</td>\n",
       "      <td>0.313241</td>\n",
       "      <td>0.112548</td>\n",
       "      <td>-0.578844</td>\n",
       "      <td>-0.452938</td>\n",
       "      <td>-0.128494</td>\n",
       "      <td>0.078049</td>\n",
       "      <td>-0.315907</td>\n",
       "      <td>0.115324</td>\n",
       "      <td>...</td>\n",
       "      <td>-0.160789</td>\n",
       "      <td>0.034648</td>\n",
       "      <td>0.034648</td>\n",
       "      <td>0.034648</td>\n",
       "      <td>0.034648</td>\n",
       "      <td>0.034648</td>\n",
       "      <td>0.034648</td>\n",
       "      <td>0.034648</td>\n",
       "      <td>0.034648</td>\n",
       "      <td>1.000000</td>\n",
       "    </tr>\n",
       "  </tbody>\n",
       "</table>\n",
       "<p>201 rows × 201 columns</p>\n",
       "</div>"
      ],
      "text/plain": [
       "                       Year  Life expectancy   Adult Mortality  infant deaths  \\\n",
       "Year               1.000000          0.170772        -0.080136      -0.037310   \n",
       "Life expectancy    0.170772          1.000000        -0.693189      -0.197408   \n",
       "Adult Mortality   -0.080136         -0.693189         1.000000       0.078712   \n",
       "infant deaths     -0.037310         -0.197408         0.078712       1.000000   \n",
       "Alcohol           -0.068719          0.391100        -0.189110      -0.113909   \n",
       "...                     ...               ...              ...            ...   \n",
       "Country_Viet Nam  -0.000247          0.042656        -0.022148      -0.000708   \n",
       "Country_Yemen     -0.000247         -0.043137         0.029167       0.005689   \n",
       "Country_Zambia    -0.000247         -0.121412         0.114944       0.001961   \n",
       "Country_Zimbabwe  -0.000247         -0.148290         0.179991      -0.002356   \n",
       "Status_Developing  0.001535         -0.481549         0.313241       0.112548   \n",
       "\n",
       "                    Alcohol  percentage expenditure  Hepatitis B  Measles   \\\n",
       "Year              -0.068719                0.031834     0.024896 -0.083198   \n",
       "Life expectancy    0.391100                0.381173     0.175716 -0.160525   \n",
       "Adult Mortality   -0.189110               -0.241062    -0.129037  0.032587   \n",
       "infant deaths     -0.113909               -0.085716    -0.168674  0.501103   \n",
       "Alcohol            1.000000                0.342915     0.091000 -0.051238   \n",
       "...                     ...                     ...          ...       ...   \n",
       "Country_Viet Nam  -0.027722               -0.027932     0.017400  0.011561   \n",
       "Country_Yemen     -0.081807               -0.027932    -0.088765  0.002058   \n",
       "Country_Zambia    -0.042809               -0.024591    -0.020357  0.026612   \n",
       "Country_Zimbabwe  -0.002909               -0.027173    -0.040453 -0.009812   \n",
       "Status_Developing -0.578844               -0.452938    -0.128494  0.078049   \n",
       "\n",
       "                       BMI   under-five deaths   ...  \\\n",
       "Year               0.105360           -0.042781  ...   \n",
       "Life expectancy    0.567055           -0.223172  ...   \n",
       "Adult Mortality   -0.386460            0.093854  ...   \n",
       "infant deaths     -0.227574            0.996635  ...   \n",
       "Alcohol            0.324978           -0.110574  ...   \n",
       "...                     ...                 ...  ...   \n",
       "Country_Viet Nam  -0.101095           -0.002532  ...   \n",
       "Country_Yemen     -0.017702            0.004449  ...   \n",
       "Country_Zambia    -0.077676            0.004795  ...   \n",
       "Country_Zimbabwe  -0.048927           -0.000542  ...   \n",
       "Status_Developing -0.315907            0.115324  ...   \n",
       "\n",
       "                   Country_United States of America  Country_Uruguay  \\\n",
       "Year                                      -0.000247        -0.000247   \n",
       "Life expectancy                            0.068502         0.052876   \n",
       "Adult Mortality                           -0.063306        -0.026136   \n",
       "infant deaths                             -0.002592        -0.018681   \n",
       "Alcohol                                    0.069987         0.027170   \n",
       "...                                             ...              ...   \n",
       "Country_Viet Nam                          -0.005571        -0.005571   \n",
       "Country_Yemen                             -0.005571        -0.005571   \n",
       "Country_Zambia                            -0.005571        -0.005571   \n",
       "Country_Zimbabwe                          -0.005571        -0.005571   \n",
       "Status_Developing                         -0.160789         0.034648   \n",
       "\n",
       "                   Country_Uzbekistan  Country_Vanuatu  \\\n",
       "Year                        -0.000247        -0.000247   \n",
       "Life expectancy             -0.010363         0.016024   \n",
       "Adult Mortality              0.012915        -0.015339   \n",
       "infant deaths               -0.005260        -0.019035   \n",
       "Alcohol                     -0.054029        -0.068298   \n",
       "...                               ...              ...   \n",
       "Country_Viet Nam            -0.005571        -0.005571   \n",
       "Country_Yemen               -0.005571        -0.005571   \n",
       "Country_Zambia              -0.005571        -0.005571   \n",
       "Country_Zimbabwe            -0.005571        -0.005571   \n",
       "Status_Developing            0.034648         0.034648   \n",
       "\n",
       "                   Country_Venezuela (Bolivarian Republic of)  \\\n",
       "Year                                                -0.000247   \n",
       "Life expectancy                                      0.031747   \n",
       "Adult Mortality                                     -0.000215   \n",
       "infant deaths                                       -0.013148   \n",
       "Alcohol                                              0.049361   \n",
       "...                                                       ...   \n",
       "Country_Viet Nam                                    -0.005571   \n",
       "Country_Yemen                                       -0.005571   \n",
       "Country_Zambia                                      -0.005571   \n",
       "Country_Zimbabwe                                    -0.005571   \n",
       "Status_Developing                                    0.034648   \n",
       "\n",
       "                   Country_Viet Nam  Country_Yemen  Country_Zambia  \\\n",
       "Year                      -0.000247      -0.000247       -0.000247   \n",
       "Life expectancy            0.042656      -0.043137       -0.121412   \n",
       "Adult Mortality           -0.022148       0.029167        0.114944   \n",
       "infant deaths             -0.000708       0.005689        0.001961   \n",
       "Alcohol                   -0.027722      -0.081807       -0.042809   \n",
       "...                             ...            ...             ...   \n",
       "Country_Viet Nam           1.000000      -0.005571       -0.005571   \n",
       "Country_Yemen             -0.005571       1.000000       -0.005571   \n",
       "Country_Zambia            -0.005571      -0.005571        1.000000   \n",
       "Country_Zimbabwe          -0.005571      -0.005571       -0.005571   \n",
       "Status_Developing          0.034648       0.034648        0.034648   \n",
       "\n",
       "                   Country_Zimbabwe  Status_Developing  \n",
       "Year                      -0.000247           0.001535  \n",
       "Life expectancy           -0.148290          -0.481549  \n",
       "Adult Mortality            0.179991           0.313241  \n",
       "infant deaths             -0.002356           0.112548  \n",
       "Alcohol                   -0.002909          -0.578844  \n",
       "...                             ...                ...  \n",
       "Country_Viet Nam          -0.005571           0.034648  \n",
       "Country_Yemen             -0.005571           0.034648  \n",
       "Country_Zambia            -0.005571           0.034648  \n",
       "Country_Zimbabwe           1.000000           0.034648  \n",
       "Status_Developing          0.034648           1.000000  \n",
       "\n",
       "[201 rows x 201 columns]"
      ]
     },
     "execution_count": 224,
     "metadata": {},
     "output_type": "execute_result"
    }
   ],
   "source": [
    "## Pearson's correlation:-\n",
    "features=data.corr()\n",
    "features\n"
   ]
  },
  {
   "cell_type": "code",
   "execution_count": 225,
   "metadata": {},
   "outputs": [
    {
     "name": "stdout",
     "output_type": "stream",
     "text": [
      "Printing the correlation values for the 'Life expectency features.:-'\n"
     ]
    },
    {
     "data": {
      "text/plain": [
       "Year                 0.170772\n",
       "Life expectancy      1.000000\n",
       "Adult Mortality     -0.693189\n",
       "infant deaths       -0.197408\n",
       "Alcohol              0.391100\n",
       "                       ...   \n",
       "Country_Viet Nam     0.042656\n",
       "Country_Yemen       -0.043137\n",
       "Country_Zambia      -0.121412\n",
       "Country_Zimbabwe    -0.148290\n",
       "Status_Developing   -0.481549\n",
       "Name: Life expectancy , Length: 201, dtype: float64"
      ]
     },
     "execution_count": 225,
     "metadata": {},
     "output_type": "execute_result"
    }
   ],
   "source": [
    "print(\"Printing the correlation values for the 'Life expectency features.:-'\")\n",
    "life_exp=features.iloc[1]\n",
    "life_exp"
   ]
  },
  {
   "cell_type": "code",
   "execution_count": 226,
   "metadata": {},
   "outputs": [
    {
     "data": {
      "text/plain": [
       "{'Year': 0.17077174471353915,\n",
       " 'Life expectancy ': 1.0,\n",
       " 'Adult Mortality': -0.6931888860638453,\n",
       " 'infant deaths': -0.1974077417097433,\n",
       " 'Alcohol': 0.3911004910985754,\n",
       " 'percentage expenditure': 0.3811725280230325,\n",
       " 'Hepatitis B': 0.17571638702066386,\n",
       " 'Measles ': -0.16052480923700774,\n",
       " ' BMI ': 0.5670551415448734,\n",
       " 'under-five deaths ': -0.22317185428647596,\n",
       " 'Polio': 0.4641661673121113,\n",
       " 'Total expenditure': 0.2076563072054924,\n",
       " 'Diphtheria ': 0.47819411865222133,\n",
       " ' HIV/AIDS': -0.5603818317421965,\n",
       " 'GDP': 0.4304913121308293,\n",
       " 'Population': -0.029595742885980027,\n",
       " ' thinness  1-19 years': -0.47634202657563857,\n",
       " ' thinness 5-9 years': -0.47074369192986276,\n",
       " 'Income composition of resources': 0.6890686213636045,\n",
       " 'Schooling': 0.7244337368707896,\n",
       " 'Country_Albania': 0.04565309036433572,\n",
       " 'Country_Algeria': 0.03356541026745224,\n",
       " 'Country_Angola': -0.1598374712826828,\n",
       " 'Country_Antigua and Barbuda': 0.04486689978892865,\n",
       " 'Country_Argentina': 0.045653090364335666,\n",
       " 'Country_Armenia': 0.03184561838374932,\n",
       " 'Country_Australia': 0.09798390053986764,\n",
       " 'Country_Austria': 0.09537964425883177,\n",
       " 'Country_Azerbaijan': 0.010864157402573571,\n",
       " 'Country_Bahamas': 0.03882305974048684,\n",
       " 'Country_Bahrain': 0.05012454926196324,\n",
       " 'Country_Bangladesh': -0.0003881952079399229,\n",
       " 'Country_Barbados': 0.03936356576107919,\n",
       " 'Country_Belarus': 0.0043780851554654,\n",
       " 'Country_Belgium': 0.08909011965557528,\n",
       " 'Country_Belize': -0.0006338797627546128,\n",
       " 'Country_Benin': -0.09261817708538017,\n",
       " 'Country_Bhutan': -0.02505492451133631,\n",
       " 'Country_Bolivia (Plurinational State of)': -0.012918107503489854,\n",
       " 'Country_Bosnia and Herzegovina': 0.05204088878951794,\n",
       " 'Country_Botswana': -0.10455844644937479,\n",
       " 'Country_Brazil': 0.0316982076508604,\n",
       " 'Country_Brunei Darussalam': 0.05611925239944201,\n",
       " 'Country_Bulgaria': 0.027521570219010437,\n",
       " 'Country_Burkina Faso': -0.10775234566196593,\n",
       " 'Country_Burundi': -0.10858767314833591,\n",
       " 'Country_Cabo Verde': 0.024917313937974566,\n",
       " 'Country_Cambodia': -0.039353765601552106,\n",
       " 'Country_Cameroon': -0.12052794251233055,\n",
       " 'Country_Canada': 0.09700116232060844,\n",
       " 'Country_Central African Republic': -0.16381756107068027,\n",
       " 'Country_Chad': -0.14907648778179794,\n",
       " 'Country_Chile': 0.07941014819587561,\n",
       " 'Country_China': 0.03862651209663501,\n",
       " 'Country_Colombia': 0.030961153986416263,\n",
       " 'Country_Comoros': -0.061072280247171824,\n",
       " 'Country_Congo': -0.08102186609812602,\n",
       " 'Country_Costa Rica': 0.07267839139395273,\n",
       " 'Country_Croatia': 0.053220174652628405,\n",
       " 'Country_Cuba': 0.06781383720862157,\n",
       " 'Country_Cyprus': 0.08117907699054148,\n",
       " 'Country_Czechia': 0.05833041339277419,\n",
       " \"Country_Côte d'Ivoire\": -0.14907648778179824,\n",
       " \"Country_Democratic People's Republic of Korea\": -0.001223522694309899,\n",
       " 'Country_Democratic Republic of the Congo': -0.10740838728522499,\n",
       " 'Country_Denmark': 0.07788690395602449,\n",
       " 'Country_Djibouti': -0.06755835249428005,\n",
       " 'Country_Dominican Republic': 0.02354148043101217,\n",
       " 'Country_Ecuador': 0.042262643507892536,\n",
       " 'Country_Egypt': 0.016907997451015174,\n",
       " 'Country_El Salvador': 0.01882433697856986,\n",
       " 'Country_Equatorial Guinea': -0.1103566019430012,\n",
       " 'Country_Eritrea': -0.0680988585148722,\n",
       " 'Country_Estonia': 0.04398243539159544,\n",
       " 'Country_Ethiopia': -0.08048136007753325,\n",
       " 'Country_Fiji': -0.0050070648384563056,\n",
       " 'Country_Finland': 0.08933580421038963,\n",
       " 'Country_France': 0.10117779975245833,\n",
       " 'Country_Gabon': -0.05586376768509991,\n",
       " 'Country_Gambia': -0.07772969306360851,\n",
       " 'Country_Georgia': 0.032680945870119084,\n",
       " 'Country_Germany': 0.09297193562164718,\n",
       " 'Country_Ghana': -0.06672302500790973,\n",
       " 'Country_Greece': 0.09331589399838779,\n",
       " 'Country_Grenada': 0.031010290897379122,\n",
       " 'Country_Guatemala': 0.018726063156643935,\n",
       " 'Country_Guinea': -0.10485326791515155,\n",
       " 'Country_Guinea-Bissau': -0.10991436974433441,\n",
       " 'Country_Guyana': -0.02918242503222311,\n",
       " 'Country_Haiti': -0.07453579385101722,\n",
       " 'Country_Honduras': 0.028651719171157886,\n",
       " 'Country_Hungary': 0.03518692832922902,\n",
       " 'Country_Iceland': 0.10294672854712394,\n",
       " 'Country_India': -0.030902216915926005,\n",
       " 'Country_Indonesia': -0.0140973933666003,\n",
       " 'Country_Iran (Islamic Republic of)': 0.03543261288404371,\n",
       " 'Country_Iraq': 0.007915942744797054,\n",
       " 'Country_Ireland': 0.0849134822237247,\n",
       " 'Country_Israel': 0.09395467384090571,\n",
       " 'Country_Italy': 0.10093211519764321,\n",
       " 'Country_Jamaica': 0.03887219665144954,\n",
       " 'Country_Japan': 0.10368378221156789,\n",
       " 'Country_Jordan': 0.028602582260194905,\n",
       " 'Country_Kazakhstan': -0.02033778105889377,\n",
       " 'Country_Kenya': -0.09330609383886035,\n",
       " 'Country_Kiribati': -0.03301510408733232,\n",
       " 'Country_Kuwait': 0.0353343390621178,\n",
       " 'Country_Kyrgyzstan': -0.002107987091642822,\n",
       " \"Country_Lao People's Democratic Republic\": -0.054782755643914896,\n",
       " 'Country_Latvia': 0.03444987466478485,\n",
       " 'Country_Lebanon': 0.038135142987005384,\n",
       " 'Country_Lesotho': -0.16170467389927295,\n",
       " 'Country_Liberia': -0.09296213546211957,\n",
       " 'Country_Libya': 0.02467162938315966,\n",
       " 'Country_Lithuania': 0.02717761184226961,\n",
       " 'Country_Luxembourg': 0.0898763102309815,\n",
       " 'Country_Madagascar': -0.051932814808064366,\n",
       " 'Country_Malawi': -0.15295830374786942,\n",
       " 'Country_Malaysia': 0.03464642230863651,\n",
       " 'Country_Maldives': 0.0486504419330745,\n",
       " 'Country_Mali': -0.11330481660077671,\n",
       " 'Country_Malta': 0.08658413719646448,\n",
       " 'Country_Mauritania': -0.051490582609397845,\n",
       " 'Country_Mauritius': 0.02644055817782547,\n",
       " 'Country_Mexico': 0.05007541235099972,\n",
       " 'Country_Micronesia (Federated States of)': -0.009036291537417366,\n",
       " 'Country_Mongolia': -0.027216948593705305,\n",
       " 'Country_Montenegro': 0.03613966779637341,\n",
       " 'Country_Morocco': 0.022067373102123772,\n",
       " 'Country_Mozambique': -0.12544163360862245,\n",
       " 'Country_Myanmar': -0.040483914553699187,\n",
       " 'Country_Namibia': -0.07035915641916679,\n",
       " 'Country_Nepal': -0.022548942052225966,\n",
       " 'Country_Netherlands': 0.09262797724490597,\n",
       " 'Country_New Zealand': 0.09424949530668297,\n",
       " 'Country_Nicaragua': 0.03223871367145234,\n",
       " 'Country_Niger': -0.09723704671589499,\n",
       " 'Country_Nigeria': -0.141460266582541,\n",
       " 'Country_Norway': 0.09783648980697755,\n",
       " 'Country_Oman': 0.043196244816187945,\n",
       " 'Country_Pakistan': -0.03812534282747804,\n",
       " 'Country_Panama': 0.0561192523994412,\n",
       " 'Country_Papua New Guinea': -0.06028608967176406,\n",
       " 'Country_Paraguay': 0.029585320479453586,\n",
       " 'Country_Peru': 0.03390936864419221,\n",
       " 'Country_Philippines': -0.013949982633711389,\n",
       " 'Country_Poland': 0.04953490633040719,\n",
       " 'Country_Portugal': 0.08368505944965059,\n",
       " 'Country_Qatar': 0.06039416365321696,\n",
       " 'Country_Republic of Korea': 0.08756687541572279,\n",
       " 'Country_Republic of Moldova': 0.004967728087020553,\n",
       " 'Country_Romania': 0.036955857123894535,\n",
       " 'Country_Russian Federation': -0.012475875304823173,\n",
       " 'Country_Rwanda': -0.07890897892671825,\n",
       " 'Country_Saint Lucia': 0.033417999534562856,\n",
       " 'Country_Saint Vincent and the Grenadines': 0.032435261315304026,\n",
       " 'Country_Samoa': 0.03356541026745168,\n",
       " 'Country_Sao Tome and Principe': -0.032916830265406205,\n",
       " 'Country_Saudi Arabia': 0.03238612440434104,\n",
       " 'Country_Senegal': -0.05330864831502631,\n",
       " 'Country_Serbia': 0.0362188034594504,\n",
       " 'Country_Seychelles': 0.02378716498582658,\n",
       " 'Country_Sierra Leone': -0.18268613488044716,\n",
       " 'Country_Singapore': 0.09533050734786715,\n",
       " 'Country_Slovakia': 0.04245919115174378,\n",
       " 'Country_Slovenia': 0.08162130918920686,\n",
       " 'Country_Solomon Islands': -0.012868970592526686,\n",
       " 'Country_Somalia': -0.12603127654017723,\n",
       " 'Country_South Africa': -0.09315868310597067,\n",
       " 'Country_Spain': 0.09999851388934633,\n",
       " 'Country_Sri Lanka': 0.0318456183837487,\n",
       " 'Country_Suriname': 0.005753918662427598,\n",
       " 'Country_Swaziland': -0.14170595113735504,\n",
       " 'Country_Sweden': 0.10353637147867796,\n",
       " 'Country_Switzerland': 0.10206226414978972,\n",
       " 'Country_Syrian Arab Republic': 0.01179775871086918,\n",
       " 'Country_Tajikistan': -0.021173108545263487,\n",
       " 'Country_Thailand': 0.02933963592463874,\n",
       " 'Country_The former Yugoslav republic of Macedonia': 0.037447226233523825,\n",
       " 'Country_Timor-Leste': -0.027773888653778618,\n",
       " 'Country_Togo': -0.0997430291750044,\n",
       " 'Country_Tonga': 0.025015587759900024,\n",
       " 'Country_Trinidad and Tobago': 0.013517550594572067,\n",
       " 'Country_Tunisia': 0.0393635657610785,\n",
       " 'Country_Turkey': 0.035874845082709744,\n",
       " 'Country_Turkmenistan': -0.037191741519181844,\n",
       " 'Country_Uganda': -0.10726097655233402,\n",
       " 'Country_Ukraine': 0.004623769710279964,\n",
       " 'Country_United Arab Emirates': 0.049928001618110514,\n",
       " 'Country_United Kingdom of Great Britain and Northern Ireland': 0.08997458405290641,\n",
       " 'Country_United Republic of Tanzania': -0.10490240482611286,\n",
       " 'Country_United States of America': 0.0685017539621017,\n",
       " 'Country_Uruguay': 0.052876216275886866,\n",
       " 'Country_Uzbekistan': -0.010362988133416686,\n",
       " 'Country_Vanuatu': 0.016023533053681985,\n",
       " 'Country_Venezuela (Bolivarian Republic of)': 0.03174734456182272,\n",
       " 'Country_Viet Nam': 0.042655738795595366,\n",
       " 'Country_Yemen': -0.04313730774569749,\n",
       " 'Country_Zambia': -0.12141240690966051,\n",
       " 'Country_Zimbabwe': -0.14829029720638853,\n",
       " 'Status_Developing': -0.481549350563051}"
      ]
     },
     "execution_count": 226,
     "metadata": {},
     "output_type": "execute_result"
    }
   ],
   "source": [
    "## getting the correlation values for Life Expentency in the form of key-value pairs.:-\n",
    "features=dict(life_exp)\n",
    "# features.sort(reverse=True)\n",
    "features\n"
   ]
  },
  {
   "cell_type": "code",
   "execution_count": 229,
   "metadata": {},
   "outputs": [
    {
     "name": "stdout",
     "output_type": "stream",
     "text": [
      "Correlation values in descending order by value for the Life Expectancy column : \n",
      "\n",
      " {'Life expectancy ': 1.0, 'Schooling': 0.7244337368707896, 'Income composition of resources': 0.6890686213636045, ' BMI ': 0.5670551415448734, 'Diphtheria ': 0.47819411865222133, 'Polio': 0.4641661673121113, 'GDP': 0.4304913121308293, 'Alcohol': 0.3911004910985754, 'percentage expenditure': 0.3811725280230325, 'Total expenditure': 0.2076563072054924, 'Hepatitis B': 0.17571638702066386, 'Year': 0.17077174471353915, 'Country_Japan': 0.10368378221156789, 'Country_Sweden': 0.10353637147867796, 'Country_Iceland': 0.10294672854712394, 'Country_Switzerland': 0.10206226414978972, 'Country_France': 0.10117779975245833, 'Country_Italy': 0.10093211519764321, 'Country_Spain': 0.09999851388934633, 'Country_Australia': 0.09798390053986764, 'Country_Norway': 0.09783648980697755, 'Country_Canada': 0.09700116232060844, 'Country_Austria': 0.09537964425883177, 'Country_Singapore': 0.09533050734786715, 'Country_New Zealand': 0.09424949530668297, 'Country_Israel': 0.09395467384090571, 'Country_Greece': 0.09331589399838779, 'Country_Germany': 0.09297193562164718, 'Country_Netherlands': 0.09262797724490597, 'Country_United Kingdom of Great Britain and Northern Ireland': 0.08997458405290641, 'Country_Luxembourg': 0.0898763102309815, 'Country_Finland': 0.08933580421038963, 'Country_Belgium': 0.08909011965557528, 'Country_Republic of Korea': 0.08756687541572279, 'Country_Malta': 0.08658413719646448, 'Country_Ireland': 0.0849134822237247, 'Country_Portugal': 0.08368505944965059, 'Country_Slovenia': 0.08162130918920686, 'Country_Cyprus': 0.08117907699054148, 'Country_Chile': 0.07941014819587561, 'Country_Denmark': 0.07788690395602449, 'Country_Costa Rica': 0.07267839139395273, 'Country_United States of America': 0.0685017539621017, 'Country_Cuba': 0.06781383720862157, 'Country_Qatar': 0.06039416365321696, 'Country_Czechia': 0.05833041339277419, 'Country_Brunei Darussalam': 0.05611925239944201, 'Country_Panama': 0.0561192523994412, 'Country_Croatia': 0.053220174652628405, 'Country_Uruguay': 0.052876216275886866, 'Country_Bosnia and Herzegovina': 0.05204088878951794, 'Country_Bahrain': 0.05012454926196324, 'Country_Mexico': 0.05007541235099972, 'Country_United Arab Emirates': 0.049928001618110514, 'Country_Poland': 0.04953490633040719, 'Country_Maldives': 0.0486504419330745, 'Country_Albania': 0.04565309036433572, 'Country_Argentina': 0.045653090364335666, 'Country_Antigua and Barbuda': 0.04486689978892865, 'Country_Estonia': 0.04398243539159544, 'Country_Oman': 0.043196244816187945, 'Country_Viet Nam': 0.042655738795595366, 'Country_Slovakia': 0.04245919115174378, 'Country_Ecuador': 0.042262643507892536, 'Country_Barbados': 0.03936356576107919, 'Country_Tunisia': 0.0393635657610785, 'Country_Jamaica': 0.03887219665144954, 'Country_Bahamas': 0.03882305974048684, 'Country_China': 0.03862651209663501, 'Country_Lebanon': 0.038135142987005384, 'Country_The former Yugoslav republic of Macedonia': 0.037447226233523825, 'Country_Romania': 0.036955857123894535, 'Country_Serbia': 0.0362188034594504, 'Country_Montenegro': 0.03613966779637341, 'Country_Turkey': 0.035874845082709744, 'Country_Iran (Islamic Republic of)': 0.03543261288404371, 'Country_Kuwait': 0.0353343390621178, 'Country_Hungary': 0.03518692832922902, 'Country_Malaysia': 0.03464642230863651, 'Country_Latvia': 0.03444987466478485, 'Country_Peru': 0.03390936864419221, 'Country_Algeria': 0.03356541026745224, 'Country_Samoa': 0.03356541026745168, 'Country_Saint Lucia': 0.033417999534562856, 'Country_Georgia': 0.032680945870119084, 'Country_Saint Vincent and the Grenadines': 0.032435261315304026, 'Country_Saudi Arabia': 0.03238612440434104, 'Country_Nicaragua': 0.03223871367145234, 'Country_Armenia': 0.03184561838374932, 'Country_Sri Lanka': 0.0318456183837487, 'Country_Venezuela (Bolivarian Republic of)': 0.03174734456182272, 'Country_Brazil': 0.0316982076508604, 'Country_Grenada': 0.031010290897379122, 'Country_Colombia': 0.030961153986416263, 'Country_Paraguay': 0.029585320479453586, 'Country_Thailand': 0.02933963592463874, 'Country_Honduras': 0.028651719171157886, 'Country_Jordan': 0.028602582260194905, 'Country_Bulgaria': 0.027521570219010437, 'Country_Lithuania': 0.02717761184226961, 'Country_Mauritius': 0.02644055817782547, 'Country_Tonga': 0.025015587759900024, 'Country_Cabo Verde': 0.024917313937974566, 'Country_Libya': 0.02467162938315966, 'Country_Seychelles': 0.02378716498582658, 'Country_Dominican Republic': 0.02354148043101217, 'Country_Morocco': 0.022067373102123772, 'Country_El Salvador': 0.01882433697856986, 'Country_Guatemala': 0.018726063156643935, 'Country_Egypt': 0.016907997451015174, 'Country_Vanuatu': 0.016023533053681985, 'Country_Trinidad and Tobago': 0.013517550594572067, 'Country_Syrian Arab Republic': 0.01179775871086918, 'Country_Azerbaijan': 0.010864157402573571, 'Country_Iraq': 0.007915942744797054, 'Country_Suriname': 0.005753918662427598, 'Country_Republic of Moldova': 0.004967728087020553, 'Country_Ukraine': 0.004623769710279964, 'Country_Belarus': 0.0043780851554654, 'Country_Bangladesh': -0.0003881952079399229, 'Country_Belize': -0.0006338797627546128, \"Country_Democratic People's Republic of Korea\": -0.001223522694309899, 'Country_Kyrgyzstan': -0.002107987091642822, 'Country_Fiji': -0.0050070648384563056, 'Country_Micronesia (Federated States of)': -0.009036291537417366, 'Country_Uzbekistan': -0.010362988133416686, 'Country_Russian Federation': -0.012475875304823173, 'Country_Solomon Islands': -0.012868970592526686, 'Country_Bolivia (Plurinational State of)': -0.012918107503489854, 'Country_Philippines': -0.013949982633711389, 'Country_Indonesia': -0.0140973933666003, 'Country_Kazakhstan': -0.02033778105889377, 'Country_Tajikistan': -0.021173108545263487, 'Country_Nepal': -0.022548942052225966, 'Country_Bhutan': -0.02505492451133631, 'Country_Mongolia': -0.027216948593705305, 'Country_Timor-Leste': -0.027773888653778618, 'Country_Guyana': -0.02918242503222311, 'Population': -0.029595742885980027, 'Country_India': -0.030902216915926005, 'Country_Sao Tome and Principe': -0.032916830265406205, 'Country_Kiribati': -0.03301510408733232, 'Country_Turkmenistan': -0.037191741519181844, 'Country_Pakistan': -0.03812534282747804, 'Country_Cambodia': -0.039353765601552106, 'Country_Myanmar': -0.040483914553699187, 'Country_Yemen': -0.04313730774569749, 'Country_Mauritania': -0.051490582609397845, 'Country_Madagascar': -0.051932814808064366, 'Country_Senegal': -0.05330864831502631, \"Country_Lao People's Democratic Republic\": -0.054782755643914896, 'Country_Gabon': -0.05586376768509991, 'Country_Papua New Guinea': -0.06028608967176406, 'Country_Comoros': -0.061072280247171824, 'Country_Ghana': -0.06672302500790973, 'Country_Djibouti': -0.06755835249428005, 'Country_Eritrea': -0.0680988585148722, 'Country_Namibia': -0.07035915641916679, 'Country_Haiti': -0.07453579385101722, 'Country_Gambia': -0.07772969306360851, 'Country_Rwanda': -0.07890897892671825, 'Country_Ethiopia': -0.08048136007753325, 'Country_Congo': -0.08102186609812602, 'Country_Benin': -0.09261817708538017, 'Country_Liberia': -0.09296213546211957, 'Country_South Africa': -0.09315868310597067, 'Country_Kenya': -0.09330609383886035, 'Country_Niger': -0.09723704671589499, 'Country_Togo': -0.0997430291750044, 'Country_Botswana': -0.10455844644937479, 'Country_Guinea': -0.10485326791515155, 'Country_United Republic of Tanzania': -0.10490240482611286, 'Country_Uganda': -0.10726097655233402, 'Country_Democratic Republic of the Congo': -0.10740838728522499, 'Country_Burkina Faso': -0.10775234566196593, 'Country_Burundi': -0.10858767314833591, 'Country_Guinea-Bissau': -0.10991436974433441, 'Country_Equatorial Guinea': -0.1103566019430012, 'Country_Mali': -0.11330481660077671, 'Country_Cameroon': -0.12052794251233055, 'Country_Zambia': -0.12141240690966051, 'Country_Mozambique': -0.12544163360862245, 'Country_Somalia': -0.12603127654017723, 'Country_Nigeria': -0.141460266582541, 'Country_Swaziland': -0.14170595113735504, 'Country_Zimbabwe': -0.14829029720638853, 'Country_Chad': -0.14907648778179794, \"Country_Côte d'Ivoire\": -0.14907648778179824, 'Country_Malawi': -0.15295830374786942, 'Country_Angola': -0.1598374712826828, 'Measles ': -0.16052480923700774, 'Country_Lesotho': -0.16170467389927295, 'Country_Central African Republic': -0.16381756107068027, 'Country_Sierra Leone': -0.18268613488044716, 'infant deaths': -0.1974077417097433, 'under-five deaths ': -0.22317185428647596, ' thinness 5-9 years': -0.47074369192986276, ' thinness  1-19 years': -0.47634202657563857, 'Status_Developing': -0.481549350563051, ' HIV/AIDS': -0.5603818317421965, 'Adult Mortality': -0.6931888860638453}\n"
     ]
    }
   ],
   "source": [
    "## getting the key-value pair in the descending order.:-\n",
    "import operator\n",
    "sorted_d = dict( sorted(features.items(), key=operator.itemgetter(1),reverse=True))\n",
    "print('Correlation values in descending order by value for the Life Expectancy column : \\n\\n',sorted_d)"
   ]
  },
  {
   "cell_type": "code",
   "execution_count": 230,
   "metadata": {},
   "outputs": [
    {
     "name": "stdout",
     "output_type": "stream",
     "text": [
      "The top 11 features having the highest correlation values in terms of the 'Life Expectency' column are:-  \n"
     ]
    },
    {
     "data": {
      "text/plain": [
       "['Life expectancy ',\n",
       " 'Schooling',\n",
       " 'Income composition of resources',\n",
       " ' BMI ',\n",
       " 'Diphtheria ',\n",
       " 'Polio',\n",
       " 'GDP',\n",
       " 'Alcohol',\n",
       " 'percentage expenditure',\n",
       " 'Total expenditure',\n",
       " 'Hepatitis B']"
      ]
     },
     "execution_count": 230,
     "metadata": {},
     "output_type": "execute_result"
    }
   ],
   "source": [
    "print(\"The top 11 features having the highest correlation values in terms of the 'Life Expectency' column are:-  \")\n",
    "list(sorted_d)[:11]"
   ]
  },
  {
   "cell_type": "markdown",
   "metadata": {},
   "source": [
    "## 3.3 Normalize the data"
   ]
  },
  {
   "cell_type": "code",
   "execution_count": 231,
   "metadata": {},
   "outputs": [
    {
     "data": {
      "text/plain": [
       "Index(['Year', 'Life expectancy ', 'Adult Mortality', 'infant deaths',\n",
       "       'Alcohol', 'percentage expenditure', 'Hepatitis B', 'Measles ', ' BMI ',\n",
       "       'under-five deaths ', 'Polio', 'Total expenditure', 'Diphtheria ',\n",
       "       ' HIV/AIDS', 'GDP', 'Population', ' thinness  1-19 years',\n",
       "       ' thinness 5-9 years', 'Income composition of resources', 'Schooling',\n",
       "       'Country_Albania', 'Country_Algeria', 'Country_Angola',\n",
       "       'Country_Antigua and Barbuda', 'Country_Argentina', 'Country_Armenia',\n",
       "       'Country_Australia', 'Country_Austria', 'Country_Azerbaijan',\n",
       "       'Country_Bahamas', 'Country_Bahrain', 'Country_Bangladesh',\n",
       "       'Country_Barbados', 'Country_Belarus', 'Country_Belgium',\n",
       "       'Country_Belize', 'Country_Benin', 'Country_Bhutan',\n",
       "       'Country_Bolivia (Plurinational State of)',\n",
       "       'Country_Bosnia and Herzegovina', 'Country_Botswana', 'Country_Brazil',\n",
       "       'Country_Brunei Darussalam', 'Country_Bulgaria', 'Country_Burkina Faso',\n",
       "       'Country_Burundi', 'Country_Cabo Verde', 'Country_Cambodia',\n",
       "       'Country_Cameroon', 'Country_Canada'],\n",
       "      dtype='object')"
      ]
     },
     "execution_count": 231,
     "metadata": {},
     "output_type": "execute_result"
    }
   ],
   "source": [
    "data.columns[:50]"
   ]
  },
  {
   "cell_type": "code",
   "execution_count": 232,
   "metadata": {},
   "outputs": [
    {
     "data": {
      "text/html": [
       "<div>\n",
       "<style scoped>\n",
       "    .dataframe tbody tr th:only-of-type {\n",
       "        vertical-align: middle;\n",
       "    }\n",
       "\n",
       "    .dataframe tbody tr th {\n",
       "        vertical-align: top;\n",
       "    }\n",
       "\n",
       "    .dataframe thead th {\n",
       "        text-align: right;\n",
       "    }\n",
       "</style>\n",
       "<table border=\"1\" class=\"dataframe\">\n",
       "  <thead>\n",
       "    <tr style=\"text-align: right;\">\n",
       "      <th></th>\n",
       "      <th>Life expectancy</th>\n",
       "      <th>Schooling</th>\n",
       "      <th>Income composition of resources</th>\n",
       "      <th>BMI</th>\n",
       "      <th>Diphtheria</th>\n",
       "      <th>Polio</th>\n",
       "      <th>GDP</th>\n",
       "      <th>Alcohol</th>\n",
       "      <th>percentage expenditure</th>\n",
       "      <th>Total expenditure</th>\n",
       "      <th>Hepatitis B</th>\n",
       "    </tr>\n",
       "  </thead>\n",
       "  <tbody>\n",
       "    <tr>\n",
       "      <th>0</th>\n",
       "      <td>65.0</td>\n",
       "      <td>10.1</td>\n",
       "      <td>0.479</td>\n",
       "      <td>19.1</td>\n",
       "      <td>65.0</td>\n",
       "      <td>6.0</td>\n",
       "      <td>584.259210</td>\n",
       "      <td>0.01</td>\n",
       "      <td>71.279624</td>\n",
       "      <td>8.16</td>\n",
       "      <td>65.0</td>\n",
       "    </tr>\n",
       "    <tr>\n",
       "      <th>1</th>\n",
       "      <td>59.9</td>\n",
       "      <td>10.0</td>\n",
       "      <td>0.476</td>\n",
       "      <td>18.6</td>\n",
       "      <td>62.0</td>\n",
       "      <td>58.0</td>\n",
       "      <td>612.696514</td>\n",
       "      <td>0.01</td>\n",
       "      <td>73.523582</td>\n",
       "      <td>8.18</td>\n",
       "      <td>62.0</td>\n",
       "    </tr>\n",
       "    <tr>\n",
       "      <th>2</th>\n",
       "      <td>59.9</td>\n",
       "      <td>9.9</td>\n",
       "      <td>0.470</td>\n",
       "      <td>18.1</td>\n",
       "      <td>64.0</td>\n",
       "      <td>62.0</td>\n",
       "      <td>631.744976</td>\n",
       "      <td>0.01</td>\n",
       "      <td>73.219243</td>\n",
       "      <td>8.13</td>\n",
       "      <td>64.0</td>\n",
       "    </tr>\n",
       "    <tr>\n",
       "      <th>3</th>\n",
       "      <td>59.5</td>\n",
       "      <td>9.8</td>\n",
       "      <td>0.463</td>\n",
       "      <td>17.6</td>\n",
       "      <td>67.0</td>\n",
       "      <td>67.0</td>\n",
       "      <td>669.959000</td>\n",
       "      <td>0.01</td>\n",
       "      <td>78.184215</td>\n",
       "      <td>8.52</td>\n",
       "      <td>67.0</td>\n",
       "    </tr>\n",
       "    <tr>\n",
       "      <th>4</th>\n",
       "      <td>59.2</td>\n",
       "      <td>9.5</td>\n",
       "      <td>0.454</td>\n",
       "      <td>17.2</td>\n",
       "      <td>68.0</td>\n",
       "      <td>68.0</td>\n",
       "      <td>63.537231</td>\n",
       "      <td>0.01</td>\n",
       "      <td>7.097109</td>\n",
       "      <td>7.87</td>\n",
       "      <td>68.0</td>\n",
       "    </tr>\n",
       "    <tr>\n",
       "      <th>...</th>\n",
       "      <td>...</td>\n",
       "      <td>...</td>\n",
       "      <td>...</td>\n",
       "      <td>...</td>\n",
       "      <td>...</td>\n",
       "      <td>...</td>\n",
       "      <td>...</td>\n",
       "      <td>...</td>\n",
       "      <td>...</td>\n",
       "      <td>...</td>\n",
       "      <td>...</td>\n",
       "    </tr>\n",
       "    <tr>\n",
       "      <th>2933</th>\n",
       "      <td>44.3</td>\n",
       "      <td>9.2</td>\n",
       "      <td>0.407</td>\n",
       "      <td>27.1</td>\n",
       "      <td>65.0</td>\n",
       "      <td>67.0</td>\n",
       "      <td>454.366654</td>\n",
       "      <td>4.36</td>\n",
       "      <td>0.000000</td>\n",
       "      <td>7.13</td>\n",
       "      <td>68.0</td>\n",
       "    </tr>\n",
       "    <tr>\n",
       "      <th>2934</th>\n",
       "      <td>44.5</td>\n",
       "      <td>9.5</td>\n",
       "      <td>0.418</td>\n",
       "      <td>26.7</td>\n",
       "      <td>68.0</td>\n",
       "      <td>7.0</td>\n",
       "      <td>453.351155</td>\n",
       "      <td>4.06</td>\n",
       "      <td>0.000000</td>\n",
       "      <td>6.52</td>\n",
       "      <td>7.0</td>\n",
       "    </tr>\n",
       "    <tr>\n",
       "      <th>2935</th>\n",
       "      <td>44.8</td>\n",
       "      <td>10.0</td>\n",
       "      <td>0.427</td>\n",
       "      <td>26.3</td>\n",
       "      <td>71.0</td>\n",
       "      <td>73.0</td>\n",
       "      <td>57.348340</td>\n",
       "      <td>4.43</td>\n",
       "      <td>0.000000</td>\n",
       "      <td>6.53</td>\n",
       "      <td>73.0</td>\n",
       "    </tr>\n",
       "    <tr>\n",
       "      <th>2936</th>\n",
       "      <td>45.3</td>\n",
       "      <td>9.8</td>\n",
       "      <td>0.427</td>\n",
       "      <td>25.9</td>\n",
       "      <td>75.0</td>\n",
       "      <td>76.0</td>\n",
       "      <td>548.587312</td>\n",
       "      <td>1.72</td>\n",
       "      <td>0.000000</td>\n",
       "      <td>6.16</td>\n",
       "      <td>76.0</td>\n",
       "    </tr>\n",
       "    <tr>\n",
       "      <th>2937</th>\n",
       "      <td>46.0</td>\n",
       "      <td>9.8</td>\n",
       "      <td>0.434</td>\n",
       "      <td>25.5</td>\n",
       "      <td>78.0</td>\n",
       "      <td>78.0</td>\n",
       "      <td>547.358879</td>\n",
       "      <td>1.68</td>\n",
       "      <td>0.000000</td>\n",
       "      <td>7.10</td>\n",
       "      <td>79.0</td>\n",
       "    </tr>\n",
       "  </tbody>\n",
       "</table>\n",
       "<p>2888 rows × 11 columns</p>\n",
       "</div>"
      ],
      "text/plain": [
       "      Life expectancy   Schooling  Income composition of resources   BMI   \\\n",
       "0                 65.0       10.1                            0.479   19.1   \n",
       "1                 59.9       10.0                            0.476   18.6   \n",
       "2                 59.9        9.9                            0.470   18.1   \n",
       "3                 59.5        9.8                            0.463   17.6   \n",
       "4                 59.2        9.5                            0.454   17.2   \n",
       "...                ...        ...                              ...    ...   \n",
       "2933              44.3        9.2                            0.407   27.1   \n",
       "2934              44.5        9.5                            0.418   26.7   \n",
       "2935              44.8       10.0                            0.427   26.3   \n",
       "2936              45.3        9.8                            0.427   25.9   \n",
       "2937              46.0        9.8                            0.434   25.5   \n",
       "\n",
       "      Diphtheria   Polio         GDP  Alcohol  percentage expenditure  \\\n",
       "0            65.0    6.0  584.259210     0.01               71.279624   \n",
       "1            62.0   58.0  612.696514     0.01               73.523582   \n",
       "2            64.0   62.0  631.744976     0.01               73.219243   \n",
       "3            67.0   67.0  669.959000     0.01               78.184215   \n",
       "4            68.0   68.0   63.537231     0.01                7.097109   \n",
       "...           ...    ...         ...      ...                     ...   \n",
       "2933         65.0   67.0  454.366654     4.36                0.000000   \n",
       "2934         68.0    7.0  453.351155     4.06                0.000000   \n",
       "2935         71.0   73.0   57.348340     4.43                0.000000   \n",
       "2936         75.0   76.0  548.587312     1.72                0.000000   \n",
       "2937         78.0   78.0  547.358879     1.68                0.000000   \n",
       "\n",
       "      Total expenditure  Hepatitis B  \n",
       "0                  8.16         65.0  \n",
       "1                  8.18         62.0  \n",
       "2                  8.13         64.0  \n",
       "3                  8.52         67.0  \n",
       "4                  7.87         68.0  \n",
       "...                 ...          ...  \n",
       "2933               7.13         68.0  \n",
       "2934               6.52          7.0  \n",
       "2935               6.53         73.0  \n",
       "2936               6.16         76.0  \n",
       "2937               7.10         79.0  \n",
       "\n",
       "[2888 rows x 11 columns]"
      ]
     },
     "execution_count": 232,
     "metadata": {},
     "output_type": "execute_result"
    }
   ],
   "source": [
    "## copying the selected columns into a new dataframe:-\n",
    "data_new = data[['Life expectancy ',\n",
    " 'Schooling',\n",
    " 'Income composition of resources',\n",
    " ' BMI ',\n",
    " 'Diphtheria ',\n",
    " 'Polio',\n",
    " 'GDP',\n",
    " 'Alcohol',\n",
    " 'percentage expenditure',\n",
    " 'Total expenditure',\n",
    " 'Hepatitis B']].copy()\n",
    "data_new\n",
    "# data_new=[]\n",
    "# data_new"
   ]
  },
  {
   "cell_type": "markdown",
   "metadata": {},
   "source": [
    "\n",
    "\n",
    "<span style=\"font-size:15px; color:Green\">So over here we will be using the Min-Max Normalization Scaler.\n",
    "wWhere, the formula goes something like this:-= Xnorm = (X-Xmin)/(Xmax-Xmin)</span>"
   ]
  },
  {
   "cell_type": "markdown",
   "metadata": {},
   "source": [
    "<span style=\"font-size:15px; color:Green\">Therefore it basically converts all the values within the range of 0 to 1..!!..,,;;</span>"
   ]
  },
  {
   "cell_type": "code",
   "execution_count": 233,
   "metadata": {},
   "outputs": [],
   "source": [
    "from sklearn.preprocessing import MinMaxScaler\n",
    "scaling=MinMaxScaler()"
   ]
  },
  {
   "cell_type": "code",
   "execution_count": 234,
   "metadata": {},
   "outputs": [
    {
     "data": {
      "text/plain": [
       "(2888, 11)"
      ]
     },
     "execution_count": 234,
     "metadata": {},
     "output_type": "execute_result"
    }
   ],
   "source": [
    "data_new=scaling.fit_transform(data_new)\n",
    "data_new.shape\n",
    "# type(data_new)"
   ]
  },
  {
   "cell_type": "code",
   "execution_count": 235,
   "metadata": {},
   "outputs": [
    {
     "data": {
      "text/plain": [
       "pandas.core.frame.DataFrame"
      ]
     },
     "execution_count": 235,
     "metadata": {},
     "output_type": "execute_result"
    }
   ],
   "source": [
    "## converting the numpy array into a dataframe for further uses/usage:-.,;;\n",
    "data_new=pd.DataFrame(data_new)\n",
    "data_new.shape\n",
    "type(data_new)"
   ]
  },
  {
   "cell_type": "markdown",
   "metadata": {
    "id": "793cd04b"
   },
   "source": [
    "## 3.5 Identify the target variables.\n",
    "\n",
    "* Separate the data front the target such that the dataset is in the form of (X,y) or (Features, Label)\n",
    "\n",
    "* Discretize / Encode the target variable or perform one-hot encoding on the target or any other as and if required.\n",
    "\n"
   ]
  },
  {
   "cell_type": "code",
   "execution_count": 238,
   "metadata": {
    "id": "c9089b57"
   },
   "outputs": [
    {
     "name": "stdout",
     "output_type": "stream",
     "text": [
      "The dataframe after the normalisation:-\n"
     ]
    },
    {
     "data": {
      "text/html": [
       "<div>\n",
       "<style scoped>\n",
       "    .dataframe tbody tr th:only-of-type {\n",
       "        vertical-align: middle;\n",
       "    }\n",
       "\n",
       "    .dataframe tbody tr th {\n",
       "        vertical-align: top;\n",
       "    }\n",
       "\n",
       "    .dataframe thead th {\n",
       "        text-align: right;\n",
       "    }\n",
       "</style>\n",
       "<table border=\"1\" class=\"dataframe\">\n",
       "  <thead>\n",
       "    <tr style=\"text-align: right;\">\n",
       "      <th></th>\n",
       "      <th>0</th>\n",
       "      <th>1</th>\n",
       "      <th>2</th>\n",
       "      <th>3</th>\n",
       "      <th>4</th>\n",
       "      <th>5</th>\n",
       "      <th>6</th>\n",
       "      <th>7</th>\n",
       "      <th>8</th>\n",
       "      <th>9</th>\n",
       "      <th>10</th>\n",
       "    </tr>\n",
       "  </thead>\n",
       "  <tbody>\n",
       "    <tr>\n",
       "      <th>0</th>\n",
       "      <td>0.544592</td>\n",
       "      <td>0.487923</td>\n",
       "      <td>0.505274</td>\n",
       "      <td>0.236292</td>\n",
       "      <td>0.649485</td>\n",
       "      <td>0.031250</td>\n",
       "      <td>0.004889</td>\n",
       "      <td>0.000000</td>\n",
       "      <td>0.003659</td>\n",
       "      <td>0.452118</td>\n",
       "      <td>0.653061</td>\n",
       "    </tr>\n",
       "    <tr>\n",
       "      <th>1</th>\n",
       "      <td>0.447818</td>\n",
       "      <td>0.483092</td>\n",
       "      <td>0.502110</td>\n",
       "      <td>0.229765</td>\n",
       "      <td>0.618557</td>\n",
       "      <td>0.572917</td>\n",
       "      <td>0.005127</td>\n",
       "      <td>0.000000</td>\n",
       "      <td>0.003774</td>\n",
       "      <td>0.453279</td>\n",
       "      <td>0.622449</td>\n",
       "    </tr>\n",
       "    <tr>\n",
       "      <th>2</th>\n",
       "      <td>0.447818</td>\n",
       "      <td>0.478261</td>\n",
       "      <td>0.495781</td>\n",
       "      <td>0.223238</td>\n",
       "      <td>0.639175</td>\n",
       "      <td>0.614583</td>\n",
       "      <td>0.005287</td>\n",
       "      <td>0.000000</td>\n",
       "      <td>0.003759</td>\n",
       "      <td>0.450377</td>\n",
       "      <td>0.642857</td>\n",
       "    </tr>\n",
       "    <tr>\n",
       "      <th>3</th>\n",
       "      <td>0.440228</td>\n",
       "      <td>0.473430</td>\n",
       "      <td>0.488397</td>\n",
       "      <td>0.216710</td>\n",
       "      <td>0.670103</td>\n",
       "      <td>0.666667</td>\n",
       "      <td>0.005608</td>\n",
       "      <td>0.000000</td>\n",
       "      <td>0.004014</td>\n",
       "      <td>0.473012</td>\n",
       "      <td>0.673469</td>\n",
       "    </tr>\n",
       "    <tr>\n",
       "      <th>4</th>\n",
       "      <td>0.434535</td>\n",
       "      <td>0.458937</td>\n",
       "      <td>0.478903</td>\n",
       "      <td>0.211488</td>\n",
       "      <td>0.680412</td>\n",
       "      <td>0.677083</td>\n",
       "      <td>0.000519</td>\n",
       "      <td>0.000000</td>\n",
       "      <td>0.000364</td>\n",
       "      <td>0.435287</td>\n",
       "      <td>0.683673</td>\n",
       "    </tr>\n",
       "    <tr>\n",
       "      <th>...</th>\n",
       "      <td>...</td>\n",
       "      <td>...</td>\n",
       "      <td>...</td>\n",
       "      <td>...</td>\n",
       "      <td>...</td>\n",
       "      <td>...</td>\n",
       "      <td>...</td>\n",
       "      <td>...</td>\n",
       "      <td>...</td>\n",
       "      <td>...</td>\n",
       "      <td>...</td>\n",
       "    </tr>\n",
       "    <tr>\n",
       "      <th>2883</th>\n",
       "      <td>0.151803</td>\n",
       "      <td>0.444444</td>\n",
       "      <td>0.429325</td>\n",
       "      <td>0.340731</td>\n",
       "      <td>0.649485</td>\n",
       "      <td>0.666667</td>\n",
       "      <td>0.003799</td>\n",
       "      <td>0.243561</td>\n",
       "      <td>0.000000</td>\n",
       "      <td>0.392339</td>\n",
       "      <td>0.683673</td>\n",
       "    </tr>\n",
       "    <tr>\n",
       "      <th>2884</th>\n",
       "      <td>0.155598</td>\n",
       "      <td>0.458937</td>\n",
       "      <td>0.440928</td>\n",
       "      <td>0.335509</td>\n",
       "      <td>0.680412</td>\n",
       "      <td>0.041667</td>\n",
       "      <td>0.003790</td>\n",
       "      <td>0.226764</td>\n",
       "      <td>0.000000</td>\n",
       "      <td>0.356936</td>\n",
       "      <td>0.061224</td>\n",
       "    </tr>\n",
       "    <tr>\n",
       "      <th>2885</th>\n",
       "      <td>0.161290</td>\n",
       "      <td>0.483092</td>\n",
       "      <td>0.450422</td>\n",
       "      <td>0.330287</td>\n",
       "      <td>0.711340</td>\n",
       "      <td>0.729167</td>\n",
       "      <td>0.000467</td>\n",
       "      <td>0.247480</td>\n",
       "      <td>0.000000</td>\n",
       "      <td>0.357516</td>\n",
       "      <td>0.734694</td>\n",
       "    </tr>\n",
       "    <tr>\n",
       "      <th>2886</th>\n",
       "      <td>0.170778</td>\n",
       "      <td>0.473430</td>\n",
       "      <td>0.450422</td>\n",
       "      <td>0.325065</td>\n",
       "      <td>0.752577</td>\n",
       "      <td>0.760417</td>\n",
       "      <td>0.004589</td>\n",
       "      <td>0.095745</td>\n",
       "      <td>0.000000</td>\n",
       "      <td>0.336042</td>\n",
       "      <td>0.765306</td>\n",
       "    </tr>\n",
       "    <tr>\n",
       "      <th>2887</th>\n",
       "      <td>0.184061</td>\n",
       "      <td>0.473430</td>\n",
       "      <td>0.457806</td>\n",
       "      <td>0.319843</td>\n",
       "      <td>0.783505</td>\n",
       "      <td>0.781250</td>\n",
       "      <td>0.004579</td>\n",
       "      <td>0.093505</td>\n",
       "      <td>0.000000</td>\n",
       "      <td>0.390598</td>\n",
       "      <td>0.795918</td>\n",
       "    </tr>\n",
       "  </tbody>\n",
       "</table>\n",
       "<p>2888 rows × 11 columns</p>\n",
       "</div>"
      ],
      "text/plain": [
       "            0         1         2         3         4         5         6   \\\n",
       "0     0.544592  0.487923  0.505274  0.236292  0.649485  0.031250  0.004889   \n",
       "1     0.447818  0.483092  0.502110  0.229765  0.618557  0.572917  0.005127   \n",
       "2     0.447818  0.478261  0.495781  0.223238  0.639175  0.614583  0.005287   \n",
       "3     0.440228  0.473430  0.488397  0.216710  0.670103  0.666667  0.005608   \n",
       "4     0.434535  0.458937  0.478903  0.211488  0.680412  0.677083  0.000519   \n",
       "...        ...       ...       ...       ...       ...       ...       ...   \n",
       "2883  0.151803  0.444444  0.429325  0.340731  0.649485  0.666667  0.003799   \n",
       "2884  0.155598  0.458937  0.440928  0.335509  0.680412  0.041667  0.003790   \n",
       "2885  0.161290  0.483092  0.450422  0.330287  0.711340  0.729167  0.000467   \n",
       "2886  0.170778  0.473430  0.450422  0.325065  0.752577  0.760417  0.004589   \n",
       "2887  0.184061  0.473430  0.457806  0.319843  0.783505  0.781250  0.004579   \n",
       "\n",
       "            7         8         9         10  \n",
       "0     0.000000  0.003659  0.452118  0.653061  \n",
       "1     0.000000  0.003774  0.453279  0.622449  \n",
       "2     0.000000  0.003759  0.450377  0.642857  \n",
       "3     0.000000  0.004014  0.473012  0.673469  \n",
       "4     0.000000  0.000364  0.435287  0.683673  \n",
       "...        ...       ...       ...       ...  \n",
       "2883  0.243561  0.000000  0.392339  0.683673  \n",
       "2884  0.226764  0.000000  0.356936  0.061224  \n",
       "2885  0.247480  0.000000  0.357516  0.734694  \n",
       "2886  0.095745  0.000000  0.336042  0.765306  \n",
       "2887  0.093505  0.000000  0.390598  0.795918  \n",
       "\n",
       "[2888 rows x 11 columns]"
      ]
     },
     "execution_count": 238,
     "metadata": {},
     "output_type": "execute_result"
    }
   ],
   "source": [
    "# #---------Type the code below this line------------------##\n",
    "print(\"The dataframe after the normalisation:-\")\n",
    "data_new#.head()"
   ]
  },
  {
   "cell_type": "markdown",
   "metadata": {},
   "source": [
    "<span style=\"font-size:15px; color:Green\">Considering the 'Life Expectancy' column as the Target Column:-</span>"
   ]
  },
  {
   "cell_type": "code",
   "execution_count": 240,
   "metadata": {},
   "outputs": [
    {
     "data": {
      "text/plain": [
       "0       0.544592\n",
       "1       0.447818\n",
       "2       0.447818\n",
       "3       0.440228\n",
       "4       0.434535\n",
       "          ...   \n",
       "2883    0.151803\n",
       "2884    0.155598\n",
       "2885    0.161290\n",
       "2886    0.170778\n",
       "2887    0.184061\n",
       "Name: 0, Length: 2888, dtype: float64"
      ]
     },
     "execution_count": 240,
     "metadata": {},
     "output_type": "execute_result"
    }
   ],
   "source": [
    "# data_new['Life expectancy ']\n",
    "data_new.iloc[:,0]"
   ]
  },
  {
   "cell_type": "markdown",
   "metadata": {},
   "source": [
    "<span style=\"font-size:15px; color:Green\">Considering the remaining columns as the Training Columns:-</span>"
   ]
  },
  {
   "cell_type": "code",
   "execution_count": 241,
   "metadata": {},
   "outputs": [
    {
     "data": {
      "text/html": [
       "<div>\n",
       "<style scoped>\n",
       "    .dataframe tbody tr th:only-of-type {\n",
       "        vertical-align: middle;\n",
       "    }\n",
       "\n",
       "    .dataframe tbody tr th {\n",
       "        vertical-align: top;\n",
       "    }\n",
       "\n",
       "    .dataframe thead th {\n",
       "        text-align: right;\n",
       "    }\n",
       "</style>\n",
       "<table border=\"1\" class=\"dataframe\">\n",
       "  <thead>\n",
       "    <tr style=\"text-align: right;\">\n",
       "      <th></th>\n",
       "      <th>1</th>\n",
       "      <th>2</th>\n",
       "      <th>3</th>\n",
       "      <th>4</th>\n",
       "      <th>5</th>\n",
       "      <th>6</th>\n",
       "      <th>7</th>\n",
       "      <th>8</th>\n",
       "      <th>9</th>\n",
       "      <th>10</th>\n",
       "    </tr>\n",
       "  </thead>\n",
       "  <tbody>\n",
       "    <tr>\n",
       "      <th>0</th>\n",
       "      <td>0.487923</td>\n",
       "      <td>0.505274</td>\n",
       "      <td>0.236292</td>\n",
       "      <td>0.649485</td>\n",
       "      <td>0.031250</td>\n",
       "      <td>0.004889</td>\n",
       "      <td>0.000000</td>\n",
       "      <td>0.003659</td>\n",
       "      <td>0.452118</td>\n",
       "      <td>0.653061</td>\n",
       "    </tr>\n",
       "    <tr>\n",
       "      <th>1</th>\n",
       "      <td>0.483092</td>\n",
       "      <td>0.502110</td>\n",
       "      <td>0.229765</td>\n",
       "      <td>0.618557</td>\n",
       "      <td>0.572917</td>\n",
       "      <td>0.005127</td>\n",
       "      <td>0.000000</td>\n",
       "      <td>0.003774</td>\n",
       "      <td>0.453279</td>\n",
       "      <td>0.622449</td>\n",
       "    </tr>\n",
       "    <tr>\n",
       "      <th>2</th>\n",
       "      <td>0.478261</td>\n",
       "      <td>0.495781</td>\n",
       "      <td>0.223238</td>\n",
       "      <td>0.639175</td>\n",
       "      <td>0.614583</td>\n",
       "      <td>0.005287</td>\n",
       "      <td>0.000000</td>\n",
       "      <td>0.003759</td>\n",
       "      <td>0.450377</td>\n",
       "      <td>0.642857</td>\n",
       "    </tr>\n",
       "    <tr>\n",
       "      <th>3</th>\n",
       "      <td>0.473430</td>\n",
       "      <td>0.488397</td>\n",
       "      <td>0.216710</td>\n",
       "      <td>0.670103</td>\n",
       "      <td>0.666667</td>\n",
       "      <td>0.005608</td>\n",
       "      <td>0.000000</td>\n",
       "      <td>0.004014</td>\n",
       "      <td>0.473012</td>\n",
       "      <td>0.673469</td>\n",
       "    </tr>\n",
       "    <tr>\n",
       "      <th>4</th>\n",
       "      <td>0.458937</td>\n",
       "      <td>0.478903</td>\n",
       "      <td>0.211488</td>\n",
       "      <td>0.680412</td>\n",
       "      <td>0.677083</td>\n",
       "      <td>0.000519</td>\n",
       "      <td>0.000000</td>\n",
       "      <td>0.000364</td>\n",
       "      <td>0.435287</td>\n",
       "      <td>0.683673</td>\n",
       "    </tr>\n",
       "    <tr>\n",
       "      <th>...</th>\n",
       "      <td>...</td>\n",
       "      <td>...</td>\n",
       "      <td>...</td>\n",
       "      <td>...</td>\n",
       "      <td>...</td>\n",
       "      <td>...</td>\n",
       "      <td>...</td>\n",
       "      <td>...</td>\n",
       "      <td>...</td>\n",
       "      <td>...</td>\n",
       "    </tr>\n",
       "    <tr>\n",
       "      <th>2883</th>\n",
       "      <td>0.444444</td>\n",
       "      <td>0.429325</td>\n",
       "      <td>0.340731</td>\n",
       "      <td>0.649485</td>\n",
       "      <td>0.666667</td>\n",
       "      <td>0.003799</td>\n",
       "      <td>0.243561</td>\n",
       "      <td>0.000000</td>\n",
       "      <td>0.392339</td>\n",
       "      <td>0.683673</td>\n",
       "    </tr>\n",
       "    <tr>\n",
       "      <th>2884</th>\n",
       "      <td>0.458937</td>\n",
       "      <td>0.440928</td>\n",
       "      <td>0.335509</td>\n",
       "      <td>0.680412</td>\n",
       "      <td>0.041667</td>\n",
       "      <td>0.003790</td>\n",
       "      <td>0.226764</td>\n",
       "      <td>0.000000</td>\n",
       "      <td>0.356936</td>\n",
       "      <td>0.061224</td>\n",
       "    </tr>\n",
       "    <tr>\n",
       "      <th>2885</th>\n",
       "      <td>0.483092</td>\n",
       "      <td>0.450422</td>\n",
       "      <td>0.330287</td>\n",
       "      <td>0.711340</td>\n",
       "      <td>0.729167</td>\n",
       "      <td>0.000467</td>\n",
       "      <td>0.247480</td>\n",
       "      <td>0.000000</td>\n",
       "      <td>0.357516</td>\n",
       "      <td>0.734694</td>\n",
       "    </tr>\n",
       "    <tr>\n",
       "      <th>2886</th>\n",
       "      <td>0.473430</td>\n",
       "      <td>0.450422</td>\n",
       "      <td>0.325065</td>\n",
       "      <td>0.752577</td>\n",
       "      <td>0.760417</td>\n",
       "      <td>0.004589</td>\n",
       "      <td>0.095745</td>\n",
       "      <td>0.000000</td>\n",
       "      <td>0.336042</td>\n",
       "      <td>0.765306</td>\n",
       "    </tr>\n",
       "    <tr>\n",
       "      <th>2887</th>\n",
       "      <td>0.473430</td>\n",
       "      <td>0.457806</td>\n",
       "      <td>0.319843</td>\n",
       "      <td>0.783505</td>\n",
       "      <td>0.781250</td>\n",
       "      <td>0.004579</td>\n",
       "      <td>0.093505</td>\n",
       "      <td>0.000000</td>\n",
       "      <td>0.390598</td>\n",
       "      <td>0.795918</td>\n",
       "    </tr>\n",
       "  </tbody>\n",
       "</table>\n",
       "<p>2888 rows × 10 columns</p>\n",
       "</div>"
      ],
      "text/plain": [
       "            1         2         3         4         5         6         7   \\\n",
       "0     0.487923  0.505274  0.236292  0.649485  0.031250  0.004889  0.000000   \n",
       "1     0.483092  0.502110  0.229765  0.618557  0.572917  0.005127  0.000000   \n",
       "2     0.478261  0.495781  0.223238  0.639175  0.614583  0.005287  0.000000   \n",
       "3     0.473430  0.488397  0.216710  0.670103  0.666667  0.005608  0.000000   \n",
       "4     0.458937  0.478903  0.211488  0.680412  0.677083  0.000519  0.000000   \n",
       "...        ...       ...       ...       ...       ...       ...       ...   \n",
       "2883  0.444444  0.429325  0.340731  0.649485  0.666667  0.003799  0.243561   \n",
       "2884  0.458937  0.440928  0.335509  0.680412  0.041667  0.003790  0.226764   \n",
       "2885  0.483092  0.450422  0.330287  0.711340  0.729167  0.000467  0.247480   \n",
       "2886  0.473430  0.450422  0.325065  0.752577  0.760417  0.004589  0.095745   \n",
       "2887  0.473430  0.457806  0.319843  0.783505  0.781250  0.004579  0.093505   \n",
       "\n",
       "            8         9         10  \n",
       "0     0.003659  0.452118  0.653061  \n",
       "1     0.003774  0.453279  0.622449  \n",
       "2     0.003759  0.450377  0.642857  \n",
       "3     0.004014  0.473012  0.673469  \n",
       "4     0.000364  0.435287  0.683673  \n",
       "...        ...       ...       ...  \n",
       "2883  0.000000  0.392339  0.683673  \n",
       "2884  0.000000  0.356936  0.061224  \n",
       "2885  0.000000  0.357516  0.734694  \n",
       "2886  0.000000  0.336042  0.765306  \n",
       "2887  0.000000  0.390598  0.795918  \n",
       "\n",
       "[2888 rows x 10 columns]"
      ]
     },
     "execution_count": 241,
     "metadata": {},
     "output_type": "execute_result"
    }
   ],
   "source": [
    "# data_new[1:]\n",
    "data_new.iloc[:,1:]"
   ]
  },
  {
   "cell_type": "markdown",
   "metadata": {},
   "source": [
    "## 3.6 Split the data into training set and testing set"
   ]
  },
  {
   "cell_type": "code",
   "execution_count": 242,
   "metadata": {},
   "outputs": [
    {
     "name": "stdout",
     "output_type": "stream",
     "text": [
      "(2888,)\n",
      "(2888, 10)\n"
     ]
    }
   ],
   "source": [
    "#Output.,;;::--\n",
    "# y=data_new['Life expectancy ']\n",
    "y=data_new.iloc[:,0]\n",
    "#Input\n",
    "\n",
    "X=data_new.iloc[:,1:]\n",
    "print(y.shape)\n",
    "print(X.shape)\n",
    "\n"
   ]
  },
  {
   "cell_type": "code",
   "execution_count": 243,
   "metadata": {},
   "outputs": [
    {
     "name": "stdout",
     "output_type": "stream",
     "text": [
      "(2021, 10)\n",
      "(867, 10)\n",
      "(2021,)\n",
      "(867,)\n"
     ]
    }
   ],
   "source": [
    "##---------Type the code below this line------------------##\n",
    "## splitting the dataset :-\n",
    "from sklearn.model_selection import train_test_split\n",
    "X_train,X_test=train_test_split(X,test_size=0.3,random_state=0)\n",
    "y_train,y_test=train_test_split(y,test_size=0.3,random_state=0)\n",
    "print(X_train.shape)\n",
    "print(X_test.shape)\n",
    "print(y_train.shape)\n",
    "print(y_test.shape)\n"
   ]
  },
  {
   "cell_type": "markdown",
   "metadata": {
    "id": "e3cec4fc"
   },
   "source": [
    "## 3.7 Report\n",
    "\n",
    "Mention the method adopted  and justify why the method was used\n",
    "* to remove duplicate data, if present \n",
    "* to impute or remove missing data, if present \n",
    "* to remove data inconsistencies, if present \n",
    "* to encode categorical data \n",
    "* the normalization technique used\n",
    "\n",
    "If the any of the above are not present, then also add in the report below.\n",
    "\n",
    "Report the size of the training dataset and testing dataset\n",
    "\n",
    "Score: 3 Marks"
   ]
  },
  {
   "cell_type": "markdown",
   "metadata": {},
   "source": [
    "##---------Type the answer below this line------------------##<br>\n",
    "<span style=\"font-size:15px; color:Green\">\n",
    "    -> As we have mentioned above; there are no duplicates present in the dataset. <br>\n",
    "    -> Null values are removed for certain columns which are having a total of less than 2% of null values, for the remaining we have replaced the null values with the median value, since mean and mode can easily get affected by outliers.<br>\n",
    "    -> The categorical columns, which in this case are two:- 'Country' and 'Status'.,; have been encoded into numerical values., using the 'get_dummies' method of pandas, and also the first column for both have been removed.<br>\n",
    "    -> The normalization technique that has been used is the :- 'MinMaxScaler' technique, which converts all the values of all the columns, having their respective individual units into a range of 0 to 1.<br><br>\n",
    "    The sizes of the training and the testing datasets are:-<br>\n",
    "    -> X_train: (2021, 10)<br>\n",
    "    -> X_test: (867, 10)<br>\n",
    "    -> y_train: (2021,)<br>\n",
    "    -> y_test: (867,)<br>    \n",
    "</span>"
   ]
  },
  {
   "cell_type": "code",
   "execution_count": 244,
   "metadata": {},
   "outputs": [
    {
     "data": {
      "image/png": "[encoded data removed]",
      "text/plain": [
       "<Figure size 1440x1440 with 10 Axes>"
      ]
     },
     "metadata": {
      "needs_background": "light"
     },
     "output_type": "display_data"
    }
   ],
   "source": [
    "lables=['Life expectancy ',\n",
    " 'Schooling',\n",
    " 'Income composition of resources',\n",
    " ' BMI ',\n",
    " 'Diphtheria ',\n",
    " 'Polio',\n",
    " 'GDP',\n",
    " 'Alcohol',\n",
    " 'percentage expenditure',\n",
    " 'Total expenditure',\n",
    " 'Hepatitis B']\n",
    "plt.figure(figsize=(20,20))\n",
    "for i in range(1,11):\n",
    "    plt.subplot(4,4,i+1)\n",
    "    plt.scatter(data_new[i],data_new[0])\n",
    "    plt.ylabel('Life Expectency')\n",
    "    plt.xlabel(lables[i])"
   ]
  },
  {
   "cell_type": "markdown",
   "metadata": {},
   "source": [
    "# Model Training.,;;::--"
   ]
  },
  {
   "cell_type": "code",
   "execution_count": 246,
   "metadata": {},
   "outputs": [],
   "source": [
    "from sklearn.metrics import mean_squared_error\n",
    "from sklearn.metrics import mean_absolute_error"
   ]
  },
  {
   "cell_type": "markdown",
   "metadata": {},
   "source": [
    "####    LinearRegression:-"
   ]
  },
  {
   "cell_type": "code",
   "execution_count": 247,
   "metadata": {},
   "outputs": [
    {
     "name": "stdout",
     "output_type": "stream",
     "text": [
      "The R^2 Score for Linear Regression is:- \n",
      "0.6330760002285369 \n",
      "\n",
      "The mean-squared-error for Linear Regression is:- \n",
      "0.012227919176912846 \n",
      "\n",
      "The mean-absolute-error for Linear Regression is:- \n",
      "0.08235441365800976 \n",
      "\n",
      "The RMSE for Linear Regression is:- \n",
      "0.1105799221238324 \n",
      "\n"
     ]
    }
   ],
   "source": [
    "from sklearn.linear_model import LinearRegression\n",
    "regressor = LinearRegression()\n",
    "regressor.fit(X_train,y_train)\n",
    "\n",
    "y_pred=regressor.predict(X_test)\n",
    "\n",
    "from sklearn.metrics import r2_score\n",
    "score=r2_score(y_test,y_pred)\n",
    "print(\"The R^2 Score for Linear Regression is:- \")\n",
    "print(score,\"\\n\")\n",
    "\n",
    "print(\"The mean-squared-error for Linear Regression is:- \")\n",
    "print(mean_squared_error(y_pred,y_test),\"\\n\")\n",
    "\n",
    "print(\"The mean-absolute-error for Linear Regression is:- \")\n",
    "print(mean_absolute_error(y_pred,y_test),\"\\n\")\n",
    "                         \n",
    "print(\"The RMSE for Linear Regression is:- \")\n",
    "print(np.sqrt(((y_pred-y_test)**2).mean()),\"\\n\")                         "
   ]
  },
  {
   "cell_type": "markdown",
   "metadata": {},
   "source": [
    "####     Ridge():-"
   ]
  },
  {
   "cell_type": "code",
   "execution_count": 248,
   "metadata": {},
   "outputs": [
    {
     "name": "stdout",
     "output_type": "stream",
     "text": [
      "The R^2 Score for Ridge Regression is:- \n",
      "0.6328579166089274 \n",
      "\n",
      "The mean-squared-error for Ridge Regression is:- \n",
      "0.012235186918668782 \n",
      "\n",
      "The mean-absolute-error for Ridge Regression is:- \n",
      "0.082262234500692 \n",
      "\n",
      "The RMSE for Ridge Regression is:- \n",
      "0.11061277918336909 \n",
      "\n"
     ]
    }
   ],
   "source": [
    "## Now.,; ; we are trying the same with the 'Ridge and Lasso'o..,,;;::--\n",
    "regressor = Ridge()\n",
    "regressor.fit(X_train,y_train)\n",
    "\n",
    "y_pred=regressor.predict(X_test)\n",
    "\n",
    "from sklearn.metrics import r2_score\n",
    "score=r2_score(y_test,y_pred)\n",
    "print(\"The R^2 Score for Ridge Regression is:- \")\n",
    "print(score,\"\\n\")\n",
    "\n",
    "print(\"The mean-squared-error for Ridge Regression is:- \")\n",
    "print(mean_squared_error(y_pred,y_test),\"\\n\")\n",
    "\n",
    "print(\"The mean-absolute-error for Ridge Regression is:- \")\n",
    "print(mean_absolute_error(y_pred,y_test),\"\\n\")\n",
    "                         \n",
    "print(\"The RMSE for Ridge Regression is:- \")\n",
    "print(np.sqrt(((y_pred-y_test)**2).mean()),\"\\n\")  "
   ]
  },
  {
   "cell_type": "markdown",
   "metadata": {},
   "source": [
    "####   Lasso():-."
   ]
  },
  {
   "cell_type": "code",
   "execution_count": 249,
   "metadata": {},
   "outputs": [
    {
     "name": "stdout",
     "output_type": "stream",
     "text": [
      "The R^2 Score for Lasso Regression is:- \n",
      "-0.00031813222132992536 \n",
      "\n",
      "The mean-squared-error for Lasso Regression is:- \n",
      "0.033336083983662466 \n",
      "\n",
      "The mean-absolute-error for Lasso Regression is:- \n",
      "0.14874514086511934 \n",
      "\n",
      "The RMSE for Lasso Regression is:- \n",
      "0.1825817186458231 \n",
      "\n"
     ]
    }
   ],
   "source": [
    "## Now.,; ; we are trying the same with the 'Ridge and Lasso'o..,,;;::--\n",
    "regressor = Lasso()\n",
    "regressor.fit(X_train,y_train)\n",
    "\n",
    "y_pred=regressor.predict(X_test)\n",
    "\n",
    "from sklearn.metrics import r2_score\n",
    "score=r2_score(y_test,y_pred)\n",
    "print(\"The R^2 Score for Lasso Regression is:- \")\n",
    "print(score,\"\\n\")\n",
    "\n",
    "print(\"The mean-squared-error for Lasso Regression is:- \")\n",
    "print(mean_squared_error(y_pred,y_test),\"\\n\")\n",
    "\n",
    "print(\"The mean-absolute-error for Lasso Regression is:- \")\n",
    "print(mean_absolute_error(y_pred,y_test),\"\\n\")\n",
    "                         \n",
    "print(\"The RMSE for Lasso Regression is:- \")\n",
    "print(np.sqrt(((y_pred-y_test)**2).mean()),\"\\n\")  "
   ]
  },
  {
   "cell_type": "markdown",
   "metadata": {},
   "source": [
    "####    DecisionTreeRegressor:-"
   ]
  },
  {
   "cell_type": "code",
   "execution_count": 250,
   "metadata": {},
   "outputs": [
    {
     "name": "stdout",
     "output_type": "stream",
     "text": [
      "The R^2 Score for DecisionTreeRegressor is:- \n",
      "0.8118250087169706 \n",
      "\n",
      "The mean-squared-error for DecisionTreeRegressor  is:- \n",
      "0.006271022298782101 \n",
      "\n",
      "The mean-absolute-error for DecisionTreeRegressor is:- \n",
      "0.049362126812997766 \n",
      "\n",
      "The RMSE for DecisionTreeRegressor is:- \n",
      "0.07918978658123853 \n",
      "\n"
     ]
    }
   ],
   "source": [
    "from sklearn.tree import DecisionTreeRegressor\n",
    "regressor = DecisionTreeRegressor()\n",
    "regressor.fit(X_train,y_train)\n",
    "\n",
    "y_pred=regressor.predict(X_test)\n",
    "\n",
    "from sklearn.metrics import r2_score\n",
    "score=r2_score(y_test,y_pred)\n",
    "print(\"The R^2 Score for DecisionTreeRegressor is:- \")\n",
    "print(score,\"\\n\")\n",
    "\n",
    "\n",
    "\n",
    "print(\"The mean-squared-error for DecisionTreeRegressor  is:- \")\n",
    "print(mean_squared_error(y_pred,y_test),\"\\n\")\n",
    "\n",
    "print(\"The mean-absolute-error for DecisionTreeRegressor is:- \")\n",
    "print(mean_absolute_error(y_pred,y_test),\"\\n\")\n",
    "                         \n",
    "print(\"The RMSE for DecisionTreeRegressor is:- \")\n",
    "print(np.sqrt(((y_pred-y_test)**2).mean()),\"\\n\")  "
   ]
  },
  {
   "cell_type": "markdown",
   "metadata": {},
   "source": [
    "####    RandomForestRegressor:-"
   ]
  },
  {
   "cell_type": "code",
   "execution_count": 251,
   "metadata": {},
   "outputs": [
    {
     "name": "stdout",
     "output_type": "stream",
     "text": [
      "The R^2 Score for RandomForestRegressor is:- \n",
      "0.907317176261133 \n",
      "\n",
      "The mean-squared-error for RandomForestRegressor  is:- \n",
      "0.0030886997810794805 \n",
      "\n",
      "The mean-absolute-error for RandomForestRegressor is:- \n",
      "0.03878461575499716 \n",
      "\n",
      "The RMSE for RandomForestRegressor is:- \n",
      "0.05557607201916557 \n",
      "\n"
     ]
    }
   ],
   "source": [
    "from sklearn.ensemble import RandomForestRegressor\n",
    "regressor = RandomForestRegressor()\n",
    "regressor.fit(X_train,y_train)\n",
    "\n",
    "y_pred=regressor.predict(X_test)\n",
    "\n",
    "from sklearn.metrics import r2_score\n",
    "score=r2_score(y_test,y_pred)\n",
    "print(\"The R^2 Score for RandomForestRegressor is:- \")\n",
    "print(score,\"\\n\")\n",
    "\n",
    "\n",
    "\n",
    "print(\"The mean-squared-error for RandomForestRegressor  is:- \")\n",
    "print(mean_squared_error(y_pred,y_test),\"\\n\")\n",
    "\n",
    "print(\"The mean-absolute-error for RandomForestRegressor is:- \")\n",
    "print(mean_absolute_error(y_pred,y_test),\"\\n\")\n",
    "                         \n",
    "print(\"The RMSE for RandomForestRegressor is:- \")\n",
    "print(np.sqrt(((y_pred-y_test)**2).mean()),\"\\n\")  "
   ]
  },
  {
   "cell_type": "markdown",
   "metadata": {},
   "source": [
    "#### ExtraTreesRegressor:-"
   ]
  },
  {
   "cell_type": "code",
   "execution_count": 252,
   "metadata": {},
   "outputs": [
    {
     "name": "stdout",
     "output_type": "stream",
     "text": [
      "The R^2 Score for ExtraTreesRegressor is:- \n",
      "0.9201417002607599 \n",
      "\n",
      "The mean-squared-error for ExtraTreesRegressor  is:- \n",
      "0.0026613163364220312 \n",
      "\n",
      "The mean-absolute-error for ExtraTreesRegressor is:- \n",
      "0.03446406177160003 \n",
      "\n",
      "The RMSE for ExtraTreesRegressor is:- \n",
      "0.0515879475887734 \n",
      "\n"
     ]
    }
   ],
   "source": [
    "from sklearn.ensemble import ExtraTreesRegressor\n",
    "regressor = ExtraTreesRegressor()\n",
    "regressor.fit(X_train,y_train)\n",
    "\n",
    "y_pred=regressor.predict(X_test)\n",
    "\n",
    "from sklearn.metrics import r2_score\n",
    "score=r2_score(y_test,y_pred)\n",
    "print(\"The R^2 Score for ExtraTreesRegressor is:- \")\n",
    "print(score,\"\\n\")\n",
    "\n",
    "\n",
    "\n",
    "print(\"The mean-squared-error for ExtraTreesRegressor  is:- \")\n",
    "print(mean_squared_error(y_pred,y_test),\"\\n\")\n",
    "\n",
    "print(\"The mean-absolute-error for ExtraTreesRegressor is:- \")\n",
    "print(mean_absolute_error(y_pred,y_test),\"\\n\")\n",
    "                         \n",
    "print(\"The RMSE for ExtraTreesRegressor is:- \")\n",
    "print(np.sqrt(((y_pred-y_test)**2).mean()),\"\\n\")  "
   ]
  },
  {
   "cell_type": "code",
   "execution_count": 253,
   "metadata": {},
   "outputs": [
    {
     "data": {
      "text/plain": [
       "array([0.73468691, 0.39444023, 0.72068311, 0.53244782, 0.33339658])"
      ]
     },
     "execution_count": 253,
     "metadata": {},
     "output_type": "execute_result"
    }
   ],
   "source": [
    "y_pred[:5]"
   ]
  },
  {
   "cell_type": "code",
   "execution_count": 254,
   "metadata": {},
   "outputs": [],
   "source": [
    "cutoff = 0.7                              # decide on a cutoff limit\n",
    "y_pred_classes = np.zeros_like(y_pred)    # initialise a matrix full with zeros\n",
    "y_pred_classes[y_pred > cutoff] = 1       # add a 1 if the cutoff was breached"
   ]
  },
  {
   "cell_type": "code",
   "execution_count": 255,
   "metadata": {},
   "outputs": [
    {
     "data": {
      "text/plain": [
       "array([1., 0., 1., 0., 0.])"
      ]
     },
     "execution_count": 255,
     "metadata": {},
     "output_type": "execute_result"
    }
   ],
   "source": [
    "y_pred_classes[:5]"
   ]
  },
  {
   "cell_type": "code",
   "execution_count": 256,
   "metadata": {},
   "outputs": [
    {
     "data": {
      "text/plain": [
       "1157    0.724858\n",
       "1754    0.404175\n",
       "2156    0.730550\n",
       "298     0.544592\n",
       "488     0.328273\n",
       "Name: 0, dtype: float64"
      ]
     },
     "execution_count": 256,
     "metadata": {},
     "output_type": "execute_result"
    }
   ],
   "source": [
    "y_test[:5]"
   ]
  },
  {
   "cell_type": "code",
   "execution_count": 257,
   "metadata": {},
   "outputs": [
    {
     "data": {
      "text/plain": [
       "array([1., 0., 1., 0., 0.])"
      ]
     },
     "execution_count": 257,
     "metadata": {},
     "output_type": "execute_result"
    }
   ],
   "source": [
    "#you have to do the same for the actual values too:\n",
    "\n",
    "y_test_classes = np.zeros_like(y_test)\n",
    "y_test_classes[y_test > cutoff] = 1\n",
    "y_test_classes[:5]"
   ]
  },
  {
   "cell_type": "code",
   "execution_count": 259,
   "metadata": {},
   "outputs": [
    {
     "name": "stdout",
     "output_type": "stream",
     "text": [
      "  TP.  FN\n",
      "  FP   TN\n",
      "[[465  34]\n",
      " [ 52 316]]\n",
      "Accuracy:-  0.9008073817762399\n",
      "precision:-  0.8994197292069632\n",
      "recall:- 0.5953905249679897\n",
      "F1 Score.:- 0.7164869029275809\n"
     ]
    }
   ],
   "source": [
    "## Confusion matrix:-\n",
    "\n",
    "print(\"  TP.  FN\")\n",
    "print(\"  FP   TN\")\n",
    "x=confusion_matrix(y_test_classes, y_pred_classes)\n",
    "print(x)\n",
    "TP=x[0][0]\n",
    "FN=x[0][1]\n",
    "FP=x[1][0]\n",
    "TN=x[1][1]\n",
    "print(\"Accuracy:- \",((TP+TN)/(TP+FP+FN+TN)))\n",
    "print(\"precision:- \",TP/(TP+FP))\n",
    "print(\"recall:-\",TP/(TP+TN))\n",
    "print(\"F1 Score.:-\",2 * ( (TP/(TP+FP)) * (TP/(TP+TN)) ) / ( (TP/(TP+FP)) + (TP/(TP+TN)) ) )"
   ]
  },
  {
   "cell_type": "markdown",
   "metadata": {},
   "source": [
    "<span style=\"font-size:15px; color:Green\">Note that over here; we can see that out of all the Regression techniques used above.,; \"ExtraTreesRegressor\" and \"RandomForestRegressor\" are having the highest R^2 values. Hence will be considering them.</span>"
   ]
  },
  {
   "cell_type": "markdown",
   "metadata": {
    "id": "3ae0b5d2"
   },
   "source": [
    "# 4. Deep Neural Network Architecture\n",
    "\n"
   ]
  },
  {
   "cell_type": "markdown",
   "metadata": {
    "id": "186bf4d7"
   },
   "source": [
    "## 4.1 Design the architecture that you will be using to solve the prediction problem identified.\n",
    "\n",
    "* Add dense layers, specifying the number of units in each layer and the activation function used in the layer."
   ]
  },
  {
   "cell_type": "code",
   "execution_count": 260,
   "metadata": {
    "id": "868d7b27"
   },
   "outputs": [],
   "source": [
    "##---------Type the code below this line------------------##"
   ]
  },
  {
   "cell_type": "code",
   "execution_count": 261,
   "metadata": {},
   "outputs": [],
   "source": [
    "import keras\n",
    "from keras.models import Sequential\n",
    "from keras.layers import Dense\n",
    "from keras.layers import LeakyReLU,PReLU, ELU\n",
    "from keras.layers import Dropout\n",
    "from keras import regularizers"
   ]
  },
  {
   "cell_type": "code",
   "execution_count": 311,
   "metadata": {},
   "outputs": [],
   "source": [
    "## Follow:- https://www.youtube.com/watch?v=OTTOglLJxLU&list=PLZoTAELRMXVPGU70ZGsckrMdr0FteeRUi&index=23\n",
    "\n",
    "# ## Initialsing the ANN:-\n",
    "# classifier = Sequential()\n",
    "\n",
    "# ## adding the input layer and the first hidden layer.\n",
    "# classifier.add(Dense(output_dim=6, init='he_uniform', activation='relu', input_dim=11))\n",
    "\n",
    "# ## adding  the second hidden layer.\n",
    "# classifier.add(Dense(output_dim=6, init='he_uniform', activation='relu' ))\n",
    "\n",
    "# ## adding  the output layer.\n",
    "# classifier.add(Dense(output_dim=1, init='glorot_uniform', activation='linear' ))\n",
    "\n",
    "from tensorflow.keras import models\n",
    "from tensorflow.keras import layers\n",
    "model=models.Sequential()\n",
    "\n",
    "## Input Layer:-\n",
    "model.add(layers.Dense(64, activation='relu', input_shape=(X_train.shape[1],)))\n",
    "\n",
    "# First Hidden Layer:-\n",
    "model.add(Dense(64))\n",
    "model.add(LeakyReLU(alpha=0.05))\n",
    "\n",
    "# Second Hidden Layer:-\n",
    "model.add(Dense(64))\n",
    "model.add(LeakyReLU(alpha=0.05))\n",
    "\n",
    "# Third Hidden Layer:-\n",
    "model.add(Dense(64))\n",
    "model.add(LeakyReLU(alpha=0.05))\n",
    "\n",
    "# Fourth Hidden Layer:-\n",
    "model.add(Dense(64))\n",
    "model.add(LeakyReLU(alpha=0.05))\n",
    "\n",
    "# Fifth Hidden Layer:-\n",
    "model.add(Dense(64))\n",
    "model.add(LeakyReLU(alpha=0.05))\n",
    "\n",
    "# Sixth Hidden Layer:-\n",
    "model.add(Dense(64))\n",
    "model.add(LeakyReLU(alpha=0.05))\n",
    "\n",
    "# Seventh Hidden Layer:-\n",
    "model.add(Dense(64))\n",
    "model.add(LeakyReLU(alpha=0.05))\n",
    "\n",
    "# model.add(layers.Dense(64, activation='LeakyReLu'))\n",
    "# model.add(layers.Dense(64, activation='LeakyReLu'))\n",
    "# model.add(layers.Dense(64, activation='LeakyReLu'))\n",
    "# model.add(layers.Dense(64, activation='LeakyReLu'))\n",
    "# model.add(layers.Dense(64, activation='LeakyReLu'))\n",
    "# model.add(layers.Dense(64, activation='LeakyReLu'))\n",
    "model.add(layers.Dense(1, activation='linear'))\n",
    "model.compile(loss='mean_squared_error', optimizer='adam', metrics=['accuracy','mean_absolute_error','mean_squared_error'])\n",
    "\n"
   ]
  },
  {
   "cell_type": "markdown",
   "metadata": {
    "id": "575f9e37"
   },
   "source": [
    "## 4.2 Report\n",
    "\n",
    "Report the following and provide justification for the same.\n",
    "\n",
    "* Number of layers\n",
    "* Number of units in each layer\n",
    "* Activation function used in each hidden layer\n",
    "* Activation function used in the output layer\n",
    "* Total number of trainable parameters \n",
    "\n",
    "Score: 4 Marks"
   ]
  },
  {
   "cell_type": "markdown",
   "metadata": {
    "id": "4d614311"
   },
   "source": [
    "##---------Type the answer below this line------------------##<br>\n",
    "<span style=\"font-size:15px; color:Green\">\n",
    "-> We have introduced a total of 7 hidden layers along with an input and out layer respectively.<br>\n",
    "-> The output layer has a single unit; which will provide with the prediction, but all other layers are having 64 units per layer.<br>\n",
    "-> The input layer has the 'Relu' activation function.\n",
    "-> We have used the 'Leaky Relu' activation function for the hidden layers.: The reason being that It fixes the “dying ReLU” problem, as it doesn't have zero-slope parts. It speeds up training. To put it simply; it can consider scenarios where the derivate becoming closer to zero, by adding a very small value to it, hence making it close to zero but not exactly equal to zero.<br>\n",
    "-> For the output layer, we are using the linear activation function.<br>\n",
    "-> For the fully connected layers, the number of trainable parameters can be computed by (n + 1) × m, where n is the number of input units and m is the number of output units. The +1 term in the equation takes into account the bias terms.<br>\n",
    "Therefore,<br>\n",
    "Input -> 1HL: (64+1)*64=4160 <br>\n",
    "1HL -> 2HL: (64+1)*64=4160 <br>\n",
    "2HL -> 3HL: (64+1)*64=4160 <br>\n",
    "3HL -> 4HL: (64+1)*64=4160  <br>\n",
    "4HL -> 5HL: (64+1)*64=4160 <br>\n",
    "5HL -> 6HL: (64+1)*64=4160 <br>\n",
    "6HL -> 7 HL: (64+1)*64=4160 <br>\n",
    "6HL -> O/P Layer: (64+1)*1=65 <br>\n",
    "Therefore; we have a total of 4160+4160+4160+4160+4160+4160+4160+65=29185 trainable paramaters are there in total..!!..,,;;</span>"
   ]
  },
  {
   "cell_type": "code",
   "execution_count": null,
   "metadata": {},
   "outputs": [],
   "source": []
  },
  {
   "cell_type": "markdown",
   "metadata": {
    "id": "bdbc82a1"
   },
   "source": [
    "# 5. Training the model\n"
   ]
  },
  {
   "cell_type": "markdown",
   "metadata": {
    "id": "ca214eb3"
   },
   "source": [
    "## 5.1 Configure the training\n",
    "\n",
    "Configure  the model for training, by using appropriate optimizers and regularizations\n",
    "\n"
   ]
  },
  {
   "cell_type": "code",
   "execution_count": 312,
   "metadata": {
    "id": "a85e9754"
   },
   "outputs": [],
   "source": [
    "##---------Type the code below this line------------------##"
   ]
  },
  {
   "cell_type": "code",
   "execution_count": 313,
   "metadata": {
    "scrolled": true
   },
   "outputs": [
    {
     "name": "stdout",
     "output_type": "stream",
     "text": [
      "Epoch 1/200\n",
      "203/203 [==============================] - 1s 4ms/step - loss: 0.0237 - accuracy: 0.0030 - mean_absolute_error: 0.1054 - mean_squared_error: 0.0237 - val_loss: 0.0143 - val_accuracy: 0.0058 - val_mean_absolute_error: 0.0888 - val_mean_squared_error: 0.0143\n",
      "Epoch 2/200\n",
      "203/203 [==============================] - 1s 4ms/step - loss: 0.0102 - accuracy: 0.0035 - mean_absolute_error: 0.0749 - mean_squared_error: 0.0102 - val_loss: 0.0093 - val_accuracy: 0.0058 - val_mean_absolute_error: 0.0707 - val_mean_squared_error: 0.0093\n",
      "Epoch 3/200\n",
      "203/203 [==============================] - 1s 3ms/step - loss: 0.0095 - accuracy: 0.0035 - mean_absolute_error: 0.0729 - mean_squared_error: 0.0095 - val_loss: 0.0094 - val_accuracy: 0.0058 - val_mean_absolute_error: 0.0704 - val_mean_squared_error: 0.0094\n",
      "Epoch 4/200\n",
      "203/203 [==============================] - 1s 2ms/step - loss: 0.0091 - accuracy: 0.0035 - mean_absolute_error: 0.0706 - mean_squared_error: 0.0091 - val_loss: 0.0097 - val_accuracy: 0.0058 - val_mean_absolute_error: 0.0764 - val_mean_squared_error: 0.0097\n",
      "Epoch 5/200\n",
      "203/203 [==============================] - 1s 3ms/step - loss: 0.0082 - accuracy: 0.0035 - mean_absolute_error: 0.0655 - mean_squared_error: 0.0082 - val_loss: 0.0081 - val_accuracy: 0.0058 - val_mean_absolute_error: 0.0671 - val_mean_squared_error: 0.0081\n",
      "Epoch 6/200\n",
      "203/203 [==============================] - 1s 3ms/step - loss: 0.0083 - accuracy: 0.0030 - mean_absolute_error: 0.0671 - mean_squared_error: 0.0083 - val_loss: 0.0077 - val_accuracy: 0.0058 - val_mean_absolute_error: 0.0667 - val_mean_squared_error: 0.0077\n",
      "Epoch 7/200\n",
      "203/203 [==============================] - 1s 2ms/step - loss: 0.0076 - accuracy: 0.0035 - mean_absolute_error: 0.0634 - mean_squared_error: 0.0076 - val_loss: 0.0078 - val_accuracy: 0.0058 - val_mean_absolute_error: 0.0673 - val_mean_squared_error: 0.0078\n",
      "Epoch 8/200\n",
      "203/203 [==============================] - 0s 2ms/step - loss: 0.0077 - accuracy: 0.0035 - mean_absolute_error: 0.0643 - mean_squared_error: 0.0077 - val_loss: 0.0070 - val_accuracy: 0.0058 - val_mean_absolute_error: 0.0601 - val_mean_squared_error: 0.0070\n",
      "Epoch 9/200\n",
      "203/203 [==============================] - 1s 3ms/step - loss: 0.0069 - accuracy: 0.0035 - mean_absolute_error: 0.0597 - mean_squared_error: 0.0069 - val_loss: 0.0064 - val_accuracy: 0.0058 - val_mean_absolute_error: 0.0597 - val_mean_squared_error: 0.0064\n",
      "Epoch 10/200\n",
      "203/203 [==============================] - 1s 3ms/step - loss: 0.0075 - accuracy: 0.0035 - mean_absolute_error: 0.0646 - mean_squared_error: 0.0075 - val_loss: 0.0066 - val_accuracy: 0.0058 - val_mean_absolute_error: 0.0594 - val_mean_squared_error: 0.0066\n",
      "Epoch 11/200\n",
      "203/203 [==============================] - 1s 3ms/step - loss: 0.0075 - accuracy: 0.0035 - mean_absolute_error: 0.0639 - mean_squared_error: 0.0075 - val_loss: 0.0065 - val_accuracy: 0.0058 - val_mean_absolute_error: 0.0602 - val_mean_squared_error: 0.0065\n",
      "Epoch 12/200\n",
      "203/203 [==============================] - 1s 3ms/step - loss: 0.0068 - accuracy: 0.0030 - mean_absolute_error: 0.0598 - mean_squared_error: 0.0068 - val_loss: 0.0069 - val_accuracy: 0.0058 - val_mean_absolute_error: 0.0600 - val_mean_squared_error: 0.0069\n",
      "Epoch 13/200\n",
      "203/203 [==============================] - 1s 3ms/step - loss: 0.0065 - accuracy: 0.0035 - mean_absolute_error: 0.0591 - mean_squared_error: 0.0065 - val_loss: 0.0071 - val_accuracy: 0.0058 - val_mean_absolute_error: 0.0652 - val_mean_squared_error: 0.0071\n",
      "Epoch 14/200\n",
      "203/203 [==============================] - 1s 3ms/step - loss: 0.0067 - accuracy: 0.0035 - mean_absolute_error: 0.0603 - mean_squared_error: 0.0067 - val_loss: 0.0076 - val_accuracy: 0.0058 - val_mean_absolute_error: 0.0648 - val_mean_squared_error: 0.0076\n",
      "Epoch 15/200\n",
      "203/203 [==============================] - 1s 3ms/step - loss: 0.0063 - accuracy: 0.0035 - mean_absolute_error: 0.0580 - mean_squared_error: 0.0063 - val_loss: 0.0089 - val_accuracy: 0.0058 - val_mean_absolute_error: 0.0700 - val_mean_squared_error: 0.0089\n",
      "Epoch 16/200\n",
      "203/203 [==============================] - 1s 3ms/step - loss: 0.0063 - accuracy: 0.0035 - mean_absolute_error: 0.0579 - mean_squared_error: 0.0063 - val_loss: 0.0078 - val_accuracy: 0.0058 - val_mean_absolute_error: 0.0660 - val_mean_squared_error: 0.0078\n",
      "Epoch 17/200\n",
      "203/203 [==============================] - 1s 3ms/step - loss: 0.0066 - accuracy: 0.0035 - mean_absolute_error: 0.0610 - mean_squared_error: 0.0066 - val_loss: 0.0075 - val_accuracy: 0.0058 - val_mean_absolute_error: 0.0659 - val_mean_squared_error: 0.0075\n",
      "Epoch 18/200\n",
      "203/203 [==============================] - 1s 3ms/step - loss: 0.0059 - accuracy: 0.0035 - mean_absolute_error: 0.0567 - mean_squared_error: 0.0059 - val_loss: 0.0082 - val_accuracy: 0.0058 - val_mean_absolute_error: 0.0687 - val_mean_squared_error: 0.0082\n",
      "Epoch 19/200\n",
      "203/203 [==============================] - 1s 3ms/step - loss: 0.0060 - accuracy: 0.0035 - mean_absolute_error: 0.0565 - mean_squared_error: 0.0060 - val_loss: 0.0086 - val_accuracy: 0.0058 - val_mean_absolute_error: 0.0742 - val_mean_squared_error: 0.0086\n",
      "Epoch 20/200\n",
      "203/203 [==============================] - 1s 3ms/step - loss: 0.0060 - accuracy: 0.0035 - mean_absolute_error: 0.0577 - mean_squared_error: 0.0060 - val_loss: 0.0059 - val_accuracy: 0.0058 - val_mean_absolute_error: 0.0565 - val_mean_squared_error: 0.0059\n",
      "Epoch 21/200\n",
      "203/203 [==============================] - 1s 3ms/step - loss: 0.0058 - accuracy: 0.0035 - mean_absolute_error: 0.0564 - mean_squared_error: 0.0058 - val_loss: 0.0058 - val_accuracy: 0.0058 - val_mean_absolute_error: 0.0561 - val_mean_squared_error: 0.0058\n",
      "Epoch 22/200\n",
      "203/203 [==============================] - 1s 3ms/step - loss: 0.0063 - accuracy: 0.0035 - mean_absolute_error: 0.0585 - mean_squared_error: 0.0063 - val_loss: 0.0121 - val_accuracy: 0.0058 - val_mean_absolute_error: 0.0905 - val_mean_squared_error: 0.0121\n",
      "Epoch 23/200\n",
      "203/203 [==============================] - 1s 3ms/step - loss: 0.0057 - accuracy: 0.0035 - mean_absolute_error: 0.0543 - mean_squared_error: 0.0057 - val_loss: 0.0065 - val_accuracy: 0.0058 - val_mean_absolute_error: 0.0577 - val_mean_squared_error: 0.0065\n",
      "Epoch 24/200\n",
      "203/203 [==============================] - 1s 3ms/step - loss: 0.0052 - accuracy: 0.0035 - mean_absolute_error: 0.0521 - mean_squared_error: 0.0052 - val_loss: 0.0065 - val_accuracy: 0.0058 - val_mean_absolute_error: 0.0596 - val_mean_squared_error: 0.0065\n",
      "Epoch 25/200\n",
      "203/203 [==============================] - 1s 3ms/step - loss: 0.0051 - accuracy: 0.0035 - mean_absolute_error: 0.0523 - mean_squared_error: 0.0051 - val_loss: 0.0058 - val_accuracy: 0.0058 - val_mean_absolute_error: 0.0551 - val_mean_squared_error: 0.0058\n",
      "Epoch 26/200\n",
      "203/203 [==============================] - 1s 3ms/step - loss: 0.0053 - accuracy: 0.0035 - mean_absolute_error: 0.0528 - mean_squared_error: 0.0053 - val_loss: 0.0054 - val_accuracy: 0.0058 - val_mean_absolute_error: 0.0536 - val_mean_squared_error: 0.0054\n",
      "Epoch 27/200\n",
      "203/203 [==============================] - 1s 3ms/step - loss: 0.0054 - accuracy: 0.0035 - mean_absolute_error: 0.0539 - mean_squared_error: 0.0054 - val_loss: 0.0062 - val_accuracy: 0.0058 - val_mean_absolute_error: 0.0607 - val_mean_squared_error: 0.0062\n",
      "Epoch 28/200\n",
      "203/203 [==============================] - 1s 3ms/step - loss: 0.0052 - accuracy: 0.0035 - mean_absolute_error: 0.0516 - mean_squared_error: 0.0052 - val_loss: 0.0058 - val_accuracy: 0.0058 - val_mean_absolute_error: 0.0571 - val_mean_squared_error: 0.0058\n",
      "Epoch 29/200\n",
      "203/203 [==============================] - 1s 3ms/step - loss: 0.0051 - accuracy: 0.0035 - mean_absolute_error: 0.0521 - mean_squared_error: 0.0051 - val_loss: 0.0054 - val_accuracy: 0.0058 - val_mean_absolute_error: 0.0529 - val_mean_squared_error: 0.0054\n",
      "Epoch 30/200\n",
      "203/203 [==============================] - 1s 3ms/step - loss: 0.0053 - accuracy: 0.0035 - mean_absolute_error: 0.0531 - mean_squared_error: 0.0053 - val_loss: 0.0071 - val_accuracy: 0.0058 - val_mean_absolute_error: 0.0647 - val_mean_squared_error: 0.0071\n",
      "Epoch 31/200\n",
      "203/203 [==============================] - 1s 3ms/step - loss: 0.0051 - accuracy: 0.0035 - mean_absolute_error: 0.0514 - mean_squared_error: 0.0051 - val_loss: 0.0066 - val_accuracy: 0.0058 - val_mean_absolute_error: 0.0599 - val_mean_squared_error: 0.0066\n",
      "Epoch 32/200\n",
      "203/203 [==============================] - 1s 3ms/step - loss: 0.0051 - accuracy: 0.0035 - mean_absolute_error: 0.0527 - mean_squared_error: 0.0051 - val_loss: 0.0061 - val_accuracy: 0.0058 - val_mean_absolute_error: 0.0558 - val_mean_squared_error: 0.0061\n",
      "Epoch 33/200\n",
      "203/203 [==============================] - 1s 3ms/step - loss: 0.0050 - accuracy: 0.0035 - mean_absolute_error: 0.0518 - mean_squared_error: 0.0050 - val_loss: 0.0058 - val_accuracy: 0.0058 - val_mean_absolute_error: 0.0556 - val_mean_squared_error: 0.0058\n",
      "Epoch 34/200\n",
      "203/203 [==============================] - 1s 3ms/step - loss: 0.0049 - accuracy: 0.0035 - mean_absolute_error: 0.0510 - mean_squared_error: 0.0049 - val_loss: 0.0052 - val_accuracy: 0.0058 - val_mean_absolute_error: 0.0547 - val_mean_squared_error: 0.0052\n",
      "Epoch 35/200\n",
      "203/203 [==============================] - 1s 4ms/step - loss: 0.0046 - accuracy: 0.0035 - mean_absolute_error: 0.0493 - mean_squared_error: 0.0046 - val_loss: 0.0073 - val_accuracy: 0.0058 - val_mean_absolute_error: 0.0642 - val_mean_squared_error: 0.0073\n",
      "Epoch 36/200\n",
      "203/203 [==============================] - 1s 3ms/step - loss: 0.0047 - accuracy: 0.0035 - mean_absolute_error: 0.0504 - mean_squared_error: 0.0047 - val_loss: 0.0057 - val_accuracy: 0.0058 - val_mean_absolute_error: 0.0568 - val_mean_squared_error: 0.0057\n",
      "Epoch 37/200\n",
      "203/203 [==============================] - 1s 4ms/step - loss: 0.0048 - accuracy: 0.0035 - mean_absolute_error: 0.0503 - mean_squared_error: 0.0048 - val_loss: 0.0050 - val_accuracy: 0.0058 - val_mean_absolute_error: 0.0518 - val_mean_squared_error: 0.0050\n",
      "Epoch 38/200\n",
      "203/203 [==============================] - 1s 3ms/step - loss: 0.0044 - accuracy: 0.0035 - mean_absolute_error: 0.0481 - mean_squared_error: 0.0044 - val_loss: 0.0055 - val_accuracy: 0.0058 - val_mean_absolute_error: 0.0556 - val_mean_squared_error: 0.0055\n",
      "Epoch 39/200\n",
      "203/203 [==============================] - 1s 3ms/step - loss: 0.0045 - accuracy: 0.0035 - mean_absolute_error: 0.0491 - mean_squared_error: 0.0045 - val_loss: 0.0052 - val_accuracy: 0.0058 - val_mean_absolute_error: 0.0523 - val_mean_squared_error: 0.0052\n",
      "Epoch 40/200\n",
      "203/203 [==============================] - 1s 3ms/step - loss: 0.0043 - accuracy: 0.0035 - mean_absolute_error: 0.0471 - mean_squared_error: 0.0043 - val_loss: 0.0050 - val_accuracy: 0.0058 - val_mean_absolute_error: 0.0510 - val_mean_squared_error: 0.0050\n",
      "Epoch 41/200\n",
      "203/203 [==============================] - 1s 3ms/step - loss: 0.0041 - accuracy: 0.0035 - mean_absolute_error: 0.0460 - mean_squared_error: 0.0041 - val_loss: 0.0049 - val_accuracy: 0.0058 - val_mean_absolute_error: 0.0509 - val_mean_squared_error: 0.0049\n",
      "Epoch 42/200\n",
      "203/203 [==============================] - 1s 3ms/step - loss: 0.0049 - accuracy: 0.0035 - mean_absolute_error: 0.0516 - mean_squared_error: 0.0049 - val_loss: 0.0053 - val_accuracy: 0.0058 - val_mean_absolute_error: 0.0526 - val_mean_squared_error: 0.0053\n",
      "Epoch 43/200\n",
      "203/203 [==============================] - 1s 3ms/step - loss: 0.0047 - accuracy: 0.0035 - mean_absolute_error: 0.0497 - mean_squared_error: 0.0047 - val_loss: 0.0053 - val_accuracy: 0.0058 - val_mean_absolute_error: 0.0531 - val_mean_squared_error: 0.0053\n",
      "Epoch 44/200\n",
      "203/203 [==============================] - 1s 3ms/step - loss: 0.0047 - accuracy: 0.0035 - mean_absolute_error: 0.0501 - mean_squared_error: 0.0047 - val_loss: 0.0048 - val_accuracy: 0.0058 - val_mean_absolute_error: 0.0509 - val_mean_squared_error: 0.0048\n",
      "Epoch 45/200\n",
      "203/203 [==============================] - 1s 3ms/step - loss: 0.0044 - accuracy: 0.0035 - mean_absolute_error: 0.0482 - mean_squared_error: 0.0044 - val_loss: 0.0084 - val_accuracy: 0.0058 - val_mean_absolute_error: 0.0703 - val_mean_squared_error: 0.0084\n",
      "Epoch 46/200\n",
      "203/203 [==============================] - 1s 3ms/step - loss: 0.0044 - accuracy: 0.0035 - mean_absolute_error: 0.0485 - mean_squared_error: 0.0044 - val_loss: 0.0068 - val_accuracy: 0.0058 - val_mean_absolute_error: 0.0612 - val_mean_squared_error: 0.0068\n",
      "Epoch 47/200\n",
      "203/203 [==============================] - 1s 3ms/step - loss: 0.0048 - accuracy: 0.0035 - mean_absolute_error: 0.0505 - mean_squared_error: 0.0048 - val_loss: 0.0051 - val_accuracy: 0.0058 - val_mean_absolute_error: 0.0530 - val_mean_squared_error: 0.0051\n",
      "Epoch 48/200\n",
      "203/203 [==============================] - 1s 4ms/step - loss: 0.0042 - accuracy: 0.0035 - mean_absolute_error: 0.0476 - mean_squared_error: 0.0042 - val_loss: 0.0052 - val_accuracy: 0.0058 - val_mean_absolute_error: 0.0517 - val_mean_squared_error: 0.0052\n",
      "Epoch 49/200\n",
      "203/203 [==============================] - 1s 3ms/step - loss: 0.0041 - accuracy: 0.0035 - mean_absolute_error: 0.0458 - mean_squared_error: 0.0041 - val_loss: 0.0074 - val_accuracy: 0.0058 - val_mean_absolute_error: 0.0638 - val_mean_squared_error: 0.0074\n",
      "Epoch 50/200\n",
      "203/203 [==============================] - 1s 3ms/step - loss: 0.0045 - accuracy: 0.0035 - mean_absolute_error: 0.0488 - mean_squared_error: 0.0045 - val_loss: 0.0049 - val_accuracy: 0.0058 - val_mean_absolute_error: 0.0515 - val_mean_squared_error: 0.0049\n",
      "Epoch 51/200\n",
      "203/203 [==============================] - 1s 3ms/step - loss: 0.0041 - accuracy: 0.0035 - mean_absolute_error: 0.0459 - mean_squared_error: 0.0041 - val_loss: 0.0052 - val_accuracy: 0.0058 - val_mean_absolute_error: 0.0528 - val_mean_squared_error: 0.0052\n",
      "Epoch 52/200\n",
      "203/203 [==============================] - 1s 3ms/step - loss: 0.0039 - accuracy: 0.0035 - mean_absolute_error: 0.0463 - mean_squared_error: 0.0039 - val_loss: 0.0049 - val_accuracy: 0.0058 - val_mean_absolute_error: 0.0509 - val_mean_squared_error: 0.0049\n",
      "Epoch 53/200\n",
      "203/203 [==============================] - 1s 3ms/step - loss: 0.0037 - accuracy: 0.0035 - mean_absolute_error: 0.0437 - mean_squared_error: 0.0037 - val_loss: 0.0048 - val_accuracy: 0.0058 - val_mean_absolute_error: 0.0506 - val_mean_squared_error: 0.0048\n",
      "Epoch 54/200\n",
      "203/203 [==============================] - 1s 3ms/step - loss: 0.0042 - accuracy: 0.0035 - mean_absolute_error: 0.0464 - mean_squared_error: 0.0042 - val_loss: 0.0053 - val_accuracy: 0.0058 - val_mean_absolute_error: 0.0534 - val_mean_squared_error: 0.0053\n",
      "Epoch 55/200\n",
      "203/203 [==============================] - 1s 3ms/step - loss: 0.0039 - accuracy: 0.0035 - mean_absolute_error: 0.0444 - mean_squared_error: 0.0039 - val_loss: 0.0057 - val_accuracy: 0.0058 - val_mean_absolute_error: 0.0542 - val_mean_squared_error: 0.0057\n",
      "Epoch 56/200\n",
      "203/203 [==============================] - 1s 3ms/step - loss: 0.0042 - accuracy: 0.0035 - mean_absolute_error: 0.0462 - mean_squared_error: 0.0042 - val_loss: 0.0060 - val_accuracy: 0.0058 - val_mean_absolute_error: 0.0590 - val_mean_squared_error: 0.0060\n",
      "Epoch 57/200\n",
      "203/203 [==============================] - 1s 3ms/step - loss: 0.0036 - accuracy: 0.0035 - mean_absolute_error: 0.0434 - mean_squared_error: 0.0036 - val_loss: 0.0053 - val_accuracy: 0.0058 - val_mean_absolute_error: 0.0534 - val_mean_squared_error: 0.0053\n",
      "Epoch 58/200\n",
      "203/203 [==============================] - 1s 3ms/step - loss: 0.0039 - accuracy: 0.0035 - mean_absolute_error: 0.0450 - mean_squared_error: 0.0039 - val_loss: 0.0048 - val_accuracy: 0.0058 - val_mean_absolute_error: 0.0499 - val_mean_squared_error: 0.0048\n",
      "Epoch 59/200\n",
      "203/203 [==============================] - 1s 3ms/step - loss: 0.0036 - accuracy: 0.0035 - mean_absolute_error: 0.0434 - mean_squared_error: 0.0036 - val_loss: 0.0061 - val_accuracy: 0.0058 - val_mean_absolute_error: 0.0575 - val_mean_squared_error: 0.0061\n",
      "Epoch 60/200\n",
      "203/203 [==============================] - 1s 4ms/step - loss: 0.0038 - accuracy: 0.0035 - mean_absolute_error: 0.0441 - mean_squared_error: 0.0038 - val_loss: 0.0053 - val_accuracy: 0.0058 - val_mean_absolute_error: 0.0550 - val_mean_squared_error: 0.0053\n",
      "Epoch 61/200\n"
     ]
    },
    {
     "name": "stdout",
     "output_type": "stream",
     "text": [
      "203/203 [==============================] - 1s 4ms/step - loss: 0.0036 - accuracy: 0.0035 - mean_absolute_error: 0.0435 - mean_squared_error: 0.0036 - val_loss: 0.0048 - val_accuracy: 0.0058 - val_mean_absolute_error: 0.0494 - val_mean_squared_error: 0.0048\n",
      "Epoch 62/200\n",
      "203/203 [==============================] - 1s 5ms/step - loss: 0.0036 - accuracy: 0.0035 - mean_absolute_error: 0.0436 - mean_squared_error: 0.0036 - val_loss: 0.0062 - val_accuracy: 0.0058 - val_mean_absolute_error: 0.0619 - val_mean_squared_error: 0.0062\n",
      "Epoch 63/200\n",
      "203/203 [==============================] - 1s 5ms/step - loss: 0.0037 - accuracy: 0.0035 - mean_absolute_error: 0.0436 - mean_squared_error: 0.0037 - val_loss: 0.0050 - val_accuracy: 0.0058 - val_mean_absolute_error: 0.0507 - val_mean_squared_error: 0.0050\n",
      "Epoch 64/200\n",
      "203/203 [==============================] - 1s 4ms/step - loss: 0.0039 - accuracy: 0.0035 - mean_absolute_error: 0.0452 - mean_squared_error: 0.0039 - val_loss: 0.0048 - val_accuracy: 0.0058 - val_mean_absolute_error: 0.0485 - val_mean_squared_error: 0.0048\n",
      "Epoch 65/200\n",
      "203/203 [==============================] - 1s 4ms/step - loss: 0.0043 - accuracy: 0.0035 - mean_absolute_error: 0.0468 - mean_squared_error: 0.0043 - val_loss: 0.0045 - val_accuracy: 0.0058 - val_mean_absolute_error: 0.0480 - val_mean_squared_error: 0.0045\n",
      "Epoch 66/200\n",
      "203/203 [==============================] - 1s 4ms/step - loss: 0.0036 - accuracy: 0.0035 - mean_absolute_error: 0.0439 - mean_squared_error: 0.0036 - val_loss: 0.0065 - val_accuracy: 0.0058 - val_mean_absolute_error: 0.0587 - val_mean_squared_error: 0.0065\n",
      "Epoch 67/200\n",
      "203/203 [==============================] - 1s 4ms/step - loss: 0.0039 - accuracy: 0.0035 - mean_absolute_error: 0.0450 - mean_squared_error: 0.0039 - val_loss: 0.0049 - val_accuracy: 0.0058 - val_mean_absolute_error: 0.0507 - val_mean_squared_error: 0.0049\n",
      "Epoch 68/200\n",
      "203/203 [==============================] - 1s 4ms/step - loss: 0.0035 - accuracy: 0.0035 - mean_absolute_error: 0.0431 - mean_squared_error: 0.0035 - val_loss: 0.0067 - val_accuracy: 0.0058 - val_mean_absolute_error: 0.0593 - val_mean_squared_error: 0.0067\n",
      "Epoch 69/200\n",
      "203/203 [==============================] - 1s 4ms/step - loss: 0.0035 - accuracy: 0.0035 - mean_absolute_error: 0.0431 - mean_squared_error: 0.0035 - val_loss: 0.0047 - val_accuracy: 0.0058 - val_mean_absolute_error: 0.0504 - val_mean_squared_error: 0.0047\n",
      "Epoch 70/200\n",
      "203/203 [==============================] - 1s 4ms/step - loss: 0.0031 - accuracy: 0.0035 - mean_absolute_error: 0.0398 - mean_squared_error: 0.0031 - val_loss: 0.0052 - val_accuracy: 0.0058 - val_mean_absolute_error: 0.0551 - val_mean_squared_error: 0.0052\n",
      "Epoch 71/200\n",
      "203/203 [==============================] - 1s 3ms/step - loss: 0.0032 - accuracy: 0.0035 - mean_absolute_error: 0.0407 - mean_squared_error: 0.0032 - val_loss: 0.0051 - val_accuracy: 0.0058 - val_mean_absolute_error: 0.0528 - val_mean_squared_error: 0.0051\n",
      "Epoch 72/200\n",
      "203/203 [==============================] - 1s 3ms/step - loss: 0.0039 - accuracy: 0.0035 - mean_absolute_error: 0.0450 - mean_squared_error: 0.0039 - val_loss: 0.0049 - val_accuracy: 0.0058 - val_mean_absolute_error: 0.0496 - val_mean_squared_error: 0.0049\n",
      "Epoch 73/200\n",
      "203/203 [==============================] - 1s 4ms/step - loss: 0.0030 - accuracy: 0.0035 - mean_absolute_error: 0.0389 - mean_squared_error: 0.0030 - val_loss: 0.0055 - val_accuracy: 0.0058 - val_mean_absolute_error: 0.0551 - val_mean_squared_error: 0.0055\n",
      "Epoch 74/200\n",
      "203/203 [==============================] - 1s 5ms/step - loss: 0.0036 - accuracy: 0.0035 - mean_absolute_error: 0.0431 - mean_squared_error: 0.0036 - val_loss: 0.0053 - val_accuracy: 0.0058 - val_mean_absolute_error: 0.0520 - val_mean_squared_error: 0.0053\n",
      "Epoch 75/200\n",
      "203/203 [==============================] - 1s 4ms/step - loss: 0.0034 - accuracy: 0.0035 - mean_absolute_error: 0.0417 - mean_squared_error: 0.0034 - val_loss: 0.0047 - val_accuracy: 0.0058 - val_mean_absolute_error: 0.0481 - val_mean_squared_error: 0.0047\n",
      "Epoch 76/200\n",
      "203/203 [==============================] - 1s 4ms/step - loss: 0.0032 - accuracy: 0.0035 - mean_absolute_error: 0.0401 - mean_squared_error: 0.0032 - val_loss: 0.0054 - val_accuracy: 0.0058 - val_mean_absolute_error: 0.0540 - val_mean_squared_error: 0.0054\n",
      "Epoch 77/200\n",
      "203/203 [==============================] - 1s 3ms/step - loss: 0.0034 - accuracy: 0.0035 - mean_absolute_error: 0.0415 - mean_squared_error: 0.0034 - val_loss: 0.0051 - val_accuracy: 0.0058 - val_mean_absolute_error: 0.0518 - val_mean_squared_error: 0.0051\n",
      "Epoch 78/200\n",
      "203/203 [==============================] - 1s 3ms/step - loss: 0.0033 - accuracy: 0.0035 - mean_absolute_error: 0.0410 - mean_squared_error: 0.0033 - val_loss: 0.0055 - val_accuracy: 0.0058 - val_mean_absolute_error: 0.0534 - val_mean_squared_error: 0.0055\n",
      "Epoch 79/200\n",
      "203/203 [==============================] - 1s 3ms/step - loss: 0.0034 - accuracy: 0.0035 - mean_absolute_error: 0.0419 - mean_squared_error: 0.0034 - val_loss: 0.0046 - val_accuracy: 0.0058 - val_mean_absolute_error: 0.0479 - val_mean_squared_error: 0.0046\n",
      "Epoch 80/200\n",
      "203/203 [==============================] - 1s 3ms/step - loss: 0.0034 - accuracy: 0.0035 - mean_absolute_error: 0.0418 - mean_squared_error: 0.0034 - val_loss: 0.0050 - val_accuracy: 0.0058 - val_mean_absolute_error: 0.0499 - val_mean_squared_error: 0.0050\n",
      "Epoch 81/200\n",
      "203/203 [==============================] - 1s 3ms/step - loss: 0.0037 - accuracy: 0.0035 - mean_absolute_error: 0.0428 - mean_squared_error: 0.0037 - val_loss: 0.0051 - val_accuracy: 0.0058 - val_mean_absolute_error: 0.0526 - val_mean_squared_error: 0.0051\n",
      "Epoch 82/200\n",
      "203/203 [==============================] - 1s 4ms/step - loss: 0.0033 - accuracy: 0.0035 - mean_absolute_error: 0.0415 - mean_squared_error: 0.0033 - val_loss: 0.0045 - val_accuracy: 0.0058 - val_mean_absolute_error: 0.0473 - val_mean_squared_error: 0.0045\n",
      "Epoch 83/200\n",
      "203/203 [==============================] - 1s 3ms/step - loss: 0.0030 - accuracy: 0.0035 - mean_absolute_error: 0.0397 - mean_squared_error: 0.0030 - val_loss: 0.0052 - val_accuracy: 0.0058 - val_mean_absolute_error: 0.0527 - val_mean_squared_error: 0.0052\n",
      "Epoch 84/200\n",
      "203/203 [==============================] - 1s 3ms/step - loss: 0.0029 - accuracy: 0.0035 - mean_absolute_error: 0.0385 - mean_squared_error: 0.0029 - val_loss: 0.0053 - val_accuracy: 0.0058 - val_mean_absolute_error: 0.0506 - val_mean_squared_error: 0.0053\n",
      "Epoch 85/200\n",
      "203/203 [==============================] - 1s 3ms/step - loss: 0.0036 - accuracy: 0.0035 - mean_absolute_error: 0.0439 - mean_squared_error: 0.0036 - val_loss: 0.0050 - val_accuracy: 0.0058 - val_mean_absolute_error: 0.0523 - val_mean_squared_error: 0.0050\n",
      "Epoch 86/200\n",
      "203/203 [==============================] - 1s 3ms/step - loss: 0.0038 - accuracy: 0.0035 - mean_absolute_error: 0.0434 - mean_squared_error: 0.0038 - val_loss: 0.0046 - val_accuracy: 0.0058 - val_mean_absolute_error: 0.0483 - val_mean_squared_error: 0.0046\n",
      "Epoch 87/200\n",
      "203/203 [==============================] - 1s 3ms/step - loss: 0.0029 - accuracy: 0.0035 - mean_absolute_error: 0.0392 - mean_squared_error: 0.0029 - val_loss: 0.0045 - val_accuracy: 0.0058 - val_mean_absolute_error: 0.0477 - val_mean_squared_error: 0.0045\n",
      "Epoch 88/200\n",
      "203/203 [==============================] - 1s 3ms/step - loss: 0.0031 - accuracy: 0.0035 - mean_absolute_error: 0.0406 - mean_squared_error: 0.0031 - val_loss: 0.0045 - val_accuracy: 0.0058 - val_mean_absolute_error: 0.0472 - val_mean_squared_error: 0.0045\n",
      "Epoch 89/200\n",
      "203/203 [==============================] - 1s 3ms/step - loss: 0.0026 - accuracy: 0.0035 - mean_absolute_error: 0.0364 - mean_squared_error: 0.0026 - val_loss: 0.0050 - val_accuracy: 0.0058 - val_mean_absolute_error: 0.0525 - val_mean_squared_error: 0.0050\n",
      "Epoch 90/200\n",
      "203/203 [==============================] - 1s 3ms/step - loss: 0.0028 - accuracy: 0.0035 - mean_absolute_error: 0.0368 - mean_squared_error: 0.0028 - val_loss: 0.0049 - val_accuracy: 0.0058 - val_mean_absolute_error: 0.0493 - val_mean_squared_error: 0.0049\n",
      "Epoch 91/200\n",
      "203/203 [==============================] - 1s 3ms/step - loss: 0.0029 - accuracy: 0.0035 - mean_absolute_error: 0.0390 - mean_squared_error: 0.0029 - val_loss: 0.0049 - val_accuracy: 0.0058 - val_mean_absolute_error: 0.0485 - val_mean_squared_error: 0.0049\n",
      "Epoch 92/200\n",
      "203/203 [==============================] - 1s 4ms/step - loss: 0.0028 - accuracy: 0.0035 - mean_absolute_error: 0.0382 - mean_squared_error: 0.0028 - val_loss: 0.0052 - val_accuracy: 0.0058 - val_mean_absolute_error: 0.0538 - val_mean_squared_error: 0.0052\n",
      "Epoch 93/200\n",
      "203/203 [==============================] - 1s 3ms/step - loss: 0.0029 - accuracy: 0.0035 - mean_absolute_error: 0.0387 - mean_squared_error: 0.0029 - val_loss: 0.0044 - val_accuracy: 0.0058 - val_mean_absolute_error: 0.0465 - val_mean_squared_error: 0.0044\n",
      "Epoch 94/200\n",
      "203/203 [==============================] - 1s 5ms/step - loss: 0.0030 - accuracy: 0.0035 - mean_absolute_error: 0.0392 - mean_squared_error: 0.0030 - val_loss: 0.0049 - val_accuracy: 0.0058 - val_mean_absolute_error: 0.0495 - val_mean_squared_error: 0.0049\n",
      "Epoch 95/200\n",
      "203/203 [==============================] - 1s 4ms/step - loss: 0.0032 - accuracy: 0.0035 - mean_absolute_error: 0.0405 - mean_squared_error: 0.0032 - val_loss: 0.0044 - val_accuracy: 0.0058 - val_mean_absolute_error: 0.0472 - val_mean_squared_error: 0.0044\n",
      "Epoch 96/200\n",
      "203/203 [==============================] - 1s 4ms/step - loss: 0.0030 - accuracy: 0.0035 - mean_absolute_error: 0.0384 - mean_squared_error: 0.0030 - val_loss: 0.0048 - val_accuracy: 0.0058 - val_mean_absolute_error: 0.0507 - val_mean_squared_error: 0.0048\n",
      "Epoch 97/200\n",
      "203/203 [==============================] - 1s 6ms/step - loss: 0.0027 - accuracy: 0.0035 - mean_absolute_error: 0.0377 - mean_squared_error: 0.0027 - val_loss: 0.0049 - val_accuracy: 0.0058 - val_mean_absolute_error: 0.0486 - val_mean_squared_error: 0.0049\n",
      "Epoch 98/200\n",
      "203/203 [==============================] - 1s 3ms/step - loss: 0.0032 - accuracy: 0.0035 - mean_absolute_error: 0.0403 - mean_squared_error: 0.0032 - val_loss: 0.0043 - val_accuracy: 0.0058 - val_mean_absolute_error: 0.0466 - val_mean_squared_error: 0.0043\n",
      "Epoch 99/200\n",
      "203/203 [==============================] - 1s 4ms/step - loss: 0.0029 - accuracy: 0.0035 - mean_absolute_error: 0.0384 - mean_squared_error: 0.0029 - val_loss: 0.0045 - val_accuracy: 0.0058 - val_mean_absolute_error: 0.0490 - val_mean_squared_error: 0.0045\n",
      "Epoch 100/200\n",
      "203/203 [==============================] - 1s 4ms/step - loss: 0.0039 - accuracy: 0.0035 - mean_absolute_error: 0.0443 - mean_squared_error: 0.0039 - val_loss: 0.0046 - val_accuracy: 0.0058 - val_mean_absolute_error: 0.0477 - val_mean_squared_error: 0.0046\n",
      "Epoch 101/200\n",
      "203/203 [==============================] - 1s 4ms/step - loss: 0.0026 - accuracy: 0.0035 - mean_absolute_error: 0.0366 - mean_squared_error: 0.0026 - val_loss: 0.0044 - val_accuracy: 0.0058 - val_mean_absolute_error: 0.0474 - val_mean_squared_error: 0.0044\n",
      "Epoch 102/200\n",
      "203/203 [==============================] - 1s 3ms/step - loss: 0.0029 - accuracy: 0.0035 - mean_absolute_error: 0.0385 - mean_squared_error: 0.0029 - val_loss: 0.0057 - val_accuracy: 0.0058 - val_mean_absolute_error: 0.0560 - val_mean_squared_error: 0.0057\n",
      "Epoch 103/200\n",
      "203/203 [==============================] - 1s 4ms/step - loss: 0.0030 - accuracy: 0.0035 - mean_absolute_error: 0.0393 - mean_squared_error: 0.0030 - val_loss: 0.0047 - val_accuracy: 0.0058 - val_mean_absolute_error: 0.0481 - val_mean_squared_error: 0.0047\n",
      "Epoch 104/200\n",
      "203/203 [==============================] - 1s 4ms/step - loss: 0.0031 - accuracy: 0.0035 - mean_absolute_error: 0.0393 - mean_squared_error: 0.0031 - val_loss: 0.0042 - val_accuracy: 0.0058 - val_mean_absolute_error: 0.0454 - val_mean_squared_error: 0.0042\n",
      "Epoch 105/200\n",
      "203/203 [==============================] - 1s 4ms/step - loss: 0.0025 - accuracy: 0.0035 - mean_absolute_error: 0.0359 - mean_squared_error: 0.0025 - val_loss: 0.0051 - val_accuracy: 0.0058 - val_mean_absolute_error: 0.0543 - val_mean_squared_error: 0.0051\n",
      "Epoch 106/200\n",
      "203/203 [==============================] - 1s 4ms/step - loss: 0.0023 - accuracy: 0.0035 - mean_absolute_error: 0.0341 - mean_squared_error: 0.0023 - val_loss: 0.0042 - val_accuracy: 0.0058 - val_mean_absolute_error: 0.0459 - val_mean_squared_error: 0.0042\n",
      "Epoch 107/200\n",
      "203/203 [==============================] - 1s 4ms/step - loss: 0.0022 - accuracy: 0.0035 - mean_absolute_error: 0.0335 - mean_squared_error: 0.0022 - val_loss: 0.0045 - val_accuracy: 0.0058 - val_mean_absolute_error: 0.0473 - val_mean_squared_error: 0.0045\n",
      "Epoch 108/200\n",
      "203/203 [==============================] - 1s 3ms/step - loss: 0.0024 - accuracy: 0.0035 - mean_absolute_error: 0.0350 - mean_squared_error: 0.0024 - val_loss: 0.0050 - val_accuracy: 0.0058 - val_mean_absolute_error: 0.0513 - val_mean_squared_error: 0.0050\n",
      "Epoch 109/200\n",
      "203/203 [==============================] - 1s 4ms/step - loss: 0.0025 - accuracy: 0.0035 - mean_absolute_error: 0.0361 - mean_squared_error: 0.0025 - val_loss: 0.0074 - val_accuracy: 0.0058 - val_mean_absolute_error: 0.0597 - val_mean_squared_error: 0.0074\n",
      "Epoch 110/200\n",
      "203/203 [==============================] - 1s 4ms/step - loss: 0.0028 - accuracy: 0.0035 - mean_absolute_error: 0.0379 - mean_squared_error: 0.0028 - val_loss: 0.0043 - val_accuracy: 0.0058 - val_mean_absolute_error: 0.0458 - val_mean_squared_error: 0.0043\n",
      "Epoch 111/200\n",
      "203/203 [==============================] - 1s 3ms/step - loss: 0.0024 - accuracy: 0.0035 - mean_absolute_error: 0.0351 - mean_squared_error: 0.0024 - val_loss: 0.0055 - val_accuracy: 0.0058 - val_mean_absolute_error: 0.0546 - val_mean_squared_error: 0.0055\n",
      "Epoch 112/200\n",
      "203/203 [==============================] - 1s 3ms/step - loss: 0.0028 - accuracy: 0.0035 - mean_absolute_error: 0.0369 - mean_squared_error: 0.0028 - val_loss: 0.0063 - val_accuracy: 0.0058 - val_mean_absolute_error: 0.0559 - val_mean_squared_error: 0.0063\n",
      "Epoch 113/200\n",
      "203/203 [==============================] - 1s 4ms/step - loss: 0.0025 - accuracy: 0.0035 - mean_absolute_error: 0.0367 - mean_squared_error: 0.0025 - val_loss: 0.0047 - val_accuracy: 0.0058 - val_mean_absolute_error: 0.0470 - val_mean_squared_error: 0.0047\n",
      "Epoch 114/200\n",
      "203/203 [==============================] - 1s 4ms/step - loss: 0.0023 - accuracy: 0.0035 - mean_absolute_error: 0.0341 - mean_squared_error: 0.0023 - val_loss: 0.0049 - val_accuracy: 0.0058 - val_mean_absolute_error: 0.0505 - val_mean_squared_error: 0.0049\n",
      "Epoch 115/200\n",
      "203/203 [==============================] - 1s 4ms/step - loss: 0.0021 - accuracy: 0.0035 - mean_absolute_error: 0.0332 - mean_squared_error: 0.0021 - val_loss: 0.0049 - val_accuracy: 0.0058 - val_mean_absolute_error: 0.0496 - val_mean_squared_error: 0.0049\n",
      "Epoch 116/200\n",
      "203/203 [==============================] - 1s 5ms/step - loss: 0.0023 - accuracy: 0.0035 - mean_absolute_error: 0.0338 - mean_squared_error: 0.0023 - val_loss: 0.0046 - val_accuracy: 0.0058 - val_mean_absolute_error: 0.0499 - val_mean_squared_error: 0.0046\n",
      "Epoch 117/200\n",
      "203/203 [==============================] - 2s 8ms/step - loss: 0.0023 - accuracy: 0.0035 - mean_absolute_error: 0.0341 - mean_squared_error: 0.0023 - val_loss: 0.0048 - val_accuracy: 0.0058 - val_mean_absolute_error: 0.0499 - val_mean_squared_error: 0.0048\n",
      "Epoch 118/200\n",
      "203/203 [==============================] - 1s 3ms/step - loss: 0.0022 - accuracy: 0.0035 - mean_absolute_error: 0.0338 - mean_squared_error: 0.0022 - val_loss: 0.0047 - val_accuracy: 0.0058 - val_mean_absolute_error: 0.0504 - val_mean_squared_error: 0.0047\n",
      "Epoch 119/200\n",
      "203/203 [==============================] - 1s 3ms/step - loss: 0.0020 - accuracy: 0.0035 - mean_absolute_error: 0.0319 - mean_squared_error: 0.0020 - val_loss: 0.0048 - val_accuracy: 0.0058 - val_mean_absolute_error: 0.0475 - val_mean_squared_error: 0.0048\n",
      "Epoch 120/200\n",
      "203/203 [==============================] - 1s 3ms/step - loss: 0.0027 - accuracy: 0.0035 - mean_absolute_error: 0.0366 - mean_squared_error: 0.0027 - val_loss: 0.0065 - val_accuracy: 0.0058 - val_mean_absolute_error: 0.0622 - val_mean_squared_error: 0.0065\n",
      "Epoch 121/200\n"
     ]
    },
    {
     "name": "stdout",
     "output_type": "stream",
     "text": [
      "203/203 [==============================] - 1s 3ms/step - loss: 0.0030 - accuracy: 0.0035 - mean_absolute_error: 0.0388 - mean_squared_error: 0.0030 - val_loss: 0.0051 - val_accuracy: 0.0058 - val_mean_absolute_error: 0.0505 - val_mean_squared_error: 0.0051\n",
      "Epoch 122/200\n",
      "203/203 [==============================] - 1s 3ms/step - loss: 0.0022 - accuracy: 0.0035 - mean_absolute_error: 0.0338 - mean_squared_error: 0.0022 - val_loss: 0.0047 - val_accuracy: 0.0058 - val_mean_absolute_error: 0.0478 - val_mean_squared_error: 0.0047\n",
      "Epoch 123/200\n",
      "203/203 [==============================] - 1s 3ms/step - loss: 0.0021 - accuracy: 0.0035 - mean_absolute_error: 0.0324 - mean_squared_error: 0.0021 - val_loss: 0.0052 - val_accuracy: 0.0058 - val_mean_absolute_error: 0.0550 - val_mean_squared_error: 0.0052\n",
      "Epoch 124/200\n",
      "203/203 [==============================] - 1s 4ms/step - loss: 0.0021 - accuracy: 0.0035 - mean_absolute_error: 0.0333 - mean_squared_error: 0.0021 - val_loss: 0.0044 - val_accuracy: 0.0058 - val_mean_absolute_error: 0.0487 - val_mean_squared_error: 0.0044\n",
      "Epoch 125/200\n",
      "203/203 [==============================] - 1s 3ms/step - loss: 0.0022 - accuracy: 0.0035 - mean_absolute_error: 0.0338 - mean_squared_error: 0.0022 - val_loss: 0.0051 - val_accuracy: 0.0058 - val_mean_absolute_error: 0.0530 - val_mean_squared_error: 0.0051\n",
      "Epoch 126/200\n",
      "203/203 [==============================] - 1s 3ms/step - loss: 0.0031 - accuracy: 0.0035 - mean_absolute_error: 0.0391 - mean_squared_error: 0.0031 - val_loss: 0.0052 - val_accuracy: 0.0058 - val_mean_absolute_error: 0.0526 - val_mean_squared_error: 0.0052\n",
      "Epoch 127/200\n",
      "203/203 [==============================] - 1s 3ms/step - loss: 0.0031 - accuracy: 0.0035 - mean_absolute_error: 0.0399 - mean_squared_error: 0.0031 - val_loss: 0.0044 - val_accuracy: 0.0058 - val_mean_absolute_error: 0.0482 - val_mean_squared_error: 0.0044\n",
      "Epoch 128/200\n",
      "203/203 [==============================] - 1s 3ms/step - loss: 0.0024 - accuracy: 0.0030 - mean_absolute_error: 0.0341 - mean_squared_error: 0.0024 - val_loss: 0.0042 - val_accuracy: 0.0058 - val_mean_absolute_error: 0.0461 - val_mean_squared_error: 0.0042\n",
      "Epoch 129/200\n",
      "203/203 [==============================] - 1s 3ms/step - loss: 0.0021 - accuracy: 0.0035 - mean_absolute_error: 0.0326 - mean_squared_error: 0.0021 - val_loss: 0.0042 - val_accuracy: 0.0058 - val_mean_absolute_error: 0.0457 - val_mean_squared_error: 0.0042\n",
      "Epoch 130/200\n",
      "203/203 [==============================] - 1s 3ms/step - loss: 0.0021 - accuracy: 0.0035 - mean_absolute_error: 0.0330 - mean_squared_error: 0.0021 - val_loss: 0.0046 - val_accuracy: 0.0058 - val_mean_absolute_error: 0.0471 - val_mean_squared_error: 0.0046\n",
      "Epoch 131/200\n",
      "203/203 [==============================] - 1s 3ms/step - loss: 0.0019 - accuracy: 0.0035 - mean_absolute_error: 0.0311 - mean_squared_error: 0.0019 - val_loss: 0.0048 - val_accuracy: 0.0058 - val_mean_absolute_error: 0.0489 - val_mean_squared_error: 0.0048\n",
      "Epoch 132/200\n",
      "203/203 [==============================] - 1s 3ms/step - loss: 0.0020 - accuracy: 0.0035 - mean_absolute_error: 0.0325 - mean_squared_error: 0.0020 - val_loss: 0.0046 - val_accuracy: 0.0058 - val_mean_absolute_error: 0.0484 - val_mean_squared_error: 0.0046\n",
      "Epoch 133/200\n",
      "203/203 [==============================] - 1s 3ms/step - loss: 0.0018 - accuracy: 0.0035 - mean_absolute_error: 0.0305 - mean_squared_error: 0.0018 - val_loss: 0.0041 - val_accuracy: 0.0058 - val_mean_absolute_error: 0.0435 - val_mean_squared_error: 0.0041\n",
      "Epoch 134/200\n",
      "203/203 [==============================] - 1s 3ms/step - loss: 0.0028 - accuracy: 0.0035 - mean_absolute_error: 0.0367 - mean_squared_error: 0.0028 - val_loss: 0.0046 - val_accuracy: 0.0058 - val_mean_absolute_error: 0.0493 - val_mean_squared_error: 0.0046\n",
      "Epoch 135/200\n",
      "203/203 [==============================] - 1s 3ms/step - loss: 0.0022 - accuracy: 0.0035 - mean_absolute_error: 0.0332 - mean_squared_error: 0.0022 - val_loss: 0.0044 - val_accuracy: 0.0058 - val_mean_absolute_error: 0.0470 - val_mean_squared_error: 0.0044\n",
      "Epoch 136/200\n",
      "203/203 [==============================] - 1s 4ms/step - loss: 0.0024 - accuracy: 0.0035 - mean_absolute_error: 0.0348 - mean_squared_error: 0.0024 - val_loss: 0.0040 - val_accuracy: 0.0058 - val_mean_absolute_error: 0.0434 - val_mean_squared_error: 0.0040\n",
      "Epoch 137/200\n",
      "203/203 [==============================] - 1s 4ms/step - loss: 0.0024 - accuracy: 0.0035 - mean_absolute_error: 0.0346 - mean_squared_error: 0.0024 - val_loss: 0.0042 - val_accuracy: 0.0058 - val_mean_absolute_error: 0.0448 - val_mean_squared_error: 0.0042\n",
      "Epoch 138/200\n",
      "203/203 [==============================] - 1s 5ms/step - loss: 0.0020 - accuracy: 0.0035 - mean_absolute_error: 0.0322 - mean_squared_error: 0.0020 - val_loss: 0.0040 - val_accuracy: 0.0058 - val_mean_absolute_error: 0.0442 - val_mean_squared_error: 0.0040\n",
      "Epoch 139/200\n",
      "203/203 [==============================] - 1s 4ms/step - loss: 0.0018 - accuracy: 0.0035 - mean_absolute_error: 0.0297 - mean_squared_error: 0.0018 - val_loss: 0.0047 - val_accuracy: 0.0058 - val_mean_absolute_error: 0.0506 - val_mean_squared_error: 0.0047\n",
      "Epoch 140/200\n",
      "203/203 [==============================] - 1s 4ms/step - loss: 0.0027 - accuracy: 0.0035 - mean_absolute_error: 0.0363 - mean_squared_error: 0.0027 - val_loss: 0.0051 - val_accuracy: 0.0058 - val_mean_absolute_error: 0.0510 - val_mean_squared_error: 0.0051\n",
      "Epoch 141/200\n",
      "203/203 [==============================] - 1s 3ms/step - loss: 0.0020 - accuracy: 0.0035 - mean_absolute_error: 0.0317 - mean_squared_error: 0.0020 - val_loss: 0.0042 - val_accuracy: 0.0058 - val_mean_absolute_error: 0.0436 - val_mean_squared_error: 0.0042\n",
      "Epoch 142/200\n",
      "203/203 [==============================] - 1s 3ms/step - loss: 0.0018 - accuracy: 0.0035 - mean_absolute_error: 0.0307 - mean_squared_error: 0.0018 - val_loss: 0.0047 - val_accuracy: 0.0058 - val_mean_absolute_error: 0.0492 - val_mean_squared_error: 0.0047\n",
      "Epoch 143/200\n",
      "203/203 [==============================] - 1s 3ms/step - loss: 0.0018 - accuracy: 0.0035 - mean_absolute_error: 0.0301 - mean_squared_error: 0.0018 - val_loss: 0.0043 - val_accuracy: 0.0058 - val_mean_absolute_error: 0.0442 - val_mean_squared_error: 0.0043\n",
      "Epoch 144/200\n",
      "203/203 [==============================] - 1s 3ms/step - loss: 0.0017 - accuracy: 0.0035 - mean_absolute_error: 0.0287 - mean_squared_error: 0.0017 - val_loss: 0.0047 - val_accuracy: 0.0058 - val_mean_absolute_error: 0.0470 - val_mean_squared_error: 0.0047\n",
      "Epoch 145/200\n",
      "203/203 [==============================] - 1s 3ms/step - loss: 0.0025 - accuracy: 0.0035 - mean_absolute_error: 0.0353 - mean_squared_error: 0.0025 - val_loss: 0.0041 - val_accuracy: 0.0058 - val_mean_absolute_error: 0.0456 - val_mean_squared_error: 0.0041\n",
      "Epoch 146/200\n",
      "203/203 [==============================] - 1s 3ms/step - loss: 0.0019 - accuracy: 0.0035 - mean_absolute_error: 0.0314 - mean_squared_error: 0.0019 - val_loss: 0.0054 - val_accuracy: 0.0058 - val_mean_absolute_error: 0.0542 - val_mean_squared_error: 0.0054\n",
      "Epoch 147/200\n",
      "203/203 [==============================] - 1s 3ms/step - loss: 0.0021 - accuracy: 0.0035 - mean_absolute_error: 0.0329 - mean_squared_error: 0.0021 - val_loss: 0.0045 - val_accuracy: 0.0058 - val_mean_absolute_error: 0.0469 - val_mean_squared_error: 0.0045\n",
      "Epoch 148/200\n",
      "203/203 [==============================] - 1s 3ms/step - loss: 0.0025 - accuracy: 0.0035 - mean_absolute_error: 0.0347 - mean_squared_error: 0.0025 - val_loss: 0.0042 - val_accuracy: 0.0058 - val_mean_absolute_error: 0.0443 - val_mean_squared_error: 0.0042\n",
      "Epoch 149/200\n",
      "203/203 [==============================] - 1s 4ms/step - loss: 0.0025 - accuracy: 0.0035 - mean_absolute_error: 0.0350 - mean_squared_error: 0.0025 - val_loss: 0.0044 - val_accuracy: 0.0058 - val_mean_absolute_error: 0.0474 - val_mean_squared_error: 0.0044\n",
      "Epoch 150/200\n",
      "203/203 [==============================] - 1s 3ms/step - loss: 0.0024 - accuracy: 0.0035 - mean_absolute_error: 0.0346 - mean_squared_error: 0.0024 - val_loss: 0.0067 - val_accuracy: 0.0058 - val_mean_absolute_error: 0.0641 - val_mean_squared_error: 0.0067\n",
      "Epoch 151/200\n",
      "203/203 [==============================] - 1s 3ms/step - loss: 0.0018 - accuracy: 0.0035 - mean_absolute_error: 0.0297 - mean_squared_error: 0.0018 - val_loss: 0.0042 - val_accuracy: 0.0058 - val_mean_absolute_error: 0.0457 - val_mean_squared_error: 0.0042\n",
      "Epoch 152/200\n",
      "203/203 [==============================] - 1s 3ms/step - loss: 0.0016 - accuracy: 0.0035 - mean_absolute_error: 0.0280 - mean_squared_error: 0.0016 - val_loss: 0.0043 - val_accuracy: 0.0058 - val_mean_absolute_error: 0.0442 - val_mean_squared_error: 0.0043\n",
      "Epoch 153/200\n",
      "203/203 [==============================] - 1s 3ms/step - loss: 0.0017 - accuracy: 0.0035 - mean_absolute_error: 0.0291 - mean_squared_error: 0.0017 - val_loss: 0.0053 - val_accuracy: 0.0058 - val_mean_absolute_error: 0.0498 - val_mean_squared_error: 0.0053\n",
      "Epoch 154/200\n",
      "203/203 [==============================] - 1s 3ms/step - loss: 0.0022 - accuracy: 0.0035 - mean_absolute_error: 0.0334 - mean_squared_error: 0.0022 - val_loss: 0.0054 - val_accuracy: 0.0058 - val_mean_absolute_error: 0.0547 - val_mean_squared_error: 0.0054\n",
      "Epoch 155/200\n",
      "203/203 [==============================] - 1s 3ms/step - loss: 0.0016 - accuracy: 0.0035 - mean_absolute_error: 0.0287 - mean_squared_error: 0.0016 - val_loss: 0.0044 - val_accuracy: 0.0058 - val_mean_absolute_error: 0.0449 - val_mean_squared_error: 0.0044\n",
      "Epoch 156/200\n",
      "203/203 [==============================] - 1s 3ms/step - loss: 0.0019 - accuracy: 0.0035 - mean_absolute_error: 0.0311 - mean_squared_error: 0.0019 - val_loss: 0.0045 - val_accuracy: 0.0058 - val_mean_absolute_error: 0.0457 - val_mean_squared_error: 0.0045\n",
      "Epoch 157/200\n",
      "203/203 [==============================] - 1s 3ms/step - loss: 0.0019 - accuracy: 0.0035 - mean_absolute_error: 0.0304 - mean_squared_error: 0.0019 - val_loss: 0.0054 - val_accuracy: 0.0058 - val_mean_absolute_error: 0.0526 - val_mean_squared_error: 0.0054\n",
      "Epoch 158/200\n",
      "203/203 [==============================] - 1s 3ms/step - loss: 0.0017 - accuracy: 0.0035 - mean_absolute_error: 0.0296 - mean_squared_error: 0.0017 - val_loss: 0.0044 - val_accuracy: 0.0058 - val_mean_absolute_error: 0.0473 - val_mean_squared_error: 0.0044\n",
      "Epoch 159/200\n",
      "203/203 [==============================] - 1s 4ms/step - loss: 0.0017 - accuracy: 0.0035 - mean_absolute_error: 0.0296 - mean_squared_error: 0.0017 - val_loss: 0.0063 - val_accuracy: 0.0058 - val_mean_absolute_error: 0.0617 - val_mean_squared_error: 0.0063\n",
      "Epoch 160/200\n",
      "203/203 [==============================] - 1s 4ms/step - loss: 0.0027 - accuracy: 0.0035 - mean_absolute_error: 0.0376 - mean_squared_error: 0.0027 - val_loss: 0.0046 - val_accuracy: 0.0058 - val_mean_absolute_error: 0.0480 - val_mean_squared_error: 0.0046\n",
      "Epoch 161/200\n",
      "203/203 [==============================] - 1s 3ms/step - loss: 0.0018 - accuracy: 0.0035 - mean_absolute_error: 0.0312 - mean_squared_error: 0.0018 - val_loss: 0.0049 - val_accuracy: 0.0058 - val_mean_absolute_error: 0.0477 - val_mean_squared_error: 0.0049\n",
      "Epoch 162/200\n",
      "203/203 [==============================] - 1s 3ms/step - loss: 0.0020 - accuracy: 0.0035 - mean_absolute_error: 0.0309 - mean_squared_error: 0.0020 - val_loss: 0.0044 - val_accuracy: 0.0058 - val_mean_absolute_error: 0.0458 - val_mean_squared_error: 0.0044\n",
      "Epoch 163/200\n",
      "203/203 [==============================] - 1s 3ms/step - loss: 0.0017 - accuracy: 0.0035 - mean_absolute_error: 0.0294 - mean_squared_error: 0.0017 - val_loss: 0.0050 - val_accuracy: 0.0058 - val_mean_absolute_error: 0.0479 - val_mean_squared_error: 0.0050\n",
      "Epoch 164/200\n",
      "203/203 [==============================] - 1s 3ms/step - loss: 0.0019 - accuracy: 0.0035 - mean_absolute_error: 0.0311 - mean_squared_error: 0.0019 - val_loss: 0.0050 - val_accuracy: 0.0058 - val_mean_absolute_error: 0.0463 - val_mean_squared_error: 0.0050\n",
      "Epoch 165/200\n",
      "203/203 [==============================] - 1s 3ms/step - loss: 0.0018 - accuracy: 0.0035 - mean_absolute_error: 0.0305 - mean_squared_error: 0.0018 - val_loss: 0.0047 - val_accuracy: 0.0058 - val_mean_absolute_error: 0.0457 - val_mean_squared_error: 0.0047\n",
      "Epoch 166/200\n",
      "203/203 [==============================] - 1s 3ms/step - loss: 0.0020 - accuracy: 0.0035 - mean_absolute_error: 0.0319 - mean_squared_error: 0.0020 - val_loss: 0.0062 - val_accuracy: 0.0058 - val_mean_absolute_error: 0.0592 - val_mean_squared_error: 0.0062\n",
      "Epoch 167/200\n",
      "203/203 [==============================] - 1s 4ms/step - loss: 0.0016 - accuracy: 0.0035 - mean_absolute_error: 0.0278 - mean_squared_error: 0.0016 - val_loss: 0.0045 - val_accuracy: 0.0058 - val_mean_absolute_error: 0.0445 - val_mean_squared_error: 0.0045\n",
      "Epoch 168/200\n",
      "203/203 [==============================] - 1s 3ms/step - loss: 0.0017 - accuracy: 0.0035 - mean_absolute_error: 0.0285 - mean_squared_error: 0.0017 - val_loss: 0.0045 - val_accuracy: 0.0058 - val_mean_absolute_error: 0.0467 - val_mean_squared_error: 0.0045\n",
      "Epoch 169/200\n",
      "203/203 [==============================] - 1s 3ms/step - loss: 0.0016 - accuracy: 0.0035 - mean_absolute_error: 0.0282 - mean_squared_error: 0.0016 - val_loss: 0.0045 - val_accuracy: 0.0058 - val_mean_absolute_error: 0.0467 - val_mean_squared_error: 0.0045\n",
      "Epoch 170/200\n",
      "203/203 [==============================] - 1s 3ms/step - loss: 0.0020 - accuracy: 0.0035 - mean_absolute_error: 0.0322 - mean_squared_error: 0.0020 - val_loss: 0.0046 - val_accuracy: 0.0058 - val_mean_absolute_error: 0.0455 - val_mean_squared_error: 0.0046\n",
      "Epoch 171/200\n",
      "203/203 [==============================] - 1s 3ms/step - loss: 0.0024 - accuracy: 0.0035 - mean_absolute_error: 0.0332 - mean_squared_error: 0.0024 - val_loss: 0.0056 - val_accuracy: 0.0058 - val_mean_absolute_error: 0.0527 - val_mean_squared_error: 0.0056\n",
      "Epoch 172/200\n",
      "203/203 [==============================] - 1s 3ms/step - loss: 0.0024 - accuracy: 0.0035 - mean_absolute_error: 0.0333 - mean_squared_error: 0.0024 - val_loss: 0.0041 - val_accuracy: 0.0058 - val_mean_absolute_error: 0.0437 - val_mean_squared_error: 0.0041\n",
      "Epoch 173/200\n",
      "203/203 [==============================] - 1s 3ms/step - loss: 0.0017 - accuracy: 0.0035 - mean_absolute_error: 0.0291 - mean_squared_error: 0.0017 - val_loss: 0.0044 - val_accuracy: 0.0058 - val_mean_absolute_error: 0.0447 - val_mean_squared_error: 0.0044\n",
      "Epoch 174/200\n",
      "203/203 [==============================] - 1s 3ms/step - loss: 0.0016 - accuracy: 0.0035 - mean_absolute_error: 0.0283 - mean_squared_error: 0.0016 - val_loss: 0.0046 - val_accuracy: 0.0058 - val_mean_absolute_error: 0.0470 - val_mean_squared_error: 0.0046\n",
      "Epoch 175/200\n",
      "203/203 [==============================] - 1s 3ms/step - loss: 0.0018 - accuracy: 0.0035 - mean_absolute_error: 0.0301 - mean_squared_error: 0.0018 - val_loss: 0.0048 - val_accuracy: 0.0058 - val_mean_absolute_error: 0.0486 - val_mean_squared_error: 0.0048\n",
      "Epoch 176/200\n",
      "203/203 [==============================] - 1s 3ms/step - loss: 0.0017 - accuracy: 0.0035 - mean_absolute_error: 0.0291 - mean_squared_error: 0.0017 - val_loss: 0.0045 - val_accuracy: 0.0058 - val_mean_absolute_error: 0.0442 - val_mean_squared_error: 0.0045\n",
      "Epoch 177/200\n",
      "203/203 [==============================] - 1s 3ms/step - loss: 0.0016 - accuracy: 0.0035 - mean_absolute_error: 0.0283 - mean_squared_error: 0.0016 - val_loss: 0.0046 - val_accuracy: 0.0058 - val_mean_absolute_error: 0.0451 - val_mean_squared_error: 0.0046\n",
      "Epoch 178/200\n",
      "203/203 [==============================] - 1s 3ms/step - loss: 0.0016 - accuracy: 0.0035 - mean_absolute_error: 0.0284 - mean_squared_error: 0.0016 - val_loss: 0.0041 - val_accuracy: 0.0058 - val_mean_absolute_error: 0.0430 - val_mean_squared_error: 0.0041\n",
      "Epoch 179/200\n",
      "203/203 [==============================] - 1s 3ms/step - loss: 0.0016 - accuracy: 0.0035 - mean_absolute_error: 0.0280 - mean_squared_error: 0.0016 - val_loss: 0.0042 - val_accuracy: 0.0058 - val_mean_absolute_error: 0.0447 - val_mean_squared_error: 0.0042\n",
      "Epoch 180/200\n",
      "203/203 [==============================] - 1s 5ms/step - loss: 0.0017 - accuracy: 0.0035 - mean_absolute_error: 0.0290 - mean_squared_error: 0.0017 - val_loss: 0.0057 - val_accuracy: 0.0058 - val_mean_absolute_error: 0.0518 - val_mean_squared_error: 0.0057\n",
      "Epoch 181/200\n"
     ]
    },
    {
     "name": "stdout",
     "output_type": "stream",
     "text": [
      "203/203 [==============================] - 1s 5ms/step - loss: 0.0018 - accuracy: 0.0035 - mean_absolute_error: 0.0294 - mean_squared_error: 0.0018 - val_loss: 0.0046 - val_accuracy: 0.0058 - val_mean_absolute_error: 0.0473 - val_mean_squared_error: 0.0046\n",
      "Epoch 182/200\n",
      "203/203 [==============================] - 1s 3ms/step - loss: 0.0030 - accuracy: 0.0035 - mean_absolute_error: 0.0380 - mean_squared_error: 0.0030 - val_loss: 0.0049 - val_accuracy: 0.0058 - val_mean_absolute_error: 0.0497 - val_mean_squared_error: 0.0049\n",
      "Epoch 183/200\n",
      "203/203 [==============================] - 1s 3ms/step - loss: 0.0023 - accuracy: 0.0035 - mean_absolute_error: 0.0333 - mean_squared_error: 0.0023 - val_loss: 0.0048 - val_accuracy: 0.0058 - val_mean_absolute_error: 0.0505 - val_mean_squared_error: 0.0048\n",
      "Epoch 184/200\n",
      "203/203 [==============================] - 1s 3ms/step - loss: 0.0020 - accuracy: 0.0035 - mean_absolute_error: 0.0307 - mean_squared_error: 0.0020 - val_loss: 0.0046 - val_accuracy: 0.0058 - val_mean_absolute_error: 0.0491 - val_mean_squared_error: 0.0046\n",
      "Epoch 185/200\n",
      "203/203 [==============================] - 1s 3ms/step - loss: 0.0016 - accuracy: 0.0035 - mean_absolute_error: 0.0273 - mean_squared_error: 0.0016 - val_loss: 0.0046 - val_accuracy: 0.0058 - val_mean_absolute_error: 0.0460 - val_mean_squared_error: 0.0046\n",
      "Epoch 186/200\n",
      "203/203 [==============================] - 1s 3ms/step - loss: 0.0013 - accuracy: 0.0035 - mean_absolute_error: 0.0257 - mean_squared_error: 0.0013 - val_loss: 0.0052 - val_accuracy: 0.0058 - val_mean_absolute_error: 0.0526 - val_mean_squared_error: 0.0052\n",
      "Epoch 187/200\n",
      "203/203 [==============================] - 1s 3ms/step - loss: 0.0015 - accuracy: 0.0035 - mean_absolute_error: 0.0274 - mean_squared_error: 0.0015 - val_loss: 0.0045 - val_accuracy: 0.0058 - val_mean_absolute_error: 0.0471 - val_mean_squared_error: 0.0045\n",
      "Epoch 188/200\n",
      "203/203 [==============================] - 1s 3ms/step - loss: 0.0014 - accuracy: 0.0035 - mean_absolute_error: 0.0265 - mean_squared_error: 0.0014 - val_loss: 0.0048 - val_accuracy: 0.0058 - val_mean_absolute_error: 0.0467 - val_mean_squared_error: 0.0048\n",
      "Epoch 189/200\n",
      "203/203 [==============================] - 1s 3ms/step - loss: 0.0018 - accuracy: 0.0035 - mean_absolute_error: 0.0294 - mean_squared_error: 0.0018 - val_loss: 0.0041 - val_accuracy: 0.0058 - val_mean_absolute_error: 0.0432 - val_mean_squared_error: 0.0041\n",
      "Epoch 190/200\n",
      "203/203 [==============================] - 1s 3ms/step - loss: 0.0014 - accuracy: 0.0035 - mean_absolute_error: 0.0263 - mean_squared_error: 0.0014 - val_loss: 0.0040 - val_accuracy: 0.0058 - val_mean_absolute_error: 0.0418 - val_mean_squared_error: 0.0040\n",
      "Epoch 191/200\n",
      "203/203 [==============================] - 1s 3ms/step - loss: 0.0013 - accuracy: 0.0035 - mean_absolute_error: 0.0253 - mean_squared_error: 0.0013 - val_loss: 0.0049 - val_accuracy: 0.0058 - val_mean_absolute_error: 0.0486 - val_mean_squared_error: 0.0049\n",
      "Epoch 192/200\n",
      "203/203 [==============================] - 1s 3ms/step - loss: 0.0014 - accuracy: 0.0035 - mean_absolute_error: 0.0258 - mean_squared_error: 0.0014 - val_loss: 0.0040 - val_accuracy: 0.0058 - val_mean_absolute_error: 0.0431 - val_mean_squared_error: 0.0040\n",
      "Epoch 193/200\n",
      "203/203 [==============================] - 1s 3ms/step - loss: 0.0014 - accuracy: 0.0035 - mean_absolute_error: 0.0267 - mean_squared_error: 0.0014 - val_loss: 0.0044 - val_accuracy: 0.0058 - val_mean_absolute_error: 0.0453 - val_mean_squared_error: 0.0044\n",
      "Epoch 194/200\n",
      "203/203 [==============================] - 1s 3ms/step - loss: 0.0015 - accuracy: 0.0035 - mean_absolute_error: 0.0263 - mean_squared_error: 0.0015 - val_loss: 0.0039 - val_accuracy: 0.0058 - val_mean_absolute_error: 0.0415 - val_mean_squared_error: 0.0039\n",
      "Epoch 195/200\n",
      "203/203 [==============================] - 1s 3ms/step - loss: 0.0016 - accuracy: 0.0035 - mean_absolute_error: 0.0274 - mean_squared_error: 0.0016 - val_loss: 0.0049 - val_accuracy: 0.0058 - val_mean_absolute_error: 0.0467 - val_mean_squared_error: 0.0049\n",
      "Epoch 196/200\n",
      "203/203 [==============================] - 1s 3ms/step - loss: 0.0018 - accuracy: 0.0035 - mean_absolute_error: 0.0287 - mean_squared_error: 0.0018 - val_loss: 0.0044 - val_accuracy: 0.0058 - val_mean_absolute_error: 0.0446 - val_mean_squared_error: 0.0044\n",
      "Epoch 197/200\n",
      "203/203 [==============================] - 1s 3ms/step - loss: 0.0012 - accuracy: 0.0035 - mean_absolute_error: 0.0246 - mean_squared_error: 0.0012 - val_loss: 0.0050 - val_accuracy: 0.0058 - val_mean_absolute_error: 0.0515 - val_mean_squared_error: 0.0050\n",
      "Epoch 198/200\n",
      "203/203 [==============================] - 1s 3ms/step - loss: 0.0013 - accuracy: 0.0035 - mean_absolute_error: 0.0250 - mean_squared_error: 0.0013 - val_loss: 0.0041 - val_accuracy: 0.0058 - val_mean_absolute_error: 0.0422 - val_mean_squared_error: 0.0041\n",
      "Epoch 199/200\n",
      "203/203 [==============================] - 1s 3ms/step - loss: 0.0013 - accuracy: 0.0035 - mean_absolute_error: 0.0266 - mean_squared_error: 0.0013 - val_loss: 0.0049 - val_accuracy: 0.0058 - val_mean_absolute_error: 0.0482 - val_mean_squared_error: 0.0049\n",
      "Epoch 200/200\n",
      "203/203 [==============================] - 1s 3ms/step - loss: 0.0014 - accuracy: 0.0035 - mean_absolute_error: 0.0262 - mean_squared_error: 0.0014 - val_loss: 0.0044 - val_accuracy: 0.0058 - val_mean_absolute_error: 0.0447 - val_mean_squared_error: 0.0044\n"
     ]
    }
   ],
   "source": [
    "history = model.fit(X_train, y_train, epochs=200, batch_size=10, validation_data = (X_test,y_test))"
   ]
  },
  {
   "cell_type": "markdown",
   "metadata": {},
   "source": [
    "## 5.2 Train the model"
   ]
  },
  {
   "cell_type": "code",
   "execution_count": 314,
   "metadata": {},
   "outputs": [],
   "source": [
    "##---------Type the code below this line------------------##"
   ]
  },
  {
   "cell_type": "markdown",
   "metadata": {},
   "source": [
    "Justify your choice of optimizers and regulizations used and the hyperparameters tuned\n",
    "\n",
    "Score: 4 Marks"
   ]
  },
  {
   "cell_type": "markdown",
   "metadata": {},
   "source": [
    "##---------Type the answers below this line------------------##<br>\n",
    "<span style=\"font-size:15px; color:Green\">We have used the 'adam' optimzer, becuase it:- <br>\n",
    "The method is too fast and converges rapidly.<br>\n",
    "Rectifies vanishing learning rate, high variance.<br>\n",
    "To put it in simple terms:-<br>\n",
    "The results of the Adam optimizer are generally better than every other optimization algorithms, have faster computation time, and require fewer parameters for tuning. Because of all that, Adam is recommended as the default optimizer for most of the applications.</span>"
   ]
  },
  {
   "cell_type": "markdown",
   "metadata": {
    "id": "06f1173c"
   },
   "source": [
    "# 6. Test the model\n",
    "\n",
    "Score: 2 Marks"
   ]
  },
  {
   "cell_type": "code",
   "execution_count": 315,
   "metadata": {
    "id": "7042235d"
   },
   "outputs": [],
   "source": [
    "##---------Type the code below this line------------------##"
   ]
  },
  {
   "cell_type": "code",
   "execution_count": 316,
   "metadata": {},
   "outputs": [
    {
     "name": "stdout",
     "output_type": "stream",
     "text": [
      "28/28 [==============================] - 0s 1ms/step\n",
      "28/28 [==============================] - 0s 2ms/step - loss: 0.0044 - accuracy: 0.0058 - mean_absolute_error: 0.0447 - mean_squared_error: 0.0044\n"
     ]
    },
    {
     "data": {
      "text/plain": [
       "[0.004438063595443964,\n",
       " 0.005767012480646372,\n",
       " 0.044706881046295166,\n",
       " 0.004438063595443964]"
      ]
     },
     "execution_count": 316,
     "metadata": {},
     "output_type": "execute_result"
    }
   ],
   "source": [
    "test_predictions = model.predict(X_test)\n",
    "model.evaluate(X_test,y_test)"
   ]
  },
  {
   "cell_type": "code",
   "execution_count": 317,
   "metadata": {},
   "outputs": [
    {
     "name": "stdout",
     "output_type": "stream",
     "text": [
      "The R^2 Score for ANN is:- \n",
      "0.8668267340112962 \n",
      "\n",
      "The mean-squared-error for ANN  is:- \n",
      "0.004438063288445694 \n",
      "\n",
      "The mean-absolute-error for ANN is:- \n",
      "0.04470688163039352 \n",
      "\n"
     ]
    }
   ],
   "source": [
    "print(\"The R^2 Score for ANN is:- \")\n",
    "score=r2_score(y_test , test_predictions)\n",
    "print(score,\"\\n\")\n",
    "\n",
    "\n",
    "print(\"The mean-squared-error for ANN  is:- \")\n",
    "print(mean_squared_error(test_predictions,y_test),\"\\n\")\n",
    "\n",
    "print(\"The mean-absolute-error for ANN is:- \")\n",
    "print(mean_absolute_error(test_predictions,y_test),\"\\n\")\n",
    "                         \n",
    " "
   ]
  },
  {
   "cell_type": "markdown",
   "metadata": {
    "id": "eb57940c"
   },
   "source": [
    "## 7. Conclusion \n",
    "\n",
    "Plot the training and validation loss\n",
    "Report the testing accuracy and loss.\n",
    "\n",
    "Report values for preformance study metrics like accuracy, precision, recall, F1 Score.\n",
    "\n",
    "A proper comparision based on different metrics should be done and not just accuracy alone, only then the comparision becomes authentic. You may use Confusion matrix, classification report, MAE etc per the requirement of your application/problem.\n",
    "\n",
    "Score 2 Marks"
   ]
  },
  {
   "cell_type": "code",
   "execution_count": 277,
   "metadata": {},
   "outputs": [
    {
     "name": "stdout",
     "output_type": "stream",
     "text": [
      "dict_keys(['loss', 'accuracy', 'mean_absolute_error', 'mean_squared_error', 'val_loss', 'val_accuracy', 'val_mean_absolute_error', 'val_mean_squared_error'])\n"
     ]
    }
   ],
   "source": [
    "# list all data in history\n",
    "print(history.history.keys())"
   ]
  },
  {
   "cell_type": "code",
   "execution_count": 278,
   "metadata": {},
   "outputs": [
    {
     "data": {
      "image/png": "[encoded data removed]",
      "text/plain": [
       "<Figure size 432x288 with 1 Axes>"
      ]
     },
     "metadata": {
      "needs_background": "light"
     },
     "output_type": "display_data"
    }
   ],
   "source": [
    "# summarize history for accuracy\n",
    "plt.plot(history.history['accuracy'])\n",
    "plt.plot(history.history['val_accuracy'])\n",
    "plt.title('model accuracy')\n",
    "plt.ylabel('accuracy')\n",
    "plt.xlabel('epoch')\n",
    "plt.legend(['train', 'test'], loc='upper left')\n",
    "plt.show()"
   ]
  },
  {
   "cell_type": "code",
   "execution_count": 279,
   "metadata": {},
   "outputs": [
    {
     "data": {
      "image/png": "[encoded data removed]",
      "text/plain": [
       "<Figure size 432x288 with 1 Axes>"
      ]
     },
     "metadata": {
      "needs_background": "light"
     },
     "output_type": "display_data"
    }
   ],
   "source": [
    "# summarize history for loss\n",
    "plt.plot(history.history['loss'])\n",
    "plt.plot(history.history['val_loss'])\n",
    "plt.title('model loss')\n",
    "plt.ylabel('loss')\n",
    "plt.xlabel('epoch')\n",
    "plt.legend(['train', 'test'], loc='upper left')\n",
    "plt.show()"
   ]
  },
  {
   "cell_type": "markdown",
   "metadata": {
    "id": "9bf06eb1"
   },
   "source": [
    "##---------Type the code below this line------------------##<br>\n",
    "<span style=\"font-size:15px; color:Green\">Note that the accuracy or the 'R^2' scores and the losses have been mnetioned above; after every model outputs. <br>\n",
    " The confusion matrix and all the above metrics:- like accuracy, precision, recall, F1 Score. are calculated below.</span>"
   ]
  },
  {
   "cell_type": "code",
   "execution_count": 280,
   "metadata": {},
   "outputs": [],
   "source": [
    "# from sklearn.metrics import confusion_matrix, plot_confusion_matrix, plot_precision_recall_curve, plot_roc_curve\n",
    "# confusion_matrix(y_true=y_test, y_pred=test_predictions)"
   ]
  },
  {
   "cell_type": "code",
   "execution_count": 281,
   "metadata": {},
   "outputs": [],
   "source": [
    "# clf.score(test_predictions, y_test)"
   ]
  },
  {
   "cell_type": "code",
   "execution_count": 282,
   "metadata": {},
   "outputs": [
    {
     "data": {
      "text/plain": [
       "array([[0.73863167],\n",
       "       [0.39973927],\n",
       "       [0.7230025 ],\n",
       "       [0.5699056 ],\n",
       "       [0.23480144]], dtype=float32)"
      ]
     },
     "execution_count": 282,
     "metadata": {},
     "output_type": "execute_result"
    }
   ],
   "source": [
    "test_predictions[:5]"
   ]
  },
  {
   "cell_type": "code",
   "execution_count": 283,
   "metadata": {},
   "outputs": [],
   "source": [
    "cutoff = 0.7                              # decide on a cutoff limit\n",
    "y_pred_classes = np.zeros_like(test_predictions)    # initialise a matrix full with zeros\n",
    "y_pred_classes[test_predictions > cutoff] = 1       # add a 1 if the cutoff was breached"
   ]
  },
  {
   "cell_type": "code",
   "execution_count": 284,
   "metadata": {},
   "outputs": [
    {
     "data": {
      "text/plain": [
       "array([[1.],\n",
       "       [0.],\n",
       "       [1.],\n",
       "       [0.],\n",
       "       [0.]], dtype=float32)"
      ]
     },
     "execution_count": 284,
     "metadata": {},
     "output_type": "execute_result"
    }
   ],
   "source": [
    "y_pred_classes[:5]"
   ]
  },
  {
   "cell_type": "code",
   "execution_count": 285,
   "metadata": {},
   "outputs": [
    {
     "data": {
      "text/plain": [
       "1157    0.724858\n",
       "1754    0.404175\n",
       "2156    0.730550\n",
       "298     0.544592\n",
       "488     0.328273\n",
       "Name: 0, dtype: float64"
      ]
     },
     "execution_count": 285,
     "metadata": {},
     "output_type": "execute_result"
    }
   ],
   "source": [
    "y_test[:5]"
   ]
  },
  {
   "cell_type": "code",
   "execution_count": 286,
   "metadata": {},
   "outputs": [
    {
     "data": {
      "text/plain": [
       "array([1., 0., 1., 0., 0.])"
      ]
     },
     "execution_count": 286,
     "metadata": {},
     "output_type": "execute_result"
    }
   ],
   "source": [
    "#you have to do the same for the actual values too:\n",
    "\n",
    "y_test_classes = np.zeros_like(y_test)\n",
    "y_test_classes[y_test > cutoff] = 1\n",
    "y_test_classes[:5]"
   ]
  },
  {
   "cell_type": "code",
   "execution_count": 287,
   "metadata": {},
   "outputs": [
    {
     "name": "stdout",
     "output_type": "stream",
     "text": [
      "  TP.  FN\n",
      "  FP   TN\n",
      "[[445  54]\n",
      " [ 61 307]]\n",
      "Accuracy:-  0.8673587081891581\n",
      "precision:-  0.8794466403162056\n",
      "recall:- 0.5917553191489362\n",
      "F1 Score.:- 0.7074721780604134\n"
     ]
    }
   ],
   "source": [
    "print(\"  TP.  FN\")\n",
    "print(\"  FP   TN\")\n",
    "x=confusion_matrix(y_test_classes, y_pred_classes)\n",
    "print(x)\n",
    "TP=x[0][0]\n",
    "FN=x[0][1]\n",
    "FP=x[1][0]\n",
    "TN=x[1][1]\n",
    "print(\"Accuracy:- \",((TP+TN)/(TP+FP+FN+TN)))\n",
    "print(\"precision:- \",TP/(TP+FP))\n",
    "print(\"recall:-\",TP/(TP+TN))\n",
    "print(\"F1 Score.:-\",2 * ( (TP/(TP+FP)) * (TP/(TP+TN)) ) / ( (TP/(TP+FP)) + (TP/(TP+TN)) ) )"
   ]
  },
  {
   "cell_type": "markdown",
   "metadata": {
    "id": "79ed0137"
   },
   "source": [
    "## 8. Solution\n",
    "\n",
    "What is the solution that is proposed to solve the business problem discussed in Section 1. Also share your learnings while working through solving the problem in terms of challenges, observations, decisions made etc.\n",
    "\n",
    "Score 2 Marks"
   ]
  },
  {
   "cell_type": "raw",
   "metadata": {
    "id": "3f2680b2"
   },
   "source": [
    "##---------Type the answers below this line------------------##"
   ]
  },
  {
   "cell_type": "markdown",
   "metadata": {},
   "source": [
    "<span style=\"font-size:15px; color:Green\">\n",
    "1. The prediction of Life Expentency out of all the parameters/factors is calculate dusing a regression approach.<br><br>\n",
    "2. Note that we had used multiple regression techniques; and the ones which gave us the best values are ExtraTreesRegressor and RandomForestRegressors, followed by the ANN.<br><br>\n",
    "3. Note that there were no duplicates and for the null records; we have checked the percentages of null/NAN values for those entire columns; and the ones with less than 2% null value records have been removed/deleted and for the remaining, they were replaced with the median values. <br><br>.\n",
    "4. There were two columns which were of categorical types; and it would a challenge to use those for regression as well. Hence we had converted them into individual numeric columns using get_dummies.<br><br>..\n",
    "5. We have tried with 100 epochs, later increased it to 200; also for the hidden layers; we had initially intorduced 45 nodes, later increased that to 64. Also the number of hidden layers were 5 initially which was increased to 7 for better accuracy.    <br><br>\n",
    "6. One drawback is the size of the dataset which could have been more.    \n",
    "</span>"
   ]
  },
  {
   "cell_type": "markdown",
   "metadata": {
    "id": "RcDDQlfbZQ7E"
   },
   "source": [
    "##NOTE\n",
    "All Late Submissions will incur a penalty of -2 marks. So submit your assignments on time.\n",
    "\n",
    "Good Luck"
   ]
  },
  {
   "cell_type": "code",
   "execution_count": null,
   "metadata": {},
   "outputs": [],
   "source": []
  },
  {
   "cell_type": "code",
   "execution_count": null,
   "metadata": {},
   "outputs": [],
   "source": []
  },
  {
   "cell_type": "code",
   "execution_count": null,
   "metadata": {},
   "outputs": [],
   "source": []
  },
  {
   "cell_type": "code",
   "execution_count": null,
   "metadata": {},
   "outputs": [],
   "source": []
  }
 ],
 "metadata": {
  "colab": {
   "provenance": []
  },
  "kernelspec": {
   "display_name": "Python 3",
   "language": "python",
   "name": "python3"
  },
  "language_info": {
   "codemirror_mode": {
    "name": "ipython",
    "version": 3
   },
   "file_extension": ".py",
   "mimetype": "text/x-python",
   "name": "python",
   "nbconvert_exporter": "python",
   "pygments_lexer": "ipython3",
   "version": "3.8.5"
  }
 },
 "nbformat": 4,
 "nbformat_minor": 5
}
